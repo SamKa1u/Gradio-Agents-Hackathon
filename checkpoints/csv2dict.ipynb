{
 "cells": [
  {
   "cell_type": "code",
   "execution_count": 2,
   "id": "initial_id",
   "metadata": {},
   "outputs": [],
   "source": [
    "import os\n",
    "import shutil\n",
    "import pickle\n",
    "import gradio as gr\n",
    "import pandas as pd\n",
    "from config import TEMP_PATH, PKL_FILE_PATH"
   ]
  },
  {
   "cell_type": "code",
   "execution_count": 5,
   "id": "a6af7525-59ca-4a92-8fa5-a1c104849a0e",
   "metadata": {},
   "outputs": [],
   "source": [
    "def process_file(fileobj):\n",
    "    csv_path = TEMP_PATH + os.path.basename(fileobj)\n",
    "    # copy file to path\n",
    "    shutil.copyfile(fileobj.name, csv_path)\n",
    "    return csv_2_dict(csv_path)\n",
    "\n",
    "def csv_2_dict(path):\n",
    "    # read csv as dataframe then drop empties\n",
    "    df = pd.read_csv(path)\n",
    "    df_cleaned = df.dropna()\n",
    "    # convert dataframe to a dictionary and save as pickle file\n",
    "    table_data = df_cleaned.to_dict(orient='list')\n",
    "    print(table_data)\n",
    "    with open(PKL_FILE_PATH, \"wb\") as f:\n",
    "        pickle.dump(table_data, f)"
   ]
  },
  {
   "cell_type": "code",
   "execution_count": 7,
   "id": "2a83e4ae-d0a3-432e-bd8f-fe64b167ff40",
   "metadata": {},
   "outputs": [
    {
     "name": "stdout",
     "output_type": "stream",
     "text": [
      "* Running on local URL:  http://127.0.0.1:7862\n",
      "* To create a public link, set `share=True` in `launch()`.\n"
     ]
    },
    {
     "data": {
      "text/html": [
       "<div><iframe src=\"http://127.0.0.1:7862/\" width=\"100%\" height=\"500\" allow=\"autoplay; camera; microphone; clipboard-read; clipboard-write;\" frameborder=\"0\" allowfullscreen></iframe></div>"
      ],
      "text/plain": [
       "<IPython.core.display.HTML object>"
      ]
     },
     "metadata": {},
     "output_type": "display_data"
    },
    {
     "data": {
      "text/plain": []
     },
     "execution_count": 7,
     "metadata": {},
     "output_type": "execute_result"
    },
    {
     "name": "stdout",
     "output_type": "stream",
     "text": [
      "{'contact_email': ['fake1@fake.com', 'fake2@fake.com', 'fake3@fake.com', 'fake4@fake.com', 'fake5@fake.com', 'fake6@fake.com', 'fake7@fake.com', 'fake8@fake.com', 'fake9@fake.com'], 'name': ['John Smith', 'Lucki Tiller', 'Carter Anne', 'Martin James', 'Kole Adams', 'Marco King', 'Manny holmes', 'Steven Yeun', 'Chance Lutz'], 'camps': [7.0, 4.0, 6.0, 1.0, 5.0, 2.0, 7.0, 1.0, 4.0], 'Owed': [150.0, 100.0, 100.0, 50.0, 50.0, 50.0, 150.0, 50.0, 100.0], 'Paid': [155.0, 75.0, 103.0, 60.0, 55.0, 65.0, 100.0, 50.0, 0.0], 'Balance': [5.0, -25.0, 3.0, 10.0, 5.0, 15.0, -50.0, 0.0, -100.0]}\n"
     ]
    }
   ],
   "source": [
    "demo = gr.Interface(\n",
    "    fn=process_file,\n",
    "    inputs=[\n",
    "        \"file\",\n",
    "    ],\n",
    "    outputs= None,\n",
    "    flagging_mode = \"never\"\n",
    ")\n",
    "demo.launch()"
   ]
  },
  {
   "cell_type": "code",
   "execution_count": 8,
   "id": "7edc555f-a5a0-44f6-acda-82d936e5af83",
   "metadata": {},
   "outputs": [
    {
     "data": {
      "text/plain": [
       "<function gradio.interface.close_all(verbose: 'bool' = True) -> 'None'>"
      ]
     },
     "execution_count": 8,
     "metadata": {},
     "output_type": "execute_result"
    }
   ],
   "source": [
    "gr.close_all"
   ]
  },
  {
   "cell_type": "code",
   "execution_count": null,
   "id": "6555a9bc-1f2d-41b7-9a24-d22d579edd90",
   "metadata": {},
   "outputs": [],
   "source": []
  }
 ],
 "metadata": {
  "kernelspec": {
   "display_name": "Python 3 (ipykernel)",
   "language": "python",
   "name": "python3"
  },
  "language_info": {
   "codemirror_mode": {
    "name": "ipython",
    "version": 3
   },
   "file_extension": ".py",
   "mimetype": "text/x-python",
   "name": "python",
   "nbconvert_exporter": "python",
   "pygments_lexer": "ipython3",
   "version": "3.11.9"
  }
 },
 "nbformat": 4,
 "nbformat_minor": 5
}
