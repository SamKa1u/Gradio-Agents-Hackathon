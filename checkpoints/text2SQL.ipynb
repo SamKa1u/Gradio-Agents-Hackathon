{
 "cells": [
  {
   "cell_type": "code",
   "execution_count": 4,
   "id": "5a3d0935-3599-43e7-ab4f-e0dee19fe7d9",
   "metadata": {},
   "outputs": [
    {
     "name": "stderr",
     "output_type": "stream",
     "text": [
      "D:\\Users\\Sam\\Projects\\GradioAgents\\.venv\\Lib\\site-packages\\tqdm\\auto.py:21: TqdmWarning: IProgress not found. Please update jupyter and ipywidgets. See https://ipywidgets.readthedocs.io/en/stable/user_install.html\n",
      "  from .autonotebook import tqdm as notebook_tqdm\n"
     ]
    }
   ],
   "source": [
    "import os\n",
    "import pickle\n",
    "import shutil\n",
    "import pandas as pd\n",
    "import gradio as gr\n",
    "from config import PATHS\n",
    "from secret_keys import *\n",
    "import gradio as gr\n",
    "from sqlalchemy import (\n",
    "    create_engine,\n",
    "    MetaData,\n",
    "    Table,\n",
    "    Column,\n",
    "    String,\n",
    "    Integer,\n",
    "    Float,\n",
    "    insert,\n",
    "    inspect,\n",
    "    text,\n",
    "    exc,\n",
    ")\n",
    "from smolagents import CodeAgent, InferenceClientModel, tool\n",
    "engine = create_engine(\"sqlite:///agentDB.db\")\n",
    "metadata_obj = MetaData()"
   ]
  },
  {
   "cell_type": "markdown",
   "id": "dcd2eaa1-e7dd-456c-86a5-cccff21e6577",
   "metadata": {},
   "source": [
    "# Define Custom Exception Classes"
   ]
  },
  {
   "cell_type": "code",
   "execution_count": 5,
   "id": "9ef33320-98a2-41ff-a365-e089689b5f7f",
   "metadata": {},
   "outputs": [],
   "source": [
    "class ColumnDataTypeError(Exception):\n",
    "    def __init__(self, num_col, NUM_COL,len_columns, message=\"Number of table data types must match number of uploaded columns and the length of the columns variable in dynamic table\"):\n",
    "        self.num_col = num_col\n",
    "        self.NUM_COL = NUM_COL\n",
    "        self.len_columns = len_columns\n",
    "        super().__init__(message)\n",
    "\n",
    "class TableIntializationError(Exception):\n",
    "    def __init__(self, TABLE_NAME, message=f\"Table '{PATHS.TABLE_NAME}' does not exist.\"):\n",
    "        self.TABLE_NAME = TABLE_NAME\n",
    "        super().__init__(message)"
   ]
  },
  {
   "cell_type": "markdown",
   "id": "3ca87b62-fbc5-4676-a341-f4b0a40de118",
   "metadata": {},
   "source": [
    "# Load Table Data"
   ]
  },
  {
   "cell_type": "code",
   "execution_count": 6,
   "id": "218879d6-63d8-4fd0-ba1d-9328535d78d3",
   "metadata": {},
   "outputs": [],
   "source": [
    "def load_rows():\n",
    "    # load dict from pickle\n",
    "    with open(PATHS.PKL_FILE_PATH, \"rb\") as f:\n",
    "        sql_dict = pickle.load(f)\n",
    "\n",
    "    # collect column names\n",
    "    col_names = list(sql_dict.keys())\n",
    "    num_cols = len(col_names)\n",
    "\n",
    "    # Ensure the dictionary is not empty\n",
    "    if not col_names:\n",
    "        raise ValueError(\"The dictionary is empty.\")\n",
    "        \n",
    "    # collect table rows from dict\n",
    "    num_rows = len(sql_dict[col_names[0]])\n",
    "    rows = []\n",
    "    # Iterate through dict collecting each columns info as a row\n",
    "    for i in range(num_rows):\n",
    "        row = {}\n",
    "        for col in col_names:\n",
    "            value = sql_dict[col][i]\n",
    "            row[col] = value\n",
    "        rows.append(row)\n",
    "    return col_names, rows, num_cols"
   ]
  },
  {
   "cell_type": "markdown",
   "id": "ed18ec3564211abd",
   "metadata": {},
   "source": [
    "#   Setup SQL Environment\n",
    "1. SQL engine initialization"
   ]
  },
  {
   "cell_type": "code",
   "execution_count": 7,
   "id": "239b396934613833",
   "metadata": {
    "ExecuteTime": {
     "end_time": "2025-06-05T02:38:13.298344Z",
     "start_time": "2025-06-05T02:38:13.072934Z"
    }
   },
   "outputs": [],
   "source": [
    "def insert_rows(rows, table, engine = engine):\n",
    "    for row in rows:\n",
    "        stmt = insert(table).values(**row)\n",
    "        with engine.begin() as connection:\n",
    "            connection.execute(stmt)"
   ]
  },
  {
   "cell_type": "markdown",
   "id": "a15ece30-aba4-4fef-8ed4-07c78267989a",
   "metadata": {},
   "source": [
    "2. Dynamic table"
   ]
  },
  {
   "cell_type": "code",
   "execution_count": 19,
   "id": "116c0153-7a37-47cf-9962-e670ddde54e0",
   "metadata": {},
   "outputs": [],
   "source": [
    "def create_dynamic_table(table_name, columns):\n",
    "       table = Table(table_name, metadata_obj, \n",
    "           Column('id', Integer, primary_key=True),\n",
    "           * [Column(name, type_) for name, type_ in columns.items()],\n",
    "           extend_existing=True\n",
    "        )\n",
    "       return table \n",
    "    \n",
    "def update_table(column_type):\n",
    "    #load rows for the table\n",
    "    col_names, rows, num_cols = load_rows()\n",
    "    # split str into list of data types\n",
    "    dataType_list = column_type.split(\",\")\n",
    "    try:\n",
    "        if len(dataType_list) != len(col_names):\n",
    "            raise ValueError()\n",
    "        for i in range(len(dataType_list)):\n",
    "            match dataType_list[i].strip():\n",
    "                case \"String\":\n",
    "                    dataType_list[i] = String\n",
    "                case \"Integer\":\n",
    "                    dataType_list[i] = Integer\n",
    "                case \"Float\":\n",
    "                    dataType_list[i] = Float\n",
    "            if dataType_list[i] != String and dataType_list[i] != Float and dataType_list[i] != Integer:\n",
    "                raise TypeError()\n",
    "    except TypeError as e:\n",
    "        return f\"A data type you entered was invalid.\"\n",
    "    except ValueError as e:\n",
    "        return f\"{e}. Number of data types ({len(dataType_list)}) does not match number of columns ({len(col_names)}).\"\n",
    "    \n",
    "    # Dynamically create the columns dictionary\n",
    "    columns = {\n",
    "        col_name: dataType_list[i]  # Map column name to data type by index\n",
    "        for i, col_name in enumerate(col_names)\n",
    "    }\n",
    "    print(columns)\n",
    "    len_cols = len(columns)\n",
    "    dynamic_table = create_dynamic_table(PATHS.TABLE_NAME, columns)\n",
    "    metadata_obj.create_all(engine)\n",
    "    \n",
    "    try:   \n",
    "        insert_rows(rows, dynamic_table)\n",
    "    except exc.CompileError as e:\n",
    "        return (f\"{e}.\") \n",
    "    except exc.OperationalError as e:\n",
    "        return (f\"{e}. agentDB has already had it's schema defined.\")\n",
    "    return \"Row insertion succesful\"\n",
    "# column_type = \"Integer, Integer, Integer, Integer, Integer, String, String, String, String, String, Integer, String, String\"\n",
    "# update_table(column_type)"
   ]
  },
  {
   "cell_type": "markdown",
   "id": "9a7c7892cbd9e1b3",
   "metadata": {},
   "source": [
    "#   Agent Setup\n",
    "1.  Make SQL table retrievable by a tool"
   ]
  },
  {
   "cell_type": "code",
   "execution_count": 22,
   "id": "56fccd2159a438ae",
   "metadata": {
    "ExecuteTime": {
     "end_time": "2025-06-05T02:38:20.837437Z",
     "start_time": "2025-06-05T02:38:20.832761Z"
    }
   },
   "outputs": [
    {
     "data": {
      "text/plain": [
       "'Columns:\\n - id: INTEGER\\n - price: INTEGER\\n - area: INTEGER\\n - bedrooms: INTEGER\\n - bathrooms: INTEGER\\n - stories: INTEGER\\n - mainroad: VARCHAR\\n - guestroom: VARCHAR\\n - basement: VARCHAR\\n - hotwaterheating: VARCHAR\\n - airconditioning: VARCHAR\\n - parking: INTEGER\\n - prefarea: VARCHAR\\n - furnishingstatus: VARCHAR'"
      ]
     },
     "execution_count": 22,
     "metadata": {},
     "output_type": "execute_result"
    }
   ],
   "source": [
    "def table_description():\n",
    "    inspector = inspect(engine)\n",
    "    try:\n",
    "        columns_info = [(col[\"name\"], col[\"type\"]) for col in inspector.get_columns(PATHS.TABLE_NAME)]\n",
    "        \n",
    "        table_description = \"Columns:\\n\" + \"\\n\".join([f\" - {name}: {col_type}\" for name, col_type in columns_info])\n",
    "    except exc.NoSuchTableError as e:\n",
    "        return f\"NoSuchTableError: {e}. The referenced table does not exist.\"\n",
    "    return table_description\n",
    "table_description()"
   ]
  },
  {
   "cell_type": "markdown",
   "id": "0319ed00-67c2-4736-9b98-ed5e6748e0eb",
   "metadata": {},
   "source": [
    "2. Error checking tools"
   ]
  },
  {
   "cell_type": "code",
   "execution_count": 11,
   "id": "9c9f5c3f-90ff-4cf5-8c8f-2f1d6ebfcb92",
   "metadata": {},
   "outputs": [],
   "source": [
    "def table_check()-> str:\n",
    "    \"\"\"\n",
    "    Verify the table exists. Returns a string which will say if the table exists or not.\n",
    "        Args:\n",
    "            None\n",
    "        \"\"\"\n",
    "    try:\n",
    "        inspector = inspect(engine)\n",
    "        if inspector.has_table(PATHS.TABLE_NAME):\n",
    "            return f\"Table '{PATHS.TABLE_NAME}' exists.\"\n",
    "        else:\n",
    "            raise exc.NoSuchTableError() \n",
    "    except exc.NoSuchTableError as e:\n",
    "        return f\"NoSuchTableError: {e} The referenced table does not exist.\""
   ]
  },
  {
   "cell_type": "markdown",
   "id": "7536403b186ee12",
   "metadata": {},
   "source": [
    "3.  SQL Tool"
   ]
  },
  {
   "cell_type": "code",
   "execution_count": 12,
   "id": "198246356c93d3f3",
   "metadata": {
    "ExecuteTime": {
     "end_time": "2025-06-05T02:38:29.523113Z",
     "start_time": "2025-06-05T02:38:28.625102Z"
    }
   },
   "outputs": [],
   "source": [
    "@tool\n",
    "def sql_engine(query: str) -> str:\n",
    "    \"\"\"\n",
    "    Allows you to perform SQL queries on the table. Returns a string representation of the result.\n",
    "        The Table is named agent_table. \n",
    "        Args:\n",
    "            query: The query to be performed on the table. This should always be correct SQL.\n",
    "        \"\"\"\n",
    "    output = \"\"\n",
    "    \n",
    "    with engine.begin() as con:\n",
    "        try:\n",
    "            rows = con.execution_options(autocommit=True).execute(text(query))\n",
    "            if not rows:\n",
    "                return \"No rows found, include the `RETURNING` keyword to ensure the result object always returns rows.\"\n",
    "            else:\n",
    "                for row in rows:\n",
    "                    output += str(row) + \"\\n\"\n",
    "        except exc.SQLAlchemyError as e:\n",
    "            return f\"{e}. Include the `RETURNING` keyword to ensure the result object always returns rows.\"   \n",
    "    return output"
   ]
  },
  {
   "cell_type": "markdown",
   "id": "677f7074-c3e7-449d-a2a6-ea6483c963e6",
   "metadata": {},
   "source": [
    "4. Perform a Query for Debugging"
   ]
  },
  {
   "cell_type": "code",
   "execution_count": 11,
   "id": "68f2a3bc-3df1-4ae6-9bc0-3b8ad701708c",
   "metadata": {},
   "outputs": [],
   "source": [
    "# # sql_engine(f\"UPDATE {PATHS.TABLE_NAME} SET Paid = Paid - 5 WHERE name = 'John Smith';\")\n",
    "# # sql_engine(\"SELECT * FROM {PATHS.TABLE_NAME} WHERE name = 'John Smith';\")\n",
    "# result = sql_engine(query=\"SELECT * FROM {PATHS.TABLE_NAME};\")                                      \n",
    "# print(result)          "
   ]
  },
  {
   "cell_type": "markdown",
   "id": "274596c8db77e75a",
   "metadata": {},
   "source": [
    "5.  Agent Initialization"
   ]
  },
  {
   "cell_type": "code",
   "execution_count": 13,
   "id": "373f1f73dc17dad7",
   "metadata": {
    "ExecuteTime": {
     "end_time": "2025-06-05T02:39:20.155127Z",
     "start_time": "2025-06-05T02:39:20.129707Z"
    }
   },
   "outputs": [],
   "source": [
    "# model initialization \\\n",
    "def agent_setup():\n",
    "    sql_model = InferenceClientModel(\n",
    "            api_key= NEBIUS_API_KEY,\n",
    "            model_id= \"Qwen/Qwen3-235B-A22B\", #Qwen/Qwen3-4B\n",
    "            provider = \"nebius\",\n",
    "        )\n",
    "    \n",
    "    # define SQL Agent\n",
    "    sql_agent = CodeAgent(\n",
    "        tools = [sql_engine],\n",
    "        model = sql_model,\n",
    "        max_steps = 5,\n",
    "    )\n",
    "    return sql_agent"
   ]
  },
  {
   "cell_type": "code",
   "execution_count": 13,
   "id": "6b462877-9536-4935-9dda-7ed86210a56e",
   "metadata": {},
   "outputs": [],
   "source": [
    "# sql_agent.visualize()"
   ]
  },
  {
   "cell_type": "markdown",
   "id": "993c1626-02d4-4599-8b8f-da8b76963553",
   "metadata": {},
   "source": [
    "# Define Function For Prompt Insertion"
   ]
  },
  {
   "cell_type": "code",
   "execution_count": 14,
   "id": "5b45e56f-c8fe-4c9e-97a2-f72e7c5285ef",
   "metadata": {},
   "outputs": [],
   "source": [
    "def run_prompt(prompt, history):\n",
    "    table_descrip = table_description()\n",
    "    table_status = table_check()\n",
    "    if \"NoSuchTableError\" in table_status:\n",
    "        return table_status + \" Check the table has the expected name and it is consistent.\"  \n",
    "    agent = agent_setup()\n",
    "    return agent.run(prompt + f\". Always wrap the result in relevant context and enforce the results object returning rows. Table description is as follows:{table_descrip}\")"
   ]
  },
  {
   "cell_type": "markdown",
   "id": "3cfa9a20-e518-4677-8657-9a3dd15ad3c3",
   "metadata": {},
   "source": [
    "# Define Functions For Gradio interface"
   ]
  },
  {
   "cell_type": "code",
   "execution_count": null,
   "id": "f412af60-94ef-4509-a33a-716f445f9d1a",
   "metadata": {},
   "outputs": [
    {
     "name": "stdout",
     "output_type": "stream",
     "text": [
      "* Running on local URL:  http://127.0.0.1:7864\n",
      "* To create a public link, set `share=True` in `launch()`.\n"
     ]
    },
    {
     "data": {
      "text/html": [
       "<div><iframe src=\"http://127.0.0.1:7864/\" width=\"100%\" height=\"500\" allow=\"autoplay; camera; microphone; clipboard-read; clipboard-write;\" frameborder=\"0\" allowfullscreen></iframe></div>"
      ],
      "text/plain": [
       "<IPython.core.display.HTML object>"
      ]
     },
     "metadata": {},
     "output_type": "display_data"
    },
    {
     "data": {
      "text/html": [
       "<pre style=\"white-space:pre;overflow-x:auto;line-height:normal;font-family:Menlo,'DejaVu Sans Mono',consolas,'Courier New',monospace\"><span style=\"color: #d4b702; text-decoration-color: #d4b702\">╭──────────────────────────────────────────────────── </span><span style=\"color: #d4b702; text-decoration-color: #d4b702; font-weight: bold\">New run</span><span style=\"color: #d4b702; text-decoration-color: #d4b702\"> ────────────────────────────────────────────────────╮</span>\n",
       "<span style=\"color: #d4b702; text-decoration-color: #d4b702\">│</span>                                                                                                                 <span style=\"color: #d4b702; text-decoration-color: #d4b702\">│</span>\n",
       "<span style=\"color: #d4b702; text-decoration-color: #d4b702\">│</span> <span style=\"font-weight: bold\">show table. Always wrap the result in relevant context and enforce the results object returning rows. Table </span>    <span style=\"color: #d4b702; text-decoration-color: #d4b702\">│</span>\n",
       "<span style=\"color: #d4b702; text-decoration-color: #d4b702\">│</span> <span style=\"font-weight: bold\">description is as follows:Columns:</span>                                                                              <span style=\"color: #d4b702; text-decoration-color: #d4b702\">│</span>\n",
       "<span style=\"color: #d4b702; text-decoration-color: #d4b702\">│</span> <span style=\"font-weight: bold\"> - id: INTEGER</span>                                                                                                  <span style=\"color: #d4b702; text-decoration-color: #d4b702\">│</span>\n",
       "<span style=\"color: #d4b702; text-decoration-color: #d4b702\">│</span> <span style=\"font-weight: bold\"> - price: INTEGER</span>                                                                                               <span style=\"color: #d4b702; text-decoration-color: #d4b702\">│</span>\n",
       "<span style=\"color: #d4b702; text-decoration-color: #d4b702\">│</span> <span style=\"font-weight: bold\"> - area: INTEGER</span>                                                                                                <span style=\"color: #d4b702; text-decoration-color: #d4b702\">│</span>\n",
       "<span style=\"color: #d4b702; text-decoration-color: #d4b702\">│</span> <span style=\"font-weight: bold\"> - bedrooms: INTEGER</span>                                                                                            <span style=\"color: #d4b702; text-decoration-color: #d4b702\">│</span>\n",
       "<span style=\"color: #d4b702; text-decoration-color: #d4b702\">│</span> <span style=\"font-weight: bold\"> - bathrooms: INTEGER</span>                                                                                           <span style=\"color: #d4b702; text-decoration-color: #d4b702\">│</span>\n",
       "<span style=\"color: #d4b702; text-decoration-color: #d4b702\">│</span> <span style=\"font-weight: bold\"> - stories: INTEGER</span>                                                                                             <span style=\"color: #d4b702; text-decoration-color: #d4b702\">│</span>\n",
       "<span style=\"color: #d4b702; text-decoration-color: #d4b702\">│</span> <span style=\"font-weight: bold\"> - mainroad: VARCHAR</span>                                                                                            <span style=\"color: #d4b702; text-decoration-color: #d4b702\">│</span>\n",
       "<span style=\"color: #d4b702; text-decoration-color: #d4b702\">│</span> <span style=\"font-weight: bold\"> - guestroom: VARCHAR</span>                                                                                           <span style=\"color: #d4b702; text-decoration-color: #d4b702\">│</span>\n",
       "<span style=\"color: #d4b702; text-decoration-color: #d4b702\">│</span> <span style=\"font-weight: bold\"> - basement: VARCHAR</span>                                                                                            <span style=\"color: #d4b702; text-decoration-color: #d4b702\">│</span>\n",
       "<span style=\"color: #d4b702; text-decoration-color: #d4b702\">│</span> <span style=\"font-weight: bold\"> - hotwaterheating: VARCHAR</span>                                                                                     <span style=\"color: #d4b702; text-decoration-color: #d4b702\">│</span>\n",
       "<span style=\"color: #d4b702; text-decoration-color: #d4b702\">│</span> <span style=\"font-weight: bold\"> - airconditioning: VARCHAR</span>                                                                                     <span style=\"color: #d4b702; text-decoration-color: #d4b702\">│</span>\n",
       "<span style=\"color: #d4b702; text-decoration-color: #d4b702\">│</span> <span style=\"font-weight: bold\"> - parking: INTEGER</span>                                                                                             <span style=\"color: #d4b702; text-decoration-color: #d4b702\">│</span>\n",
       "<span style=\"color: #d4b702; text-decoration-color: #d4b702\">│</span> <span style=\"font-weight: bold\"> - prefarea: VARCHAR</span>                                                                                            <span style=\"color: #d4b702; text-decoration-color: #d4b702\">│</span>\n",
       "<span style=\"color: #d4b702; text-decoration-color: #d4b702\">│</span> <span style=\"font-weight: bold\"> - furnishingstatus: VARCHAR</span>                                                                                    <span style=\"color: #d4b702; text-decoration-color: #d4b702\">│</span>\n",
       "<span style=\"color: #d4b702; text-decoration-color: #d4b702\">│</span>                                                                                                                 <span style=\"color: #d4b702; text-decoration-color: #d4b702\">│</span>\n",
       "<span style=\"color: #d4b702; text-decoration-color: #d4b702\">╰─ InferenceClientModel - Qwen/Qwen3-235B-A22B ───────────────────────────────────────────────────────────────────╯</span>\n",
       "</pre>\n"
      ],
      "text/plain": [
       "\u001b[38;2;212;183;2m╭─\u001b[0m\u001b[38;2;212;183;2m───────────────────────────────────────────────────\u001b[0m\u001b[38;2;212;183;2m \u001b[0m\u001b[1;38;2;212;183;2mNew run\u001b[0m\u001b[38;2;212;183;2m \u001b[0m\u001b[38;2;212;183;2m───────────────────────────────────────────────────\u001b[0m\u001b[38;2;212;183;2m─╮\u001b[0m\n",
       "\u001b[38;2;212;183;2m│\u001b[0m                                                                                                                 \u001b[38;2;212;183;2m│\u001b[0m\n",
       "\u001b[38;2;212;183;2m│\u001b[0m \u001b[1mshow table. Always wrap the result in relevant context and enforce the results object returning rows. Table \u001b[0m    \u001b[38;2;212;183;2m│\u001b[0m\n",
       "\u001b[38;2;212;183;2m│\u001b[0m \u001b[1mdescription is as follows:Columns:\u001b[0m                                                                              \u001b[38;2;212;183;2m│\u001b[0m\n",
       "\u001b[38;2;212;183;2m│\u001b[0m \u001b[1m - id: INTEGER\u001b[0m                                                                                                  \u001b[38;2;212;183;2m│\u001b[0m\n",
       "\u001b[38;2;212;183;2m│\u001b[0m \u001b[1m - price: INTEGER\u001b[0m                                                                                               \u001b[38;2;212;183;2m│\u001b[0m\n",
       "\u001b[38;2;212;183;2m│\u001b[0m \u001b[1m - area: INTEGER\u001b[0m                                                                                                \u001b[38;2;212;183;2m│\u001b[0m\n",
       "\u001b[38;2;212;183;2m│\u001b[0m \u001b[1m - bedrooms: INTEGER\u001b[0m                                                                                            \u001b[38;2;212;183;2m│\u001b[0m\n",
       "\u001b[38;2;212;183;2m│\u001b[0m \u001b[1m - bathrooms: INTEGER\u001b[0m                                                                                           \u001b[38;2;212;183;2m│\u001b[0m\n",
       "\u001b[38;2;212;183;2m│\u001b[0m \u001b[1m - stories: INTEGER\u001b[0m                                                                                             \u001b[38;2;212;183;2m│\u001b[0m\n",
       "\u001b[38;2;212;183;2m│\u001b[0m \u001b[1m - mainroad: VARCHAR\u001b[0m                                                                                            \u001b[38;2;212;183;2m│\u001b[0m\n",
       "\u001b[38;2;212;183;2m│\u001b[0m \u001b[1m - guestroom: VARCHAR\u001b[0m                                                                                           \u001b[38;2;212;183;2m│\u001b[0m\n",
       "\u001b[38;2;212;183;2m│\u001b[0m \u001b[1m - basement: VARCHAR\u001b[0m                                                                                            \u001b[38;2;212;183;2m│\u001b[0m\n",
       "\u001b[38;2;212;183;2m│\u001b[0m \u001b[1m - hotwaterheating: VARCHAR\u001b[0m                                                                                     \u001b[38;2;212;183;2m│\u001b[0m\n",
       "\u001b[38;2;212;183;2m│\u001b[0m \u001b[1m - airconditioning: VARCHAR\u001b[0m                                                                                     \u001b[38;2;212;183;2m│\u001b[0m\n",
       "\u001b[38;2;212;183;2m│\u001b[0m \u001b[1m - parking: INTEGER\u001b[0m                                                                                             \u001b[38;2;212;183;2m│\u001b[0m\n",
       "\u001b[38;2;212;183;2m│\u001b[0m \u001b[1m - prefarea: VARCHAR\u001b[0m                                                                                            \u001b[38;2;212;183;2m│\u001b[0m\n",
       "\u001b[38;2;212;183;2m│\u001b[0m \u001b[1m - furnishingstatus: VARCHAR\u001b[0m                                                                                    \u001b[38;2;212;183;2m│\u001b[0m\n",
       "\u001b[38;2;212;183;2m│\u001b[0m                                                                                                                 \u001b[38;2;212;183;2m│\u001b[0m\n",
       "\u001b[38;2;212;183;2m╰─\u001b[0m\u001b[38;2;212;183;2m InferenceClientModel - Qwen/Qwen3-235B-A22B \u001b[0m\u001b[38;2;212;183;2m──────────────────────────────────────────────────────────────────\u001b[0m\u001b[38;2;212;183;2m─╯\u001b[0m\n"
      ]
     },
     "metadata": {},
     "output_type": "display_data"
    },
    {
     "data": {
      "text/html": [
       "<pre style=\"white-space:pre;overflow-x:auto;line-height:normal;font-family:Menlo,'DejaVu Sans Mono',consolas,'Courier New',monospace\"><span style=\"color: #d4b702; text-decoration-color: #d4b702\">━━━━━━━━━━━━━━━━━━━━━━━━━━━━━━━━━━━━━━━━━━━━━━━━━━━━━ </span><span style=\"font-weight: bold\">Step </span><span style=\"color: #008080; text-decoration-color: #008080; font-weight: bold\">1</span><span style=\"color: #d4b702; text-decoration-color: #d4b702\"> ━━━━━━━━━━━━━━━━━━━━━━━━━━━━━━━━━━━━━━━━━━━━━━━━━━━━━━</span>\n",
       "</pre>\n"
      ],
      "text/plain": [
       "\u001b[38;2;212;183;2m━━━━━━━━━━━━━━━━━━━━━━━━━━━━━━━━━━━━━━━━━━━━━━━━━━━━━ \u001b[0m\u001b[1mStep \u001b[0m\u001b[1;36m1\u001b[0m\u001b[38;2;212;183;2m ━━━━━━━━━━━━━━━━━━━━━━━━━━━━━━━━━━━━━━━━━━━━━━━━━━━━━━\u001b[0m\n"
      ]
     },
     "metadata": {},
     "output_type": "display_data"
    },
    {
     "data": {
      "text/html": [
       "<pre style=\"white-space:pre;overflow-x:auto;line-height:normal;font-family:Menlo,'DejaVu Sans Mono',consolas,'Courier New',monospace\"><span style=\"color: #d4b702; text-decoration-color: #d4b702\">╭──────────────────────────────────────────────────── </span><span style=\"color: #d4b702; text-decoration-color: #d4b702; font-weight: bold\">New run</span><span style=\"color: #d4b702; text-decoration-color: #d4b702\"> ────────────────────────────────────────────────────╮</span>\n",
       "<span style=\"color: #d4b702; text-decoration-color: #d4b702\">│</span>                                                                                                                 <span style=\"color: #d4b702; text-decoration-color: #d4b702\">│</span>\n",
       "<span style=\"color: #d4b702; text-decoration-color: #d4b702\">│</span> <span style=\"font-weight: bold\">show first row of tbale. Always wrap the result in relevant context and enforce the results object returning </span>   <span style=\"color: #d4b702; text-decoration-color: #d4b702\">│</span>\n",
       "<span style=\"color: #d4b702; text-decoration-color: #d4b702\">│</span> <span style=\"font-weight: bold\">rows. Table description is as follows:Columns:</span>                                                                  <span style=\"color: #d4b702; text-decoration-color: #d4b702\">│</span>\n",
       "<span style=\"color: #d4b702; text-decoration-color: #d4b702\">│</span> <span style=\"font-weight: bold\"> - id: INTEGER</span>                                                                                                  <span style=\"color: #d4b702; text-decoration-color: #d4b702\">│</span>\n",
       "<span style=\"color: #d4b702; text-decoration-color: #d4b702\">│</span> <span style=\"font-weight: bold\"> - price: INTEGER</span>                                                                                               <span style=\"color: #d4b702; text-decoration-color: #d4b702\">│</span>\n",
       "<span style=\"color: #d4b702; text-decoration-color: #d4b702\">│</span> <span style=\"font-weight: bold\"> - area: INTEGER</span>                                                                                                <span style=\"color: #d4b702; text-decoration-color: #d4b702\">│</span>\n",
       "<span style=\"color: #d4b702; text-decoration-color: #d4b702\">│</span> <span style=\"font-weight: bold\"> - bedrooms: INTEGER</span>                                                                                            <span style=\"color: #d4b702; text-decoration-color: #d4b702\">│</span>\n",
       "<span style=\"color: #d4b702; text-decoration-color: #d4b702\">│</span> <span style=\"font-weight: bold\"> - bathrooms: INTEGER</span>                                                                                           <span style=\"color: #d4b702; text-decoration-color: #d4b702\">│</span>\n",
       "<span style=\"color: #d4b702; text-decoration-color: #d4b702\">│</span> <span style=\"font-weight: bold\"> - stories: INTEGER</span>                                                                                             <span style=\"color: #d4b702; text-decoration-color: #d4b702\">│</span>\n",
       "<span style=\"color: #d4b702; text-decoration-color: #d4b702\">│</span> <span style=\"font-weight: bold\"> - mainroad: VARCHAR</span>                                                                                            <span style=\"color: #d4b702; text-decoration-color: #d4b702\">│</span>\n",
       "<span style=\"color: #d4b702; text-decoration-color: #d4b702\">│</span> <span style=\"font-weight: bold\"> - guestroom: VARCHAR</span>                                                                                           <span style=\"color: #d4b702; text-decoration-color: #d4b702\">│</span>\n",
       "<span style=\"color: #d4b702; text-decoration-color: #d4b702\">│</span> <span style=\"font-weight: bold\"> - basement: VARCHAR</span>                                                                                            <span style=\"color: #d4b702; text-decoration-color: #d4b702\">│</span>\n",
       "<span style=\"color: #d4b702; text-decoration-color: #d4b702\">│</span> <span style=\"font-weight: bold\"> - hotwaterheating: VARCHAR</span>                                                                                     <span style=\"color: #d4b702; text-decoration-color: #d4b702\">│</span>\n",
       "<span style=\"color: #d4b702; text-decoration-color: #d4b702\">│</span> <span style=\"font-weight: bold\"> - airconditioning: VARCHAR</span>                                                                                     <span style=\"color: #d4b702; text-decoration-color: #d4b702\">│</span>\n",
       "<span style=\"color: #d4b702; text-decoration-color: #d4b702\">│</span> <span style=\"font-weight: bold\"> - parking: INTEGER</span>                                                                                             <span style=\"color: #d4b702; text-decoration-color: #d4b702\">│</span>\n",
       "<span style=\"color: #d4b702; text-decoration-color: #d4b702\">│</span> <span style=\"font-weight: bold\"> - prefarea: VARCHAR</span>                                                                                            <span style=\"color: #d4b702; text-decoration-color: #d4b702\">│</span>\n",
       "<span style=\"color: #d4b702; text-decoration-color: #d4b702\">│</span> <span style=\"font-weight: bold\"> - furnishingstatus: VARCHAR</span>                                                                                    <span style=\"color: #d4b702; text-decoration-color: #d4b702\">│</span>\n",
       "<span style=\"color: #d4b702; text-decoration-color: #d4b702\">│</span>                                                                                                                 <span style=\"color: #d4b702; text-decoration-color: #d4b702\">│</span>\n",
       "<span style=\"color: #d4b702; text-decoration-color: #d4b702\">╰─ InferenceClientModel - Qwen/Qwen3-235B-A22B ───────────────────────────────────────────────────────────────────╯</span>\n",
       "</pre>\n"
      ],
      "text/plain": [
       "\u001b[38;2;212;183;2m╭─\u001b[0m\u001b[38;2;212;183;2m───────────────────────────────────────────────────\u001b[0m\u001b[38;2;212;183;2m \u001b[0m\u001b[1;38;2;212;183;2mNew run\u001b[0m\u001b[38;2;212;183;2m \u001b[0m\u001b[38;2;212;183;2m───────────────────────────────────────────────────\u001b[0m\u001b[38;2;212;183;2m─╮\u001b[0m\n",
       "\u001b[38;2;212;183;2m│\u001b[0m                                                                                                                 \u001b[38;2;212;183;2m│\u001b[0m\n",
       "\u001b[38;2;212;183;2m│\u001b[0m \u001b[1mshow first row of tbale. Always wrap the result in relevant context and enforce the results object returning \u001b[0m   \u001b[38;2;212;183;2m│\u001b[0m\n",
       "\u001b[38;2;212;183;2m│\u001b[0m \u001b[1mrows. Table description is as follows:Columns:\u001b[0m                                                                  \u001b[38;2;212;183;2m│\u001b[0m\n",
       "\u001b[38;2;212;183;2m│\u001b[0m \u001b[1m - id: INTEGER\u001b[0m                                                                                                  \u001b[38;2;212;183;2m│\u001b[0m\n",
       "\u001b[38;2;212;183;2m│\u001b[0m \u001b[1m - price: INTEGER\u001b[0m                                                                                               \u001b[38;2;212;183;2m│\u001b[0m\n",
       "\u001b[38;2;212;183;2m│\u001b[0m \u001b[1m - area: INTEGER\u001b[0m                                                                                                \u001b[38;2;212;183;2m│\u001b[0m\n",
       "\u001b[38;2;212;183;2m│\u001b[0m \u001b[1m - bedrooms: INTEGER\u001b[0m                                                                                            \u001b[38;2;212;183;2m│\u001b[0m\n",
       "\u001b[38;2;212;183;2m│\u001b[0m \u001b[1m - bathrooms: INTEGER\u001b[0m                                                                                           \u001b[38;2;212;183;2m│\u001b[0m\n",
       "\u001b[38;2;212;183;2m│\u001b[0m \u001b[1m - stories: INTEGER\u001b[0m                                                                                             \u001b[38;2;212;183;2m│\u001b[0m\n",
       "\u001b[38;2;212;183;2m│\u001b[0m \u001b[1m - mainroad: VARCHAR\u001b[0m                                                                                            \u001b[38;2;212;183;2m│\u001b[0m\n",
       "\u001b[38;2;212;183;2m│\u001b[0m \u001b[1m - guestroom: VARCHAR\u001b[0m                                                                                           \u001b[38;2;212;183;2m│\u001b[0m\n",
       "\u001b[38;2;212;183;2m│\u001b[0m \u001b[1m - basement: VARCHAR\u001b[0m                                                                                            \u001b[38;2;212;183;2m│\u001b[0m\n",
       "\u001b[38;2;212;183;2m│\u001b[0m \u001b[1m - hotwaterheating: VARCHAR\u001b[0m                                                                                     \u001b[38;2;212;183;2m│\u001b[0m\n",
       "\u001b[38;2;212;183;2m│\u001b[0m \u001b[1m - airconditioning: VARCHAR\u001b[0m                                                                                     \u001b[38;2;212;183;2m│\u001b[0m\n",
       "\u001b[38;2;212;183;2m│\u001b[0m \u001b[1m - parking: INTEGER\u001b[0m                                                                                             \u001b[38;2;212;183;2m│\u001b[0m\n",
       "\u001b[38;2;212;183;2m│\u001b[0m \u001b[1m - prefarea: VARCHAR\u001b[0m                                                                                            \u001b[38;2;212;183;2m│\u001b[0m\n",
       "\u001b[38;2;212;183;2m│\u001b[0m \u001b[1m - furnishingstatus: VARCHAR\u001b[0m                                                                                    \u001b[38;2;212;183;2m│\u001b[0m\n",
       "\u001b[38;2;212;183;2m│\u001b[0m                                                                                                                 \u001b[38;2;212;183;2m│\u001b[0m\n",
       "\u001b[38;2;212;183;2m╰─\u001b[0m\u001b[38;2;212;183;2m InferenceClientModel - Qwen/Qwen3-235B-A22B \u001b[0m\u001b[38;2;212;183;2m──────────────────────────────────────────────────────────────────\u001b[0m\u001b[38;2;212;183;2m─╯\u001b[0m\n"
      ]
     },
     "metadata": {},
     "output_type": "display_data"
    },
    {
     "data": {
      "text/html": [
       "<pre style=\"white-space:pre;overflow-x:auto;line-height:normal;font-family:Menlo,'DejaVu Sans Mono',consolas,'Courier New',monospace\"><span style=\"color: #d4b702; text-decoration-color: #d4b702\">━━━━━━━━━━━━━━━━━━━━━━━━━━━━━━━━━━━━━━━━━━━━━━━━━━━━━ </span><span style=\"font-weight: bold\">Step </span><span style=\"color: #008080; text-decoration-color: #008080; font-weight: bold\">1</span><span style=\"color: #d4b702; text-decoration-color: #d4b702\"> ━━━━━━━━━━━━━━━━━━━━━━━━━━━━━━━━━━━━━━━━━━━━━━━━━━━━━━</span>\n",
       "</pre>\n"
      ],
      "text/plain": [
       "\u001b[38;2;212;183;2m━━━━━━━━━━━━━━━━━━━━━━━━━━━━━━━━━━━━━━━━━━━━━━━━━━━━━ \u001b[0m\u001b[1mStep \u001b[0m\u001b[1;36m1\u001b[0m\u001b[38;2;212;183;2m ━━━━━━━━━━━━━━━━━━━━━━━━━━━━━━━━━━━━━━━━━━━━━━━━━━━━━━\u001b[0m\n"
      ]
     },
     "metadata": {},
     "output_type": "display_data"
    },
    {
     "data": {
      "text/html": [
       "<pre style=\"white-space:pre;overflow-x:auto;line-height:normal;font-family:Menlo,'DejaVu Sans Mono',consolas,'Courier New',monospace\"> ─ <span style=\"font-weight: bold\">Executing parsed code:</span> ──────────────────────────────────────────────────────────────────────────────────────── \n",
       "  <span style=\"color: #f8f8f2; text-decoration-color: #f8f8f2; background-color: #272822\">query </span><span style=\"color: #ff4689; text-decoration-color: #ff4689; background-color: #272822\">=</span><span style=\"color: #f8f8f2; text-decoration-color: #f8f8f2; background-color: #272822\"> </span><span style=\"color: #e6db74; text-decoration-color: #e6db74; background-color: #272822\">\"SELECT id, price, area, bedrooms, bathrooms, stories, mainroad, guestroom, basement, hotwaterheating, </span>  \n",
       "  <span style=\"color: #e6db74; text-decoration-color: #e6db74; background-color: #272822\">airconditioning, parking, prefarea, furnishingstatus FROM agent_table;\"</span><span style=\"background-color: #272822\">                                        </span>  \n",
       "  <span style=\"color: #f8f8f2; text-decoration-color: #f8f8f2; background-color: #272822\">table_data </span><span style=\"color: #ff4689; text-decoration-color: #ff4689; background-color: #272822\">=</span><span style=\"color: #f8f8f2; text-decoration-color: #f8f8f2; background-color: #272822\"> sql_engine(query</span><span style=\"color: #ff4689; text-decoration-color: #ff4689; background-color: #272822\">=</span><span style=\"color: #f8f8f2; text-decoration-color: #f8f8f2; background-color: #272822\">query)</span><span style=\"background-color: #272822\">                                                                           </span>  \n",
       "  <span style=\"color: #f8f8f2; text-decoration-color: #f8f8f2; background-color: #272822\">final_answer(table_data)</span><span style=\"background-color: #272822\">                                                                                       </span>  \n",
       " ───────────────────────────────────────────────────────────────────────────────────────────────────────────────── \n",
       "</pre>\n"
      ],
      "text/plain": [
       " ─ \u001b[1mExecuting parsed code:\u001b[0m ──────────────────────────────────────────────────────────────────────────────────────── \n",
       "  \u001b[38;2;248;248;242;48;2;39;40;34mquery\u001b[0m\u001b[38;2;248;248;242;48;2;39;40;34m \u001b[0m\u001b[38;2;255;70;137;48;2;39;40;34m=\u001b[0m\u001b[38;2;248;248;242;48;2;39;40;34m \u001b[0m\u001b[38;2;230;219;116;48;2;39;40;34m\"\u001b[0m\u001b[38;2;230;219;116;48;2;39;40;34mSELECT id, price, area, bedrooms, bathrooms, stories, mainroad, guestroom, basement, hotwaterheating, \u001b[0m  \n",
       "  \u001b[38;2;230;219;116;48;2;39;40;34mairconditioning, parking, prefarea, furnishingstatus FROM agent_table;\u001b[0m\u001b[38;2;230;219;116;48;2;39;40;34m\"\u001b[0m\u001b[48;2;39;40;34m                                        \u001b[0m  \n",
       "  \u001b[38;2;248;248;242;48;2;39;40;34mtable_data\u001b[0m\u001b[38;2;248;248;242;48;2;39;40;34m \u001b[0m\u001b[38;2;255;70;137;48;2;39;40;34m=\u001b[0m\u001b[38;2;248;248;242;48;2;39;40;34m \u001b[0m\u001b[38;2;248;248;242;48;2;39;40;34msql_engine\u001b[0m\u001b[38;2;248;248;242;48;2;39;40;34m(\u001b[0m\u001b[38;2;248;248;242;48;2;39;40;34mquery\u001b[0m\u001b[38;2;255;70;137;48;2;39;40;34m=\u001b[0m\u001b[38;2;248;248;242;48;2;39;40;34mquery\u001b[0m\u001b[38;2;248;248;242;48;2;39;40;34m)\u001b[0m\u001b[48;2;39;40;34m                                                                           \u001b[0m  \n",
       "  \u001b[38;2;248;248;242;48;2;39;40;34mfinal_answer\u001b[0m\u001b[38;2;248;248;242;48;2;39;40;34m(\u001b[0m\u001b[38;2;248;248;242;48;2;39;40;34mtable_data\u001b[0m\u001b[38;2;248;248;242;48;2;39;40;34m)\u001b[0m\u001b[48;2;39;40;34m                                                                                       \u001b[0m  \n",
       " ───────────────────────────────────────────────────────────────────────────────────────────────────────────────── \n"
      ]
     },
     "metadata": {},
     "output_type": "display_data"
    },
    {
     "data": {
      "text/html": [
       "<pre style=\"white-space:pre;overflow-x:auto;line-height:normal;font-family:Menlo,'DejaVu Sans Mono',consolas,'Courier New',monospace\"><span style=\"color: #d4b702; text-decoration-color: #d4b702; font-weight: bold\">Out - Final answer: (1, 13300000, 7420, 4, 2, 3, 'yes', 'no', 'no', 'no', 'yes', 2, 'yes', 'furnished')</span>\n",
       "<span style=\"color: #d4b702; text-decoration-color: #d4b702; font-weight: bold\">(2, 12250000, 8960, 4, 4, 4, 'yes', 'no', 'no', 'no', 'yes', 3, 'no', 'furnished')</span>\n",
       "<span style=\"color: #d4b702; text-decoration-color: #d4b702; font-weight: bold\">(3, 12250000, 9960, 3, 2, 2, 'yes', 'no', 'yes', 'no', 'no', 2, 'yes', 'semi-furnished')</span>\n",
       "<span style=\"color: #d4b702; text-decoration-color: #d4b702; font-weight: bold\">(4, 12215000, 7500, 4, 2, 2, 'yes', 'no', 'yes', 'no', 'yes', 3, 'yes', 'furnished')</span>\n",
       "<span style=\"color: #d4b702; text-decoration-color: #d4b702; font-weight: bold\">(5, 11410000, 7420, 4, 1, 2, 'yes', 'yes', 'yes', 'no', 'yes', 2, 'no', 'furnished')</span>\n",
       "<span style=\"color: #d4b702; text-decoration-color: #d4b702; font-weight: bold\">(6, 10850000, 7500, 3, 3, 1, 'yes', 'no', 'yes', 'no', 'yes', 2, 'yes', 'semi-furnished')</span>\n",
       "<span style=\"color: #d4b702; text-decoration-color: #d4b702; font-weight: bold\">(7, 10150000, 8580, 4, 3, 4, 'yes', 'no', 'no', 'no', 'yes', 2, 'yes', 'semi-furnished')</span>\n",
       "<span style=\"color: #d4b702; text-decoration-color: #d4b702; font-weight: bold\">(8, 10150000, 16200, 5, 3, 2, 'yes', 'no', 'no', 'no', 'no', 0, 'no', 'unfurnished')</span>\n",
       "<span style=\"color: #d4b702; text-decoration-color: #d4b702; font-weight: bold\">(9, 9870000, 8100, 4, 1, 2, 'yes', 'yes', 'yes', 'no', 'yes', 2, 'yes', 'furnished')</span>\n",
       "<span style=\"color: #d4b702; text-decoration-color: #d4b702; font-weight: bold\">(10, 9800000, 5750, 3, 2, 4, 'yes', 'yes', 'no', 'no', 'yes', 1, 'yes', 'unfurnished')</span>\n",
       "<span style=\"color: #d4b702; text-decoration-color: #d4b702; font-weight: bold\">(11, 9800000, 13200, 3, 1, 2, 'yes', 'no', 'yes', 'no', 'yes', 2, 'yes', 'furnished')</span>\n",
       "<span style=\"color: #d4b702; text-decoration-color: #d4b702; font-weight: bold\">(12, 9681000, 6000, 4, 3, 2, 'yes', 'yes', 'yes', 'yes', 'no', 2, 'no', 'semi-furnished')</span>\n",
       "<span style=\"color: #d4b702; text-decoration-color: #d4b702; font-weight: bold\">(13, 9310000, 6550, 4, 2, 2, 'yes', 'no', 'no', 'no', 'yes', 1, 'yes', 'semi-furnished')</span>\n",
       "<span style=\"color: #d4b702; text-decoration-color: #d4b702; font-weight: bold\">(14, 9240000, 3500, 4, 2, 2, 'yes', 'no', 'no', 'yes', 'no', 2, 'no', 'furnished')</span>\n",
       "<span style=\"color: #d4b702; text-decoration-color: #d4b702; font-weight: bold\">(15, 9240000, 7800, 3, 2, 2, 'yes', 'no', 'no', 'no', 'no', 0, 'yes', 'semi-furnished')</span>\n",
       "<span style=\"color: #d4b702; text-decoration-color: #d4b702; font-weight: bold\">(16, 9100000, 6000, 4, 1, 2, 'yes', 'no', 'yes', 'no', 'no', 2, 'no', 'semi-furnished')</span>\n",
       "<span style=\"color: #d4b702; text-decoration-color: #d4b702; font-weight: bold\">(17, 9100000, 6600, 4, 2, 2, 'yes', 'yes', 'yes', 'no', 'yes', 1, 'yes', 'unfurnished')</span>\n",
       "<span style=\"color: #d4b702; text-decoration-color: #d4b702; font-weight: bold\">(18, 8960000, 8500, 3, 2, 4, 'yes', 'no', 'no', 'no', 'yes', 2, 'no', 'furnished')</span>\n",
       "<span style=\"color: #d4b702; text-decoration-color: #d4b702; font-weight: bold\">(19, 8890000, 4600, 3, 2, 2, 'yes', 'yes', 'no', 'no', 'yes', 2, 'no', 'furnished')</span>\n",
       "<span style=\"color: #d4b702; text-decoration-color: #d4b702; font-weight: bold\">(20, 8855000, 6420, 3, 2, 2, 'yes', 'no', 'no', 'no', 'yes', 1, 'yes', 'semi-furnished')</span>\n",
       "<span style=\"color: #d4b702; text-decoration-color: #d4b702; font-weight: bold\">(21, 8750000, 4320, 3, 1, 2, 'yes', 'no', 'yes', 'yes', 'no', 2, 'no', 'semi-furnished')</span>\n",
       "<span style=\"color: #d4b702; text-decoration-color: #d4b702; font-weight: bold\">(22, 8680000, 7155, 3, 2, 1, 'yes', 'yes', 'yes', 'no', 'yes', 2, 'no', 'unfurnished')</span>\n",
       "<span style=\"color: #d4b702; text-decoration-color: #d4b702; font-weight: bold\">(23, 8645000, 8050, 3, 1, 1, 'yes', 'yes', 'yes', 'no', 'yes', 1, 'no', 'furnished')</span>\n",
       "<span style=\"color: #d4b702; text-decoration-color: #d4b702; font-weight: bold\">(24, 8645000, 4560, 3, 2, 2, 'yes', 'yes', 'yes', 'no', 'yes', 1, 'no', 'furnished')</span>\n",
       "<span style=\"color: #d4b702; text-decoration-color: #d4b702; font-weight: bold\">(25, 8575000, 8800, 3, 2, 2, 'yes', 'no', 'no', 'no', 'yes', 2, 'no', 'furnished')</span>\n",
       "<span style=\"color: #d4b702; text-decoration-color: #d4b702; font-weight: bold\">(26, 8540000, 6540, 4, 2, 2, 'yes', 'yes', 'yes', 'no', 'yes', 2, 'yes', 'furnished')</span>\n",
       "<span style=\"color: #d4b702; text-decoration-color: #d4b702; font-weight: bold\">(27, 8463000, 6000, 3, 2, 4, 'yes', 'yes', 'yes', 'no', 'yes', 0, 'yes', 'semi-furnished')</span>\n",
       "<span style=\"color: #d4b702; text-decoration-color: #d4b702; font-weight: bold\">(28, 8400000, 8875, 3, 1, 1, 'yes', 'no', 'no', 'no', 'no', 1, 'no', 'semi-furnished')</span>\n",
       "<span style=\"color: #d4b702; text-decoration-color: #d4b702; font-weight: bold\">(29, 8400000, 7950, 5, 2, 2, 'yes', 'no', 'yes', 'yes', 'no', 2, 'no', 'unfurnished')</span>\n",
       "<span style=\"color: #d4b702; text-decoration-color: #d4b702; font-weight: bold\">(30, 8400000, 5500, 4, 2, 2, 'yes', 'no', 'yes', 'no', 'yes', 1, 'yes', 'semi-furnished')</span>\n",
       "<span style=\"color: #d4b702; text-decoration-color: #d4b702; font-weight: bold\">(31, 8400000, 7475, 3, 2, 4, 'yes', 'no', 'no', 'no', 'yes', 2, 'no', 'unfurnished')</span>\n",
       "<span style=\"color: #d4b702; text-decoration-color: #d4b702; font-weight: bold\">(32, 8400000, 7000, 3, 1, 4, 'yes', 'no', 'no', 'no', 'yes', 2, 'no', 'semi-furnished')</span>\n",
       "<span style=\"color: #d4b702; text-decoration-color: #d4b702; font-weight: bold\">(33, 8295000, 4880, 4, 2, 2, 'yes', 'no', 'no', 'no', 'yes', 1, 'yes', 'furnished')</span>\n",
       "<span style=\"color: #d4b702; text-decoration-color: #d4b702; font-weight: bold\">(34, 8190000, 5960, 3, 3, 2, 'yes', 'yes', 'yes', 'no', 'no', 1, 'no', 'unfurnished')</span>\n",
       "<span style=\"color: #d4b702; text-decoration-color: #d4b702; font-weight: bold\">(35, 8120000, 6840, 5, 1, 2, 'yes', 'yes', 'yes', 'no', 'yes', 1, 'no', 'furnished')</span>\n",
       "<span style=\"color: #d4b702; text-decoration-color: #d4b702; font-weight: bold\">(36, 8080940, 7000, 3, 2, 4, 'yes', 'no', 'no', 'no', 'yes', 2, 'no', 'furnished')</span>\n",
       "<span style=\"color: #d4b702; text-decoration-color: #d4b702; font-weight: bold\">(37, 8043000, 7482, 3, 2, 3, 'yes', 'no', 'no', 'yes', 'no', 1, 'yes', 'furnished')</span>\n",
       "<span style=\"color: #d4b702; text-decoration-color: #d4b702; font-weight: bold\">(38, 7980000, 9000, 4, 2, 4, 'yes', 'no', 'no', 'no', 'yes', 2, 'no', 'furnished')</span>\n",
       "<span style=\"color: #d4b702; text-decoration-color: #d4b702; font-weight: bold\">(39, 7962500, 6000, 3, 1, 4, 'yes', 'yes', 'no', 'no', 'yes', 2, 'no', 'unfurnished')</span>\n",
       "<span style=\"color: #d4b702; text-decoration-color: #d4b702; font-weight: bold\">(40, 7910000, 6000, 4, 2, 4, 'yes', 'no', 'no', 'no', 'yes', 1, 'no', 'semi-furnished')</span>\n",
       "<span style=\"color: #d4b702; text-decoration-color: #d4b702; font-weight: bold\">(41, 7875000, 6550, 3, 1, 2, 'yes', 'no', 'yes', 'no', 'yes', 0, 'yes', 'furnished')</span>\n",
       "<span style=\"color: #d4b702; text-decoration-color: #d4b702; font-weight: bold\">(42, 7840000, 6360, 3, 2, 4, 'yes', 'no', 'no', 'no', 'yes', 0, 'yes', 'furnished')</span>\n",
       "<span style=\"color: #d4b702; text-decoration-color: #d4b702; font-weight: bold\">(43, 7700000, 6480, 3, 2, 4, 'yes', 'no', 'no', 'no', 'yes', 2, 'no', 'unfurnished')</span>\n",
       "<span style=\"color: #d4b702; text-decoration-color: #d4b702; font-weight: bold\">(44, 7700000, 6000, 4, 2, 4, 'yes', 'no', 'no', 'no', 'no', 2, 'no', 'semi-furnished')</span>\n",
       "<span style=\"color: #d4b702; text-decoration-color: #d4b702; font-weight: bold\">(45, 7560000, 6000, 4, 2, 4, 'yes', 'no', 'no', 'no', 'yes', 1, 'no', 'furnished')</span>\n",
       "<span style=\"color: #d4b702; text-decoration-color: #d4b702; font-weight: bold\">(46, 7560000, 6000, 3, 2, 3, 'yes', 'no', 'no', 'no', 'yes', 0, 'no', 'semi-furnished')</span>\n",
       "<span style=\"color: #d4b702; text-decoration-color: #d4b702; font-weight: bold\">(47, 7525000, 6000, 3, 2, 4, 'yes', 'no', 'no', 'no', 'yes', 1, 'no', 'furnished')</span>\n",
       "<span style=\"color: #d4b702; text-decoration-color: #d4b702; font-weight: bold\">(48, 7490000, 6600, 3, 1, 4, 'yes', 'no', 'no', 'no', 'yes', 3, 'yes', 'furnished')</span>\n",
       "<span style=\"color: #d4b702; text-decoration-color: #d4b702; font-weight: bold\">(49, 7455000, 4300, 3, 2, 2, 'yes', 'no', 'yes', 'no', 'no', 1, 'no', 'unfurnished')</span>\n",
       "<span style=\"color: #d4b702; text-decoration-color: #d4b702; font-weight: bold\">(50, 7420000, 7440, 3, 2, 1, 'yes', 'yes', 'yes', 'no', 'yes', 0, 'yes', 'semi-furnished')</span>\n",
       "<span style=\"color: #d4b702; text-decoration-color: #d4b702; font-weight: bold\">(51, 7420000, 7440, 3, 2, 4, 'yes', 'no', 'no', 'no', 'no', 1, 'yes', 'unfurnished')</span>\n",
       "<span style=\"color: #d4b702; text-decoration-color: #d4b702; font-weight: bold\">(52, 7420000, 6325, 3, 1, 4, 'yes', 'no', 'no', 'no', 'yes', 1, 'no', 'unfurnished')</span>\n",
       "<span style=\"color: #d4b702; text-decoration-color: #d4b702; font-weight: bold\">(53, 7350000, 6000, 4, 2, 4, 'yes', 'yes', 'no', 'no', 'yes', 1, 'no', 'furnished')</span>\n",
       "<span style=\"color: #d4b702; text-decoration-color: #d4b702; font-weight: bold\">(54, 7350000, 5150, 3, 2, 4, 'yes', 'no', 'no', 'no', 'yes', 2, 'no', 'semi-furnished')</span>\n",
       "<span style=\"color: #d4b702; text-decoration-color: #d4b702; font-weight: bold\">(55, 7350000, 6000, 3, 2, 2, 'yes', 'yes', 'no', 'no', 'yes', 1, 'no', 'semi-furnished')</span>\n",
       "<span style=\"color: #d4b702; text-decoration-color: #d4b702; font-weight: bold\">(56, 7350000, 6000, 3, 1, 2, 'yes', 'no', 'no', 'no', 'yes', 1, 'no', 'unfurnished')</span>\n",
       "<span style=\"color: #d4b702; text-decoration-color: #d4b702; font-weight: bold\">(57, 7343000, 11440, 4, 1, 2, 'yes', 'no', 'yes', 'no', 'no', 1, 'yes', 'semi-furnished')</span>\n",
       "<span style=\"color: #d4b702; text-decoration-color: #d4b702; font-weight: bold\">(58, 7245000, 9000, 4, 2, 4, 'yes', 'yes', 'no', 'no', 'yes', 1, 'yes', 'furnished')</span>\n",
       "<span style=\"color: #d4b702; text-decoration-color: #d4b702; font-weight: bold\">(59, 7210000, 7680, 4, 2, 4, 'yes', 'yes', 'no', 'no', 'yes', 1, 'no', 'semi-furnished')</span>\n",
       "<span style=\"color: #d4b702; text-decoration-color: #d4b702; font-weight: bold\">(60, 7210000, 6000, 3, 2, 4, 'yes', 'yes', 'no', 'no', 'yes', 1, 'no', 'furnished')</span>\n",
       "<span style=\"color: #d4b702; text-decoration-color: #d4b702; font-weight: bold\">(61, 7140000, 6000, 3, 2, 2, 'yes', 'yes', 'no', 'no', 'no', 1, 'no', 'semi-furnished')</span>\n",
       "<span style=\"color: #d4b702; text-decoration-color: #d4b702; font-weight: bold\">(62, 7070000, 8880, 2, 1, 1, 'yes', 'no', 'no', 'no', 'yes', 1, 'no', 'semi-furnished')</span>\n",
       "<span style=\"color: #d4b702; text-decoration-color: #d4b702; font-weight: bold\">(63, 7070000, 6240, 4, 2, 2, 'yes', 'no', 'no', 'no', 'yes', 1, 'no', 'furnished')</span>\n",
       "<span style=\"color: #d4b702; text-decoration-color: #d4b702; font-weight: bold\">(64, 7035000, 6360, 4, 2, 3, 'yes', 'no', 'no', 'no', 'yes', 2, 'yes', 'furnished')</span>\n",
       "<span style=\"color: #d4b702; text-decoration-color: #d4b702; font-weight: bold\">(65, 7000000, 11175, 3, 1, 1, 'yes', 'no', 'yes', 'no', 'yes', 1, 'yes', 'furnished')</span>\n",
       "<span style=\"color: #d4b702; text-decoration-color: #d4b702; font-weight: bold\">(66, 6930000, 8880, 3, 2, 2, 'yes', 'no', 'yes', 'no', 'yes', 1, 'no', 'furnished')</span>\n",
       "<span style=\"color: #d4b702; text-decoration-color: #d4b702; font-weight: bold\">(67, 6930000, 13200, 2, 1, 1, 'yes', 'no', 'yes', 'yes', 'no', 1, 'no', 'furnished')</span>\n",
       "<span style=\"color: #d4b702; text-decoration-color: #d4b702; font-weight: bold\">(68, 6895000, 7700, 3, 2, 1, 'yes', 'no', 'no', 'no', 'no', 2, 'no', 'unfurnished')</span>\n",
       "<span style=\"color: #d4b702; text-decoration-color: #d4b702; font-weight: bold\">(69, 6860000, 6000, 3, 1, 1, 'yes', 'no', 'no', 'no', 'yes', 1, 'no', 'furnished')</span>\n",
       "<span style=\"color: #d4b702; text-decoration-color: #d4b702; font-weight: bold\">(70, 6790000, 12090, 4, 2, 2, 'yes', 'no', 'no', 'no', 'no', 2, 'yes', 'furnished')</span>\n",
       "<span style=\"color: #d4b702; text-decoration-color: #d4b702; font-weight: bold\">(71, 6790000, 4000, 3, 2, 2, 'yes', 'no', 'yes', 'no', 'yes', 0, 'yes', 'semi-furnished')</span>\n",
       "<span style=\"color: #d4b702; text-decoration-color: #d4b702; font-weight: bold\">(72, 6755000, 6000, 4, 2, 4, 'yes', 'no', 'no', 'no', 'yes', 0, 'no', 'unfurnished')</span>\n",
       "<span style=\"color: #d4b702; text-decoration-color: #d4b702; font-weight: bold\">(73, 6720000, 5020, 3, 1, 4, 'yes', 'no', 'no', 'no', 'yes', 0, 'yes', 'unfurnished')</span>\n",
       "<span style=\"color: #d4b702; text-decoration-color: #d4b702; font-weight: bold\">(74, 6685000, 6600, 2, 2, 4, 'yes', 'no', 'yes', 'no', 'no', 0, 'yes', 'furnished')</span>\n",
       "<span style=\"color: #d4b702; text-decoration-color: #d4b702; font-weight: bold\">(75, 6650000, 4040, 3, 1, 2, 'yes', 'no', 'yes', 'yes', 'no', 1, 'no', 'furnished')</span>\n",
       "<span style=\"color: #d4b702; text-decoration-color: #d4b702; font-weight: bold\">(76, 6650000, 4260, 4, 2, 2, 'yes', 'no', 'no', 'yes', 'no', 0, 'no', 'semi-furnished')</span>\n",
       "<span style=\"color: #d4b702; text-decoration-color: #d4b702; font-weight: bold\">(77, 6650000, 6420, 3, 2, 3, 'yes', 'no', 'no', 'no', 'yes', 0, 'yes', 'furnished')</span>\n",
       "<span style=\"color: #d4b702; text-decoration-color: #d4b702; font-weight: bold\">(78, 6650000, 6500, 3, 2, 3, 'yes', 'no', 'no', 'no', 'yes', 0, 'yes', 'furnished')</span>\n",
       "<span style=\"color: #d4b702; text-decoration-color: #d4b702; font-weight: bold\">(79, 6650000, 5700, 3, 1, 1, 'yes', 'yes', 'yes', 'no', 'yes', 2, 'yes', 'furnished')</span>\n",
       "<span style=\"color: #d4b702; text-decoration-color: #d4b702; font-weight: bold\">(80, 6650000, 6000, 3, 2, 3, 'yes', 'yes', 'no', 'no', 'yes', 0, 'no', 'furnished')</span>\n",
       "<span style=\"color: #d4b702; text-decoration-color: #d4b702; font-weight: bold\">(81, 6629000, 6000, 3, 1, 2, 'yes', 'no', 'no', 'yes', 'no', 1, 'yes', 'semi-furnished')</span>\n",
       "<span style=\"color: #d4b702; text-decoration-color: #d4b702; font-weight: bold\">(82, 6615000, 4000, 3, 2, 2, 'yes', 'no', 'yes', 'no', 'yes', 1, 'no', 'semi-furnished')</span>\n",
       "<span style=\"color: #d4b702; text-decoration-color: #d4b702; font-weight: bold\">(83, 6615000, 10500, 3, 2, 1, 'yes', 'no', 'yes', 'no', 'yes', 1, 'yes', 'furnished')</span>\n",
       "<span style=\"color: #d4b702; text-decoration-color: #d4b702; font-weight: bold\">(84, 6580000, 6000, 3, 2, 4, 'yes', 'no', 'no', 'no', 'yes', 0, 'no', 'semi-furnished')</span>\n",
       "<span style=\"color: #d4b702; text-decoration-color: #d4b702; font-weight: bold\">(85, 6510000, 3760, 3, 1, 2, 'yes', 'no', 'no', 'yes', 'no', 2, 'no', 'semi-furnished')</span>\n",
       "<span style=\"color: #d4b702; text-decoration-color: #d4b702; font-weight: bold\">(86, 6510000, 8250, 3, 2, 3, 'yes', 'no', 'no', 'no', 'yes', 0, 'no', 'furnished')</span>\n",
       "<span style=\"color: #d4b702; text-decoration-color: #d4b702; font-weight: bold\">(87, 6510000, 6670, 3, 1, 3, 'yes', 'no', 'yes', 'no', 'no', 0, 'yes', 'unfurnished')</span>\n",
       "<span style=\"color: #d4b702; text-decoration-color: #d4b702; font-weight: bold\">(88, 6475000, 3960, 3, 1, 1, 'yes', 'no', 'yes', 'no', 'no', 2, 'no', 'semi-furnished')</span>\n",
       "<span style=\"color: #d4b702; text-decoration-color: #d4b702; font-weight: bold\">(89, 6475000, 7410, 3, 1, 1, 'yes', 'yes', 'yes', 'no', 'yes', 2, 'yes', 'unfurnished')</span>\n",
       "<span style=\"color: #d4b702; text-decoration-color: #d4b702; font-weight: bold\">(90, 6440000, 8580, 5, 3, 2, 'yes', 'no', 'no', 'no', 'no', 2, 'no', 'furnished')</span>\n",
       "<span style=\"color: #d4b702; text-decoration-color: #d4b702; font-weight: bold\">(91, 6440000, 5000, 3, 1, 2, 'yes', 'no', 'no', 'no', 'yes', 0, 'no', 'semi-furnished')</span>\n",
       "<span style=\"color: #d4b702; text-decoration-color: #d4b702; font-weight: bold\">(92, 6419000, 6750, 2, 1, 1, 'yes', 'yes', 'yes', 'no', 'no', 2, 'yes', 'furnished')</span>\n",
       "<span style=\"color: #d4b702; text-decoration-color: #d4b702; font-weight: bold\">(93, 6405000, 4800, 3, 2, 4, 'yes', 'yes', 'no', 'no', 'yes', 0, 'no', 'furnished')</span>\n",
       "<span style=\"color: #d4b702; text-decoration-color: #d4b702; font-weight: bold\">(94, 6300000, 7200, 3, 2, 1, 'yes', 'no', 'yes', 'no', 'yes', 3, 'no', 'semi-furnished')</span>\n",
       "<span style=\"color: #d4b702; text-decoration-color: #d4b702; font-weight: bold\">(95, 6300000, 6000, 4, 2, 4, 'yes', 'no', 'no', 'no', 'no', 1, 'no', 'semi-furnished')</span>\n",
       "<span style=\"color: #d4b702; text-decoration-color: #d4b702; font-weight: bold\">(96, 6300000, 4100, 3, 2, 3, 'yes', 'no', 'no', 'no', 'yes', 2, 'no', 'semi-furnished')</span>\n",
       "<span style=\"color: #d4b702; text-decoration-color: #d4b702; font-weight: bold\">(97, 6300000, 9000, 3, 1, 1, 'yes', 'no', 'yes', 'no', 'no', 1, 'yes', 'furnished')</span>\n",
       "<span style=\"color: #d4b702; text-decoration-color: #d4b702; font-weight: bold\">(98, 6300000, 6400, 3, 1, 1, 'yes', 'yes', 'yes', 'no', 'yes', 1, 'yes', 'semi-furnished')</span>\n",
       "<span style=\"color: #d4b702; text-decoration-color: #d4b702; font-weight: bold\">(99, 6293000, 6600, 3, 2, 3, 'yes', 'no', 'no', 'no', 'yes', 0, 'yes', 'unfurnished')</span>\n",
       "<span style=\"color: #d4b702; text-decoration-color: #d4b702; font-weight: bold\">(100, 6265000, 6000, 4, 1, 3, 'yes', 'yes', 'yes', 'no', 'no', 0, 'yes', 'unfurnished')</span>\n",
       "<span style=\"color: #d4b702; text-decoration-color: #d4b702; font-weight: bold\">(101, 6230000, 6600, 3, 2, 1, 'yes', 'no', 'yes', 'no', 'yes', 0, 'yes', 'unfurnished')</span>\n",
       "<span style=\"color: #d4b702; text-decoration-color: #d4b702; font-weight: bold\">(102, 6230000, 5500, 3, 1, 3, 'yes', 'no', 'no', 'no', 'no', 1, 'yes', 'unfurnished')</span>\n",
       "<span style=\"color: #d4b702; text-decoration-color: #d4b702; font-weight: bold\">(103, 6195000, 5500, 3, 2, 4, 'yes', 'yes', 'no', 'no', 'yes', 1, 'no', 'semi-furnished')</span>\n",
       "<span style=\"color: #d4b702; text-decoration-color: #d4b702; font-weight: bold\">(104, 6195000, 6350, 3, 2, 3, 'yes', 'yes', 'no', 'no', 'yes', 0, 'no', 'furnished')</span>\n",
       "<span style=\"color: #d4b702; text-decoration-color: #d4b702; font-weight: bold\">(105, 6195000, 5500, 3, 2, 1, 'yes', 'yes', 'yes', 'no', 'no', 2, 'yes', 'furnished')</span>\n",
       "<span style=\"color: #d4b702; text-decoration-color: #d4b702; font-weight: bold\">(106, 6160000, 4500, 3, 1, 4, 'yes', 'no', 'no', 'no', 'yes', 0, 'no', 'unfurnished')</span>\n",
       "<span style=\"color: #d4b702; text-decoration-color: #d4b702; font-weight: bold\">(107, 6160000, 5450, 4, 2, 1, 'yes', 'no', 'yes', 'no', 'yes', 0, 'yes', 'semi-furnished')</span>\n",
       "<span style=\"color: #d4b702; text-decoration-color: #d4b702; font-weight: bold\">(108, 6125000, 6420, 3, 1, 3, 'yes', 'no', 'yes', 'no', 'no', 0, 'yes', 'unfurnished')</span>\n",
       "<span style=\"color: #d4b702; text-decoration-color: #d4b702; font-weight: bold\">(109, 6107500, 3240, 4, 1, 3, 'yes', 'no', 'no', 'no', 'no', 1, 'no', 'semi-furnished')</span>\n",
       "<span style=\"color: #d4b702; text-decoration-color: #d4b702; font-weight: bold\">(110, 6090000, 6615, 4, 2, 2, 'yes', 'yes', 'no', 'yes', 'no', 1, 'no', 'semi-furnished')</span>\n",
       "<span style=\"color: #d4b702; text-decoration-color: #d4b702; font-weight: bold\">(111, 6090000, 6600, 3, 1, 1, 'yes', 'yes', 'yes', 'no', 'no', 2, 'yes', 'semi-furnished')</span>\n",
       "<span style=\"color: #d4b702; text-decoration-color: #d4b702; font-weight: bold\">(112, 6090000, 8372, 3, 1, 3, 'yes', 'no', 'no', 'no', 'yes', 2, 'no', 'unfurnished')</span>\n",
       "<span style=\"color: #d4b702; text-decoration-color: #d4b702; font-weight: bold\">(113, 6083000, 4300, 6, 2, 2, 'yes', 'no', 'no', 'no', 'no', 0, 'no', 'furnished')</span>\n",
       "<span style=\"color: #d4b702; text-decoration-color: #d4b702; font-weight: bold\">(114, 6083000, 9620, 3, 1, 1, 'yes', 'no', 'yes', 'no', 'no', 2, 'yes', 'furnished')</span>\n",
       "<span style=\"color: #d4b702; text-decoration-color: #d4b702; font-weight: bold\">(115, 6020000, 6800, 2, 1, 1, 'yes', 'yes', 'yes', 'no', 'no', 2, 'no', 'furnished')</span>\n",
       "<span style=\"color: #d4b702; text-decoration-color: #d4b702; font-weight: bold\">(116, 6020000, 8000, 3, 1, 1, 'yes', 'yes', 'yes', 'no', 'yes', 2, 'yes', 'semi-fu</span>\n",
       "<span style=\"color: #d4b702; text-decoration-color: #d4b702; font-weight: bold\">..._This content has been truncated to stay below 20000 characters_...</span>\n",
       "<span style=\"color: #d4b702; text-decoration-color: #d4b702; font-weight: bold\">')</span>\n",
       "<span style=\"color: #d4b702; text-decoration-color: #d4b702; font-weight: bold\">(429, 3325000, 4040, 2, 1, 1, 'yes', 'no', 'no', 'no', 'no', 1, 'no', 'unfurnished')</span>\n",
       "<span style=\"color: #d4b702; text-decoration-color: #d4b702; font-weight: bold\">(430, 3325000, 4775, 4, 1, 2, 'yes', 'no', 'no', 'no', 'no', 0, 'no', 'unfurnished')</span>\n",
       "<span style=\"color: #d4b702; text-decoration-color: #d4b702; font-weight: bold\">(431, 3290000, 2500, 2, 1, 1, 'no', 'no', 'no', 'no', 'yes', 0, 'no', 'unfurnished')</span>\n",
       "<span style=\"color: #d4b702; text-decoration-color: #d4b702; font-weight: bold\">(432, 3290000, 3180, 4, 1, 2, 'yes', 'no', 'yes', 'no', 'yes', 0, 'no', 'unfurnished')</span>\n",
       "<span style=\"color: #d4b702; text-decoration-color: #d4b702; font-weight: bold\">(433, 3290000, 6060, 3, 1, 1, 'yes', 'yes', 'yes', 'no', 'no', 0, 'no', 'furnished')</span>\n",
       "<span style=\"color: #d4b702; text-decoration-color: #d4b702; font-weight: bold\">(434, 3290000, 3480, 4, 1, 2, 'no', 'no', 'no', 'no', 'no', 1, 'no', 'semi-furnished')</span>\n",
       "<span style=\"color: #d4b702; text-decoration-color: #d4b702; font-weight: bold\">(435, 3290000, 3792, 4, 1, 2, 'yes', 'no', 'no', 'no', 'no', 0, 'no', 'semi-furnished')</span>\n",
       "<span style=\"color: #d4b702; text-decoration-color: #d4b702; font-weight: bold\">(436, 3290000, 4040, 2, 1, 1, 'yes', 'no', 'no', 'no', 'no', 0, 'no', 'unfurnished')</span>\n",
       "<span style=\"color: #d4b702; text-decoration-color: #d4b702; font-weight: bold\">(437, 3290000, 2145, 3, 1, 2, 'yes', 'no', 'yes', 'no', 'no', 0, 'yes', 'furnished')</span>\n",
       "<span style=\"color: #d4b702; text-decoration-color: #d4b702; font-weight: bold\">(438, 3290000, 5880, 3, 1, 1, 'yes', 'no', 'no', 'no', 'no', 1, 'no', 'unfurnished')</span>\n",
       "<span style=\"color: #d4b702; text-decoration-color: #d4b702; font-weight: bold\">(439, 3255000, 4500, 2, 1, 1, 'no', 'no', 'no', 'no', 'no', 0, 'no', 'semi-furnished')</span>\n",
       "<span style=\"color: #d4b702; text-decoration-color: #d4b702; font-weight: bold\">(440, 3255000, 3930, 2, 1, 1, 'no', 'no', 'no', 'no', 'no', 0, 'no', 'unfurnished')</span>\n",
       "<span style=\"color: #d4b702; text-decoration-color: #d4b702; font-weight: bold\">(441, 3234000, 3640, 4, 1, 2, 'yes', 'no', 'yes', 'no', 'no', 0, 'no', 'unfurnished')</span>\n",
       "<span style=\"color: #d4b702; text-decoration-color: #d4b702; font-weight: bold\">(442, 3220000, 4370, 3, 1, 2, 'yes', 'no', 'no', 'no', 'no', 0, 'no', 'unfurnished')</span>\n",
       "<span style=\"color: #d4b702; text-decoration-color: #d4b702; font-weight: bold\">(443, 3220000, 2684, 2, 1, 1, 'yes', 'no', 'no', 'no', 'yes', 1, 'no', 'unfurnished')</span>\n",
       "<span style=\"color: #d4b702; text-decoration-color: #d4b702; font-weight: bold\">(444, 3220000, 4320, 3, 1, 1, 'no', 'no', 'no', 'no', 'no', 1, 'no', 'unfurnished')</span>\n",
       "<span style=\"color: #d4b702; text-decoration-color: #d4b702; font-weight: bold\">(445, 3220000, 3120, 3, 1, 2, 'no', 'no', 'no', 'no', 'no', 0, 'no', 'furnished')</span>\n",
       "<span style=\"color: #d4b702; text-decoration-color: #d4b702; font-weight: bold\">(446, 3150000, 3450, 1, 1, 1, 'yes', 'no', 'no', 'no', 'no', 0, 'no', 'furnished')</span>\n",
       "<span style=\"color: #d4b702; text-decoration-color: #d4b702; font-weight: bold\">(447, 3150000, 3986, 2, 2, 1, 'no', 'yes', 'yes', 'no', 'no', 1, 'no', 'unfurnished')</span>\n",
       "<span style=\"color: #d4b702; text-decoration-color: #d4b702; font-weight: bold\">(448, 3150000, 3500, 2, 1, 1, 'no', 'no', 'yes', 'no', 'no', 0, 'no', 'semi-furnished')</span>\n",
       "<span style=\"color: #d4b702; text-decoration-color: #d4b702; font-weight: bold\">(449, 3150000, 4095, 2, 1, 1, 'yes', 'no', 'no', 'no', 'no', 2, 'no', 'semi-furnished')</span>\n",
       "<span style=\"color: #d4b702; text-decoration-color: #d4b702; font-weight: bold\">(450, 3150000, 1650, 3, 1, 2, 'no', 'no', 'yes', 'no', 'no', 0, 'no', 'unfurnished')</span>\n",
       "<span style=\"color: #d4b702; text-decoration-color: #d4b702; font-weight: bold\">(451, 3150000, 3450, 3, 1, 2, 'yes', 'no', 'yes', 'no', 'no', 0, 'no', 'semi-furnished')</span>\n",
       "<span style=\"color: #d4b702; text-decoration-color: #d4b702; font-weight: bold\">(452, 3150000, 6750, 2, 1, 1, 'yes', 'no', 'no', 'no', 'no', 0, 'no', 'semi-furnished')</span>\n",
       "<span style=\"color: #d4b702; text-decoration-color: #d4b702; font-weight: bold\">(453, 3150000, 9000, 3, 1, 2, 'yes', 'no', 'no', 'no', 'no', 2, 'no', 'semi-furnished')</span>\n",
       "<span style=\"color: #d4b702; text-decoration-color: #d4b702; font-weight: bold\">(454, 3150000, 3069, 2, 1, 1, 'yes', 'no', 'no', 'no', 'no', 1, 'no', 'unfurnished')</span>\n",
       "<span style=\"color: #d4b702; text-decoration-color: #d4b702; font-weight: bold\">(455, 3143000, 4500, 3, 1, 2, 'yes', 'no', 'no', 'no', 'yes', 0, 'no', 'unfurnished')</span>\n",
       "<span style=\"color: #d4b702; text-decoration-color: #d4b702; font-weight: bold\">(456, 3129000, 5495, 3, 1, 1, 'yes', 'no', 'yes', 'no', 'no', 0, 'no', 'unfurnished')</span>\n",
       "<span style=\"color: #d4b702; text-decoration-color: #d4b702; font-weight: bold\">(457, 3118850, 2398, 3, 1, 1, 'yes', 'no', 'no', 'no', 'no', 0, 'yes', 'semi-furnished')</span>\n",
       "<span style=\"color: #d4b702; text-decoration-color: #d4b702; font-weight: bold\">(458, 3115000, 3000, 3, 1, 1, 'no', 'no', 'no', 'no', 'yes', 0, 'no', 'unfurnished')</span>\n",
       "<span style=\"color: #d4b702; text-decoration-color: #d4b702; font-weight: bold\">(459, 3115000, 3850, 3, 1, 2, 'yes', 'no', 'no', 'no', 'no', 0, 'no', 'unfurnished')</span>\n",
       "<span style=\"color: #d4b702; text-decoration-color: #d4b702; font-weight: bold\">(460, 3115000, 3500, 2, 1, 1, 'yes', 'no', 'no', 'no', 'no', 0, 'no', 'unfurnished')</span>\n",
       "<span style=\"color: #d4b702; text-decoration-color: #d4b702; font-weight: bold\">(461, 3087000, 8100, 2, 1, 1, 'yes', 'no', 'no', 'no', 'no', 1, 'no', 'unfurnished')</span>\n",
       "<span style=\"color: #d4b702; text-decoration-color: #d4b702; font-weight: bold\">(462, 3080000, 4960, 2, 1, 1, 'yes', 'no', 'yes', 'no', 'yes', 0, 'no', 'unfurnished')</span>\n",
       "<span style=\"color: #d4b702; text-decoration-color: #d4b702; font-weight: bold\">(463, 3080000, 2160, 3, 1, 2, 'no', 'no', 'yes', 'no', 'no', 0, 'no', 'semi-furnished')</span>\n",
       "<span style=\"color: #d4b702; text-decoration-color: #d4b702; font-weight: bold\">(464, 3080000, 3090, 2, 1, 1, 'yes', 'yes', 'yes', 'no', 'no', 0, 'no', 'unfurnished')</span>\n",
       "<span style=\"color: #d4b702; text-decoration-color: #d4b702; font-weight: bold\">(465, 3080000, 4500, 2, 1, 2, 'yes', 'no', 'no', 'yes', 'no', 1, 'no', 'semi-furnished')</span>\n",
       "<span style=\"color: #d4b702; text-decoration-color: #d4b702; font-weight: bold\">(466, 3045000, 3800, 2, 1, 1, 'yes', 'no', 'no', 'no', 'no', 0, 'no', 'unfurnished')</span>\n",
       "<span style=\"color: #d4b702; text-decoration-color: #d4b702; font-weight: bold\">(467, 3010000, 3090, 3, 1, 2, 'no', 'no', 'no', 'no', 'no', 0, 'no', 'semi-furnished')</span>\n",
       "<span style=\"color: #d4b702; text-decoration-color: #d4b702; font-weight: bold\">(468, 3010000, 3240, 3, 1, 2, 'yes', 'no', 'no', 'no', 'no', 2, 'no', 'semi-furnished')</span>\n",
       "<span style=\"color: #d4b702; text-decoration-color: #d4b702; font-weight: bold\">(469, 3010000, 2835, 2, 1, 1, 'yes', 'no', 'no', 'no', 'no', 0, 'no', 'semi-furnished')</span>\n",
       "<span style=\"color: #d4b702; text-decoration-color: #d4b702; font-weight: bold\">(470, 3010000, 4600, 2, 1, 1, 'yes', 'no', 'no', 'no', 'no', 0, 'no', 'furnished')</span>\n",
       "<span style=\"color: #d4b702; text-decoration-color: #d4b702; font-weight: bold\">(471, 3010000, 5076, 3, 1, 1, 'no', 'no', 'no', 'no', 'no', 0, 'no', 'unfurnished')</span>\n",
       "<span style=\"color: #d4b702; text-decoration-color: #d4b702; font-weight: bold\">(472, 3010000, 3750, 3, 1, 2, 'yes', 'no', 'no', 'no', 'no', 0, 'no', 'unfurnished')</span>\n",
       "<span style=\"color: #d4b702; text-decoration-color: #d4b702; font-weight: bold\">(473, 3010000, 3630, 4, 1, 2, 'yes', 'no', 'no', 'no', 'no', 3, 'no', 'semi-furnished')</span>\n",
       "<span style=\"color: #d4b702; text-decoration-color: #d4b702; font-weight: bold\">(474, 3003000, 8050, 2, 1, 1, 'yes', 'no', 'no', 'no', 'no', 0, 'no', 'unfurnished')</span>\n",
       "<span style=\"color: #d4b702; text-decoration-color: #d4b702; font-weight: bold\">(475, 2975000, 4352, 4, 1, 2, 'no', 'no', 'no', 'no', 'no', 1, 'no', 'unfurnished')</span>\n",
       "<span style=\"color: #d4b702; text-decoration-color: #d4b702; font-weight: bold\">(476, 2961000, 3000, 2, 1, 2, 'yes', 'no', 'no', 'no', 'no', 0, 'no', 'semi-furnished')</span>\n",
       "<span style=\"color: #d4b702; text-decoration-color: #d4b702; font-weight: bold\">(477, 2940000, 5850, 3, 1, 2, 'yes', 'no', 'yes', 'no', 'no', 1, 'no', 'unfurnished')</span>\n",
       "<span style=\"color: #d4b702; text-decoration-color: #d4b702; font-weight: bold\">(478, 2940000, 4960, 2, 1, 1, 'yes', 'no', 'no', 'no', 'no', 0, 'no', 'unfurnished')</span>\n",
       "<span style=\"color: #d4b702; text-decoration-color: #d4b702; font-weight: bold\">(479, 2940000, 3600, 3, 1, 2, 'no', 'no', 'no', 'no', 'no', 1, 'no', 'unfurnished')</span>\n",
       "<span style=\"color: #d4b702; text-decoration-color: #d4b702; font-weight: bold\">(480, 2940000, 3660, 4, 1, 2, 'no', 'no', 'no', 'no', 'no', 0, 'no', 'unfurnished')</span>\n",
       "<span style=\"color: #d4b702; text-decoration-color: #d4b702; font-weight: bold\">(481, 2940000, 3480, 3, 1, 2, 'no', 'no', 'no', 'no', 'no', 1, 'no', 'semi-furnished')</span>\n",
       "<span style=\"color: #d4b702; text-decoration-color: #d4b702; font-weight: bold\">(482, 2940000, 2700, 2, 1, 1, 'no', 'no', 'no', 'no', 'no', 0, 'no', 'furnished')</span>\n",
       "<span style=\"color: #d4b702; text-decoration-color: #d4b702; font-weight: bold\">(483, 2940000, 3150, 3, 1, 2, 'no', 'no', 'no', 'no', 'no', 0, 'no', 'unfurnished')</span>\n",
       "<span style=\"color: #d4b702; text-decoration-color: #d4b702; font-weight: bold\">(484, 2940000, 6615, 3, 1, 2, 'yes', 'no', 'no', 'no', 'no', 0, 'no', 'semi-furnished')</span>\n",
       "<span style=\"color: #d4b702; text-decoration-color: #d4b702; font-weight: bold\">(485, 2870000, 3040, 2, 1, 1, 'no', 'no', 'no', 'no', 'no', 0, 'no', 'unfurnished')</span>\n",
       "<span style=\"color: #d4b702; text-decoration-color: #d4b702; font-weight: bold\">(486, 2870000, 3630, 2, 1, 1, 'yes', 'no', 'no', 'no', 'no', 0, 'no', 'unfurnished')</span>\n",
       "<span style=\"color: #d4b702; text-decoration-color: #d4b702; font-weight: bold\">(487, 2870000, 6000, 2, 1, 1, 'yes', 'no', 'no', 'no', 'no', 0, 'no', 'semi-furnished')</span>\n",
       "<span style=\"color: #d4b702; text-decoration-color: #d4b702; font-weight: bold\">(488, 2870000, 5400, 4, 1, 2, 'yes', 'no', 'no', 'no', 'no', 0, 'no', 'unfurnished')</span>\n",
       "<span style=\"color: #d4b702; text-decoration-color: #d4b702; font-weight: bold\">(489, 2852500, 5200, 4, 1, 3, 'yes', 'no', 'no', 'no', 'no', 0, 'no', 'unfurnished')</span>\n",
       "<span style=\"color: #d4b702; text-decoration-color: #d4b702; font-weight: bold\">(490, 2835000, 3300, 3, 1, 2, 'no', 'no', 'no', 'no', 'no', 1, 'no', 'semi-furnished')</span>\n",
       "<span style=\"color: #d4b702; text-decoration-color: #d4b702; font-weight: bold\">(491, 2835000, 4350, 3, 1, 2, 'no', 'no', 'no', 'yes', 'no', 1, 'no', 'unfurnished')</span>\n",
       "<span style=\"color: #d4b702; text-decoration-color: #d4b702; font-weight: bold\">(492, 2835000, 2640, 2, 1, 1, 'no', 'no', 'no', 'no', 'no', 1, 'no', 'furnished')</span>\n",
       "<span style=\"color: #d4b702; text-decoration-color: #d4b702; font-weight: bold\">(493, 2800000, 2650, 3, 1, 2, 'yes', 'no', 'yes', 'no', 'no', 1, 'no', 'unfurnished')</span>\n",
       "<span style=\"color: #d4b702; text-decoration-color: #d4b702; font-weight: bold\">(494, 2800000, 3960, 3, 1, 1, 'yes', 'no', 'no', 'no', 'no', 0, 'no', 'furnished')</span>\n",
       "<span style=\"color: #d4b702; text-decoration-color: #d4b702; font-weight: bold\">(495, 2730000, 6800, 2, 1, 1, 'yes', 'no', 'no', 'no', 'no', 0, 'no', 'unfurnished')</span>\n",
       "<span style=\"color: #d4b702; text-decoration-color: #d4b702; font-weight: bold\">(496, 2730000, 4000, 3, 1, 2, 'yes', 'no', 'no', 'no', 'no', 1, 'no', 'unfurnished')</span>\n",
       "<span style=\"color: #d4b702; text-decoration-color: #d4b702; font-weight: bold\">(497, 2695000, 4000, 2, 1, 1, 'yes', 'no', 'no', 'no', 'no', 0, 'no', 'unfurnished')</span>\n",
       "<span style=\"color: #d4b702; text-decoration-color: #d4b702; font-weight: bold\">(498, 2660000, 3934, 2, 1, 1, 'yes', 'no', 'no', 'no', 'no', 0, 'no', 'unfurnished')</span>\n",
       "<span style=\"color: #d4b702; text-decoration-color: #d4b702; font-weight: bold\">(499, 2660000, 2000, 2, 1, 2, 'yes', 'no', 'no', 'no', 'no', 0, 'no', 'semi-furnished')</span>\n",
       "<span style=\"color: #d4b702; text-decoration-color: #d4b702; font-weight: bold\">(500, 2660000, 3630, 3, 3, 2, 'no', 'yes', 'no', 'no', 'no', 0, 'no', 'unfurnished')</span>\n",
       "<span style=\"color: #d4b702; text-decoration-color: #d4b702; font-weight: bold\">(501, 2660000, 2800, 3, 1, 1, 'yes', 'no', 'no', 'no', 'no', 0, 'no', 'unfurnished')</span>\n",
       "<span style=\"color: #d4b702; text-decoration-color: #d4b702; font-weight: bold\">(502, 2660000, 2430, 3, 1, 1, 'no', 'no', 'no', 'no', 'no', 0, 'no', 'unfurnished')</span>\n",
       "<span style=\"color: #d4b702; text-decoration-color: #d4b702; font-weight: bold\">(503, 2660000, 3480, 2, 1, 1, 'yes', 'no', 'no', 'no', 'no', 1, 'no', 'semi-furnished')</span>\n",
       "<span style=\"color: #d4b702; text-decoration-color: #d4b702; font-weight: bold\">(504, 2660000, 4000, 3, 1, 1, 'yes', 'no', 'no', 'no', 'no', 0, 'no', 'semi-furnished')</span>\n",
       "<span style=\"color: #d4b702; text-decoration-color: #d4b702; font-weight: bold\">(505, 2653000, 3185, 2, 1, 1, 'yes', 'no', 'no', 'no', 'yes', 0, 'no', 'unfurnished')</span>\n",
       "<span style=\"color: #d4b702; text-decoration-color: #d4b702; font-weight: bold\">(506, 2653000, 4000, 3, 1, 2, 'yes', 'no', 'no', 'no', 'yes', 0, 'no', 'unfurnished')</span>\n",
       "<span style=\"color: #d4b702; text-decoration-color: #d4b702; font-weight: bold\">(507, 2604000, 2910, 2, 1, 1, 'no', 'no', 'no', 'no', 'no', 0, 'no', 'unfurnished')</span>\n",
       "<span style=\"color: #d4b702; text-decoration-color: #d4b702; font-weight: bold\">(508, 2590000, 3600, 2, 1, 1, 'yes', 'no', 'no', 'no', 'no', 0, 'no', 'unfurnished')</span>\n",
       "<span style=\"color: #d4b702; text-decoration-color: #d4b702; font-weight: bold\">(509, 2590000, 4400, 2, 1, 1, 'yes', 'no', 'no', 'no', 'no', 0, 'no', 'unfurnished')</span>\n",
       "<span style=\"color: #d4b702; text-decoration-color: #d4b702; font-weight: bold\">(510, 2590000, 3600, 2, 2, 2, 'yes', 'no', 'yes', 'no', 'no', 1, 'no', 'furnished')</span>\n",
       "<span style=\"color: #d4b702; text-decoration-color: #d4b702; font-weight: bold\">(511, 2520000, 2880, 3, 1, 1, 'no', 'no', 'no', 'no', 'no', 0, 'no', 'unfurnished')</span>\n",
       "<span style=\"color: #d4b702; text-decoration-color: #d4b702; font-weight: bold\">(512, 2520000, 3180, 3, 1, 1, 'no', 'no', 'no', 'no', 'no', 0, 'no', 'unfurnished')</span>\n",
       "<span style=\"color: #d4b702; text-decoration-color: #d4b702; font-weight: bold\">(513, 2520000, 3000, 2, 1, 2, 'yes', 'no', 'no', 'no', 'no', 0, 'no', 'furnished')</span>\n",
       "<span style=\"color: #d4b702; text-decoration-color: #d4b702; font-weight: bold\">(514, 2485000, 4400, 3, 1, 2, 'yes', 'no', 'no', 'no', 'no', 0, 'no', 'unfurnished')</span>\n",
       "<span style=\"color: #d4b702; text-decoration-color: #d4b702; font-weight: bold\">(515, 2485000, 3000, 3, 1, 2, 'no', 'no', 'no', 'no', 'no', 0, 'no', 'semi-furnished')</span>\n",
       "<span style=\"color: #d4b702; text-decoration-color: #d4b702; font-weight: bold\">(516, 2450000, 3210, 3, 1, 2, 'yes', 'no', 'yes', 'no', 'no', 0, 'no', 'unfurnished')</span>\n",
       "<span style=\"color: #d4b702; text-decoration-color: #d4b702; font-weight: bold\">(517, 2450000, 3240, 2, 1, 1, 'no', 'yes', 'no', 'no', 'no', 1, 'no', 'unfurnished')</span>\n",
       "<span style=\"color: #d4b702; text-decoration-color: #d4b702; font-weight: bold\">(518, 2450000, 3000, 2, 1, 1, 'yes', 'no', 'no', 'no', 'no', 1, 'no', 'unfurnished')</span>\n",
       "<span style=\"color: #d4b702; text-decoration-color: #d4b702; font-weight: bold\">(519, 2450000, 3500, 2, 1, 1, 'yes', 'yes', 'no', 'no', 'no', 0, 'no', 'unfurnished')</span>\n",
       "<span style=\"color: #d4b702; text-decoration-color: #d4b702; font-weight: bold\">(520, 2450000, 4840, 2, 1, 2, 'yes', 'no', 'no', 'no', 'no', 0, 'no', 'unfurnished')</span>\n",
       "<span style=\"color: #d4b702; text-decoration-color: #d4b702; font-weight: bold\">(521, 2450000, 7700, 2, 1, 1, 'yes', 'no', 'no', 'no', 'no', 0, 'no', 'unfurnished')</span>\n",
       "<span style=\"color: #d4b702; text-decoration-color: #d4b702; font-weight: bold\">(522, 2408000, 3635, 2, 1, 1, 'no', 'no', 'no', 'no', 'no', 0, 'no', 'unfurnished')</span>\n",
       "<span style=\"color: #d4b702; text-decoration-color: #d4b702; font-weight: bold\">(523, 2380000, 2475, 3, 1, 2, 'yes', 'no', 'no', 'no', 'no', 0, 'no', 'furnished')</span>\n",
       "<span style=\"color: #d4b702; text-decoration-color: #d4b702; font-weight: bold\">(524, 2380000, 2787, 4, 2, 2, 'yes', 'no', 'no', 'no', 'no', 0, 'no', 'furnished')</span>\n",
       "<span style=\"color: #d4b702; text-decoration-color: #d4b702; font-weight: bold\">(525, 2380000, 3264, 2, 1, 1, 'yes', 'no', 'no', 'no', 'no', 0, 'no', 'unfurnished')</span>\n",
       "<span style=\"color: #d4b702; text-decoration-color: #d4b702; font-weight: bold\">(526, 2345000, 3640, 2, 1, 1, 'yes', 'no', 'no', 'no', 'no', 0, 'no', 'unfurnished')</span>\n",
       "<span style=\"color: #d4b702; text-decoration-color: #d4b702; font-weight: bold\">(527, 2310000, 3180, 2, 1, 1, 'yes', 'no', 'no', 'no', 'no', 0, 'no', 'unfurnished')</span>\n",
       "<span style=\"color: #d4b702; text-decoration-color: #d4b702; font-weight: bold\">(528, 2275000, 1836, 2, 1, 1, 'no', 'no', 'yes', 'no', 'no', 0, 'no', 'semi-furnished')</span>\n",
       "<span style=\"color: #d4b702; text-decoration-color: #d4b702; font-weight: bold\">(529, 2275000, 3970, 1, 1, 1, 'no', 'no', 'no', 'no', 'no', 0, 'no', 'unfurnished')</span>\n",
       "<span style=\"color: #d4b702; text-decoration-color: #d4b702; font-weight: bold\">(530, 2275000, 3970, 3, 1, 2, 'yes', 'no', 'yes', 'no', 'no', 0, 'no', 'unfurnished')</span>\n",
       "<span style=\"color: #d4b702; text-decoration-color: #d4b702; font-weight: bold\">(531, 2240000, 1950, 3, 1, 1, 'no', 'no', 'no', 'yes', 'no', 0, 'no', 'unfurnished')</span>\n",
       "<span style=\"color: #d4b702; text-decoration-color: #d4b702; font-weight: bold\">(532, 2233000, 5300, 3, 1, 1, 'no', 'no', 'no', 'no', 'yes', 0, 'yes', 'unfurnished')</span>\n",
       "<span style=\"color: #d4b702; text-decoration-color: #d4b702; font-weight: bold\">(533, 2135000, 3000, 2, 1, 1, 'no', 'no', 'no', 'no', 'no', 0, 'no', 'unfurnished')</span>\n",
       "<span style=\"color: #d4b702; text-decoration-color: #d4b702; font-weight: bold\">(534, 2100000, 2400, 3, 1, 2, 'yes', 'no', 'no', 'no', 'no', 0, 'no', 'unfurnished')</span>\n",
       "<span style=\"color: #d4b702; text-decoration-color: #d4b702; font-weight: bold\">(535, 2100000, 3000, 4, 1, 2, 'yes', 'no', 'no', 'no', 'no', 0, 'no', 'unfurnished')</span>\n",
       "<span style=\"color: #d4b702; text-decoration-color: #d4b702; font-weight: bold\">(536, 2100000, 3360, 2, 1, 1, 'yes', 'no', 'no', 'no', 'no', 1, 'no', 'unfurnished')</span>\n",
       "<span style=\"color: #d4b702; text-decoration-color: #d4b702; font-weight: bold\">(537, 1960000, 3420, 5, 1, 2, 'no', 'no', 'no', 'no', 'no', 0, 'no', 'unfurnished')</span>\n",
       "<span style=\"color: #d4b702; text-decoration-color: #d4b702; font-weight: bold\">(538, 1890000, 1700, 3, 1, 2, 'yes', 'no', 'no', 'no', 'no', 0, 'no', 'unfurnished')</span>\n",
       "<span style=\"color: #d4b702; text-decoration-color: #d4b702; font-weight: bold\">(539, 1890000, 3649, 2, 1, 1, 'yes', 'no', 'no', 'no', 'no', 0, 'no', 'unfurnished')</span>\n",
       "<span style=\"color: #d4b702; text-decoration-color: #d4b702; font-weight: bold\">(540, 1855000, 2990, 2, 1, 1, 'no', 'no', 'no', 'no', 'no', 1, 'no', 'unfurnished')</span>\n",
       "<span style=\"color: #d4b702; text-decoration-color: #d4b702; font-weight: bold\">(541, 1820000, 3000, 2, 1, 1, 'yes', 'no', 'yes', 'no', 'no', 2, 'no', 'unfurnished')</span>\n",
       "<span style=\"color: #d4b702; text-decoration-color: #d4b702; font-weight: bold\">(542, 1767150, 2400, 3, 1, 1, 'no', 'no', 'no', 'no', 'no', 0, 'no', 'semi-furnished')</span>\n",
       "<span style=\"color: #d4b702; text-decoration-color: #d4b702; font-weight: bold\">(543, 1750000, 3620, 2, 1, 1, 'yes', 'no', 'no', 'no', 'no', 0, 'no', 'unfurnished')</span>\n",
       "<span style=\"color: #d4b702; text-decoration-color: #d4b702; font-weight: bold\">(544, 1750000, 2910, 3, 1, 1, 'no', 'no', 'no', 'no', 'no', 0, 'no', 'furnished')</span>\n",
       "<span style=\"color: #d4b702; text-decoration-color: #d4b702; font-weight: bold\">(545, 1750000, 3850, 3, 1, 2, 'yes', 'no', 'no', 'no', 'no', 0, 'no', 'unfurnished')</span>\n",
       "\n",
       "</pre>\n"
      ],
      "text/plain": [
       "\u001b[1;38;2;212;183;2mOut - Final answer: (1, 13300000, 7420, 4, 2, 3, 'yes', 'no', 'no', 'no', 'yes', 2, 'yes', 'furnished')\u001b[0m\n",
       "\u001b[1;38;2;212;183;2m(2, 12250000, 8960, 4, 4, 4, 'yes', 'no', 'no', 'no', 'yes', 3, 'no', 'furnished')\u001b[0m\n",
       "\u001b[1;38;2;212;183;2m(3, 12250000, 9960, 3, 2, 2, 'yes', 'no', 'yes', 'no', 'no', 2, 'yes', 'semi-furnished')\u001b[0m\n",
       "\u001b[1;38;2;212;183;2m(4, 12215000, 7500, 4, 2, 2, 'yes', 'no', 'yes', 'no', 'yes', 3, 'yes', 'furnished')\u001b[0m\n",
       "\u001b[1;38;2;212;183;2m(5, 11410000, 7420, 4, 1, 2, 'yes', 'yes', 'yes', 'no', 'yes', 2, 'no', 'furnished')\u001b[0m\n",
       "\u001b[1;38;2;212;183;2m(6, 10850000, 7500, 3, 3, 1, 'yes', 'no', 'yes', 'no', 'yes', 2, 'yes', 'semi-furnished')\u001b[0m\n",
       "\u001b[1;38;2;212;183;2m(7, 10150000, 8580, 4, 3, 4, 'yes', 'no', 'no', 'no', 'yes', 2, 'yes', 'semi-furnished')\u001b[0m\n",
       "\u001b[1;38;2;212;183;2m(8, 10150000, 16200, 5, 3, 2, 'yes', 'no', 'no', 'no', 'no', 0, 'no', 'unfurnished')\u001b[0m\n",
       "\u001b[1;38;2;212;183;2m(9, 9870000, 8100, 4, 1, 2, 'yes', 'yes', 'yes', 'no', 'yes', 2, 'yes', 'furnished')\u001b[0m\n",
       "\u001b[1;38;2;212;183;2m(10, 9800000, 5750, 3, 2, 4, 'yes', 'yes', 'no', 'no', 'yes', 1, 'yes', 'unfurnished')\u001b[0m\n",
       "\u001b[1;38;2;212;183;2m(11, 9800000, 13200, 3, 1, 2, 'yes', 'no', 'yes', 'no', 'yes', 2, 'yes', 'furnished')\u001b[0m\n",
       "\u001b[1;38;2;212;183;2m(12, 9681000, 6000, 4, 3, 2, 'yes', 'yes', 'yes', 'yes', 'no', 2, 'no', 'semi-furnished')\u001b[0m\n",
       "\u001b[1;38;2;212;183;2m(13, 9310000, 6550, 4, 2, 2, 'yes', 'no', 'no', 'no', 'yes', 1, 'yes', 'semi-furnished')\u001b[0m\n",
       "\u001b[1;38;2;212;183;2m(14, 9240000, 3500, 4, 2, 2, 'yes', 'no', 'no', 'yes', 'no', 2, 'no', 'furnished')\u001b[0m\n",
       "\u001b[1;38;2;212;183;2m(15, 9240000, 7800, 3, 2, 2, 'yes', 'no', 'no', 'no', 'no', 0, 'yes', 'semi-furnished')\u001b[0m\n",
       "\u001b[1;38;2;212;183;2m(16, 9100000, 6000, 4, 1, 2, 'yes', 'no', 'yes', 'no', 'no', 2, 'no', 'semi-furnished')\u001b[0m\n",
       "\u001b[1;38;2;212;183;2m(17, 9100000, 6600, 4, 2, 2, 'yes', 'yes', 'yes', 'no', 'yes', 1, 'yes', 'unfurnished')\u001b[0m\n",
       "\u001b[1;38;2;212;183;2m(18, 8960000, 8500, 3, 2, 4, 'yes', 'no', 'no', 'no', 'yes', 2, 'no', 'furnished')\u001b[0m\n",
       "\u001b[1;38;2;212;183;2m(19, 8890000, 4600, 3, 2, 2, 'yes', 'yes', 'no', 'no', 'yes', 2, 'no', 'furnished')\u001b[0m\n",
       "\u001b[1;38;2;212;183;2m(20, 8855000, 6420, 3, 2, 2, 'yes', 'no', 'no', 'no', 'yes', 1, 'yes', 'semi-furnished')\u001b[0m\n",
       "\u001b[1;38;2;212;183;2m(21, 8750000, 4320, 3, 1, 2, 'yes', 'no', 'yes', 'yes', 'no', 2, 'no', 'semi-furnished')\u001b[0m\n",
       "\u001b[1;38;2;212;183;2m(22, 8680000, 7155, 3, 2, 1, 'yes', 'yes', 'yes', 'no', 'yes', 2, 'no', 'unfurnished')\u001b[0m\n",
       "\u001b[1;38;2;212;183;2m(23, 8645000, 8050, 3, 1, 1, 'yes', 'yes', 'yes', 'no', 'yes', 1, 'no', 'furnished')\u001b[0m\n",
       "\u001b[1;38;2;212;183;2m(24, 8645000, 4560, 3, 2, 2, 'yes', 'yes', 'yes', 'no', 'yes', 1, 'no', 'furnished')\u001b[0m\n",
       "\u001b[1;38;2;212;183;2m(25, 8575000, 8800, 3, 2, 2, 'yes', 'no', 'no', 'no', 'yes', 2, 'no', 'furnished')\u001b[0m\n",
       "\u001b[1;38;2;212;183;2m(26, 8540000, 6540, 4, 2, 2, 'yes', 'yes', 'yes', 'no', 'yes', 2, 'yes', 'furnished')\u001b[0m\n",
       "\u001b[1;38;2;212;183;2m(27, 8463000, 6000, 3, 2, 4, 'yes', 'yes', 'yes', 'no', 'yes', 0, 'yes', 'semi-furnished')\u001b[0m\n",
       "\u001b[1;38;2;212;183;2m(28, 8400000, 8875, 3, 1, 1, 'yes', 'no', 'no', 'no', 'no', 1, 'no', 'semi-furnished')\u001b[0m\n",
       "\u001b[1;38;2;212;183;2m(29, 8400000, 7950, 5, 2, 2, 'yes', 'no', 'yes', 'yes', 'no', 2, 'no', 'unfurnished')\u001b[0m\n",
       "\u001b[1;38;2;212;183;2m(30, 8400000, 5500, 4, 2, 2, 'yes', 'no', 'yes', 'no', 'yes', 1, 'yes', 'semi-furnished')\u001b[0m\n",
       "\u001b[1;38;2;212;183;2m(31, 8400000, 7475, 3, 2, 4, 'yes', 'no', 'no', 'no', 'yes', 2, 'no', 'unfurnished')\u001b[0m\n",
       "\u001b[1;38;2;212;183;2m(32, 8400000, 7000, 3, 1, 4, 'yes', 'no', 'no', 'no', 'yes', 2, 'no', 'semi-furnished')\u001b[0m\n",
       "\u001b[1;38;2;212;183;2m(33, 8295000, 4880, 4, 2, 2, 'yes', 'no', 'no', 'no', 'yes', 1, 'yes', 'furnished')\u001b[0m\n",
       "\u001b[1;38;2;212;183;2m(34, 8190000, 5960, 3, 3, 2, 'yes', 'yes', 'yes', 'no', 'no', 1, 'no', 'unfurnished')\u001b[0m\n",
       "\u001b[1;38;2;212;183;2m(35, 8120000, 6840, 5, 1, 2, 'yes', 'yes', 'yes', 'no', 'yes', 1, 'no', 'furnished')\u001b[0m\n",
       "\u001b[1;38;2;212;183;2m(36, 8080940, 7000, 3, 2, 4, 'yes', 'no', 'no', 'no', 'yes', 2, 'no', 'furnished')\u001b[0m\n",
       "\u001b[1;38;2;212;183;2m(37, 8043000, 7482, 3, 2, 3, 'yes', 'no', 'no', 'yes', 'no', 1, 'yes', 'furnished')\u001b[0m\n",
       "\u001b[1;38;2;212;183;2m(38, 7980000, 9000, 4, 2, 4, 'yes', 'no', 'no', 'no', 'yes', 2, 'no', 'furnished')\u001b[0m\n",
       "\u001b[1;38;2;212;183;2m(39, 7962500, 6000, 3, 1, 4, 'yes', 'yes', 'no', 'no', 'yes', 2, 'no', 'unfurnished')\u001b[0m\n",
       "\u001b[1;38;2;212;183;2m(40, 7910000, 6000, 4, 2, 4, 'yes', 'no', 'no', 'no', 'yes', 1, 'no', 'semi-furnished')\u001b[0m\n",
       "\u001b[1;38;2;212;183;2m(41, 7875000, 6550, 3, 1, 2, 'yes', 'no', 'yes', 'no', 'yes', 0, 'yes', 'furnished')\u001b[0m\n",
       "\u001b[1;38;2;212;183;2m(42, 7840000, 6360, 3, 2, 4, 'yes', 'no', 'no', 'no', 'yes', 0, 'yes', 'furnished')\u001b[0m\n",
       "\u001b[1;38;2;212;183;2m(43, 7700000, 6480, 3, 2, 4, 'yes', 'no', 'no', 'no', 'yes', 2, 'no', 'unfurnished')\u001b[0m\n",
       "\u001b[1;38;2;212;183;2m(44, 7700000, 6000, 4, 2, 4, 'yes', 'no', 'no', 'no', 'no', 2, 'no', 'semi-furnished')\u001b[0m\n",
       "\u001b[1;38;2;212;183;2m(45, 7560000, 6000, 4, 2, 4, 'yes', 'no', 'no', 'no', 'yes', 1, 'no', 'furnished')\u001b[0m\n",
       "\u001b[1;38;2;212;183;2m(46, 7560000, 6000, 3, 2, 3, 'yes', 'no', 'no', 'no', 'yes', 0, 'no', 'semi-furnished')\u001b[0m\n",
       "\u001b[1;38;2;212;183;2m(47, 7525000, 6000, 3, 2, 4, 'yes', 'no', 'no', 'no', 'yes', 1, 'no', 'furnished')\u001b[0m\n",
       "\u001b[1;38;2;212;183;2m(48, 7490000, 6600, 3, 1, 4, 'yes', 'no', 'no', 'no', 'yes', 3, 'yes', 'furnished')\u001b[0m\n",
       "\u001b[1;38;2;212;183;2m(49, 7455000, 4300, 3, 2, 2, 'yes', 'no', 'yes', 'no', 'no', 1, 'no', 'unfurnished')\u001b[0m\n",
       "\u001b[1;38;2;212;183;2m(50, 7420000, 7440, 3, 2, 1, 'yes', 'yes', 'yes', 'no', 'yes', 0, 'yes', 'semi-furnished')\u001b[0m\n",
       "\u001b[1;38;2;212;183;2m(51, 7420000, 7440, 3, 2, 4, 'yes', 'no', 'no', 'no', 'no', 1, 'yes', 'unfurnished')\u001b[0m\n",
       "\u001b[1;38;2;212;183;2m(52, 7420000, 6325, 3, 1, 4, 'yes', 'no', 'no', 'no', 'yes', 1, 'no', 'unfurnished')\u001b[0m\n",
       "\u001b[1;38;2;212;183;2m(53, 7350000, 6000, 4, 2, 4, 'yes', 'yes', 'no', 'no', 'yes', 1, 'no', 'furnished')\u001b[0m\n",
       "\u001b[1;38;2;212;183;2m(54, 7350000, 5150, 3, 2, 4, 'yes', 'no', 'no', 'no', 'yes', 2, 'no', 'semi-furnished')\u001b[0m\n",
       "\u001b[1;38;2;212;183;2m(55, 7350000, 6000, 3, 2, 2, 'yes', 'yes', 'no', 'no', 'yes', 1, 'no', 'semi-furnished')\u001b[0m\n",
       "\u001b[1;38;2;212;183;2m(56, 7350000, 6000, 3, 1, 2, 'yes', 'no', 'no', 'no', 'yes', 1, 'no', 'unfurnished')\u001b[0m\n",
       "\u001b[1;38;2;212;183;2m(57, 7343000, 11440, 4, 1, 2, 'yes', 'no', 'yes', 'no', 'no', 1, 'yes', 'semi-furnished')\u001b[0m\n",
       "\u001b[1;38;2;212;183;2m(58, 7245000, 9000, 4, 2, 4, 'yes', 'yes', 'no', 'no', 'yes', 1, 'yes', 'furnished')\u001b[0m\n",
       "\u001b[1;38;2;212;183;2m(59, 7210000, 7680, 4, 2, 4, 'yes', 'yes', 'no', 'no', 'yes', 1, 'no', 'semi-furnished')\u001b[0m\n",
       "\u001b[1;38;2;212;183;2m(60, 7210000, 6000, 3, 2, 4, 'yes', 'yes', 'no', 'no', 'yes', 1, 'no', 'furnished')\u001b[0m\n",
       "\u001b[1;38;2;212;183;2m(61, 7140000, 6000, 3, 2, 2, 'yes', 'yes', 'no', 'no', 'no', 1, 'no', 'semi-furnished')\u001b[0m\n",
       "\u001b[1;38;2;212;183;2m(62, 7070000, 8880, 2, 1, 1, 'yes', 'no', 'no', 'no', 'yes', 1, 'no', 'semi-furnished')\u001b[0m\n",
       "\u001b[1;38;2;212;183;2m(63, 7070000, 6240, 4, 2, 2, 'yes', 'no', 'no', 'no', 'yes', 1, 'no', 'furnished')\u001b[0m\n",
       "\u001b[1;38;2;212;183;2m(64, 7035000, 6360, 4, 2, 3, 'yes', 'no', 'no', 'no', 'yes', 2, 'yes', 'furnished')\u001b[0m\n",
       "\u001b[1;38;2;212;183;2m(65, 7000000, 11175, 3, 1, 1, 'yes', 'no', 'yes', 'no', 'yes', 1, 'yes', 'furnished')\u001b[0m\n",
       "\u001b[1;38;2;212;183;2m(66, 6930000, 8880, 3, 2, 2, 'yes', 'no', 'yes', 'no', 'yes', 1, 'no', 'furnished')\u001b[0m\n",
       "\u001b[1;38;2;212;183;2m(67, 6930000, 13200, 2, 1, 1, 'yes', 'no', 'yes', 'yes', 'no', 1, 'no', 'furnished')\u001b[0m\n",
       "\u001b[1;38;2;212;183;2m(68, 6895000, 7700, 3, 2, 1, 'yes', 'no', 'no', 'no', 'no', 2, 'no', 'unfurnished')\u001b[0m\n",
       "\u001b[1;38;2;212;183;2m(69, 6860000, 6000, 3, 1, 1, 'yes', 'no', 'no', 'no', 'yes', 1, 'no', 'furnished')\u001b[0m\n",
       "\u001b[1;38;2;212;183;2m(70, 6790000, 12090, 4, 2, 2, 'yes', 'no', 'no', 'no', 'no', 2, 'yes', 'furnished')\u001b[0m\n",
       "\u001b[1;38;2;212;183;2m(71, 6790000, 4000, 3, 2, 2, 'yes', 'no', 'yes', 'no', 'yes', 0, 'yes', 'semi-furnished')\u001b[0m\n",
       "\u001b[1;38;2;212;183;2m(72, 6755000, 6000, 4, 2, 4, 'yes', 'no', 'no', 'no', 'yes', 0, 'no', 'unfurnished')\u001b[0m\n",
       "\u001b[1;38;2;212;183;2m(73, 6720000, 5020, 3, 1, 4, 'yes', 'no', 'no', 'no', 'yes', 0, 'yes', 'unfurnished')\u001b[0m\n",
       "\u001b[1;38;2;212;183;2m(74, 6685000, 6600, 2, 2, 4, 'yes', 'no', 'yes', 'no', 'no', 0, 'yes', 'furnished')\u001b[0m\n",
       "\u001b[1;38;2;212;183;2m(75, 6650000, 4040, 3, 1, 2, 'yes', 'no', 'yes', 'yes', 'no', 1, 'no', 'furnished')\u001b[0m\n",
       "\u001b[1;38;2;212;183;2m(76, 6650000, 4260, 4, 2, 2, 'yes', 'no', 'no', 'yes', 'no', 0, 'no', 'semi-furnished')\u001b[0m\n",
       "\u001b[1;38;2;212;183;2m(77, 6650000, 6420, 3, 2, 3, 'yes', 'no', 'no', 'no', 'yes', 0, 'yes', 'furnished')\u001b[0m\n",
       "\u001b[1;38;2;212;183;2m(78, 6650000, 6500, 3, 2, 3, 'yes', 'no', 'no', 'no', 'yes', 0, 'yes', 'furnished')\u001b[0m\n",
       "\u001b[1;38;2;212;183;2m(79, 6650000, 5700, 3, 1, 1, 'yes', 'yes', 'yes', 'no', 'yes', 2, 'yes', 'furnished')\u001b[0m\n",
       "\u001b[1;38;2;212;183;2m(80, 6650000, 6000, 3, 2, 3, 'yes', 'yes', 'no', 'no', 'yes', 0, 'no', 'furnished')\u001b[0m\n",
       "\u001b[1;38;2;212;183;2m(81, 6629000, 6000, 3, 1, 2, 'yes', 'no', 'no', 'yes', 'no', 1, 'yes', 'semi-furnished')\u001b[0m\n",
       "\u001b[1;38;2;212;183;2m(82, 6615000, 4000, 3, 2, 2, 'yes', 'no', 'yes', 'no', 'yes', 1, 'no', 'semi-furnished')\u001b[0m\n",
       "\u001b[1;38;2;212;183;2m(83, 6615000, 10500, 3, 2, 1, 'yes', 'no', 'yes', 'no', 'yes', 1, 'yes', 'furnished')\u001b[0m\n",
       "\u001b[1;38;2;212;183;2m(84, 6580000, 6000, 3, 2, 4, 'yes', 'no', 'no', 'no', 'yes', 0, 'no', 'semi-furnished')\u001b[0m\n",
       "\u001b[1;38;2;212;183;2m(85, 6510000, 3760, 3, 1, 2, 'yes', 'no', 'no', 'yes', 'no', 2, 'no', 'semi-furnished')\u001b[0m\n",
       "\u001b[1;38;2;212;183;2m(86, 6510000, 8250, 3, 2, 3, 'yes', 'no', 'no', 'no', 'yes', 0, 'no', 'furnished')\u001b[0m\n",
       "\u001b[1;38;2;212;183;2m(87, 6510000, 6670, 3, 1, 3, 'yes', 'no', 'yes', 'no', 'no', 0, 'yes', 'unfurnished')\u001b[0m\n",
       "\u001b[1;38;2;212;183;2m(88, 6475000, 3960, 3, 1, 1, 'yes', 'no', 'yes', 'no', 'no', 2, 'no', 'semi-furnished')\u001b[0m\n",
       "\u001b[1;38;2;212;183;2m(89, 6475000, 7410, 3, 1, 1, 'yes', 'yes', 'yes', 'no', 'yes', 2, 'yes', 'unfurnished')\u001b[0m\n",
       "\u001b[1;38;2;212;183;2m(90, 6440000, 8580, 5, 3, 2, 'yes', 'no', 'no', 'no', 'no', 2, 'no', 'furnished')\u001b[0m\n",
       "\u001b[1;38;2;212;183;2m(91, 6440000, 5000, 3, 1, 2, 'yes', 'no', 'no', 'no', 'yes', 0, 'no', 'semi-furnished')\u001b[0m\n",
       "\u001b[1;38;2;212;183;2m(92, 6419000, 6750, 2, 1, 1, 'yes', 'yes', 'yes', 'no', 'no', 2, 'yes', 'furnished')\u001b[0m\n",
       "\u001b[1;38;2;212;183;2m(93, 6405000, 4800, 3, 2, 4, 'yes', 'yes', 'no', 'no', 'yes', 0, 'no', 'furnished')\u001b[0m\n",
       "\u001b[1;38;2;212;183;2m(94, 6300000, 7200, 3, 2, 1, 'yes', 'no', 'yes', 'no', 'yes', 3, 'no', 'semi-furnished')\u001b[0m\n",
       "\u001b[1;38;2;212;183;2m(95, 6300000, 6000, 4, 2, 4, 'yes', 'no', 'no', 'no', 'no', 1, 'no', 'semi-furnished')\u001b[0m\n",
       "\u001b[1;38;2;212;183;2m(96, 6300000, 4100, 3, 2, 3, 'yes', 'no', 'no', 'no', 'yes', 2, 'no', 'semi-furnished')\u001b[0m\n",
       "\u001b[1;38;2;212;183;2m(97, 6300000, 9000, 3, 1, 1, 'yes', 'no', 'yes', 'no', 'no', 1, 'yes', 'furnished')\u001b[0m\n",
       "\u001b[1;38;2;212;183;2m(98, 6300000, 6400, 3, 1, 1, 'yes', 'yes', 'yes', 'no', 'yes', 1, 'yes', 'semi-furnished')\u001b[0m\n",
       "\u001b[1;38;2;212;183;2m(99, 6293000, 6600, 3, 2, 3, 'yes', 'no', 'no', 'no', 'yes', 0, 'yes', 'unfurnished')\u001b[0m\n",
       "\u001b[1;38;2;212;183;2m(100, 6265000, 6000, 4, 1, 3, 'yes', 'yes', 'yes', 'no', 'no', 0, 'yes', 'unfurnished')\u001b[0m\n",
       "\u001b[1;38;2;212;183;2m(101, 6230000, 6600, 3, 2, 1, 'yes', 'no', 'yes', 'no', 'yes', 0, 'yes', 'unfurnished')\u001b[0m\n",
       "\u001b[1;38;2;212;183;2m(102, 6230000, 5500, 3, 1, 3, 'yes', 'no', 'no', 'no', 'no', 1, 'yes', 'unfurnished')\u001b[0m\n",
       "\u001b[1;38;2;212;183;2m(103, 6195000, 5500, 3, 2, 4, 'yes', 'yes', 'no', 'no', 'yes', 1, 'no', 'semi-furnished')\u001b[0m\n",
       "\u001b[1;38;2;212;183;2m(104, 6195000, 6350, 3, 2, 3, 'yes', 'yes', 'no', 'no', 'yes', 0, 'no', 'furnished')\u001b[0m\n",
       "\u001b[1;38;2;212;183;2m(105, 6195000, 5500, 3, 2, 1, 'yes', 'yes', 'yes', 'no', 'no', 2, 'yes', 'furnished')\u001b[0m\n",
       "\u001b[1;38;2;212;183;2m(106, 6160000, 4500, 3, 1, 4, 'yes', 'no', 'no', 'no', 'yes', 0, 'no', 'unfurnished')\u001b[0m\n",
       "\u001b[1;38;2;212;183;2m(107, 6160000, 5450, 4, 2, 1, 'yes', 'no', 'yes', 'no', 'yes', 0, 'yes', 'semi-furnished')\u001b[0m\n",
       "\u001b[1;38;2;212;183;2m(108, 6125000, 6420, 3, 1, 3, 'yes', 'no', 'yes', 'no', 'no', 0, 'yes', 'unfurnished')\u001b[0m\n",
       "\u001b[1;38;2;212;183;2m(109, 6107500, 3240, 4, 1, 3, 'yes', 'no', 'no', 'no', 'no', 1, 'no', 'semi-furnished')\u001b[0m\n",
       "\u001b[1;38;2;212;183;2m(110, 6090000, 6615, 4, 2, 2, 'yes', 'yes', 'no', 'yes', 'no', 1, 'no', 'semi-furnished')\u001b[0m\n",
       "\u001b[1;38;2;212;183;2m(111, 6090000, 6600, 3, 1, 1, 'yes', 'yes', 'yes', 'no', 'no', 2, 'yes', 'semi-furnished')\u001b[0m\n",
       "\u001b[1;38;2;212;183;2m(112, 6090000, 8372, 3, 1, 3, 'yes', 'no', 'no', 'no', 'yes', 2, 'no', 'unfurnished')\u001b[0m\n",
       "\u001b[1;38;2;212;183;2m(113, 6083000, 4300, 6, 2, 2, 'yes', 'no', 'no', 'no', 'no', 0, 'no', 'furnished')\u001b[0m\n",
       "\u001b[1;38;2;212;183;2m(114, 6083000, 9620, 3, 1, 1, 'yes', 'no', 'yes', 'no', 'no', 2, 'yes', 'furnished')\u001b[0m\n",
       "\u001b[1;38;2;212;183;2m(115, 6020000, 6800, 2, 1, 1, 'yes', 'yes', 'yes', 'no', 'no', 2, 'no', 'furnished')\u001b[0m\n",
       "\u001b[1;38;2;212;183;2m(116, 6020000, 8000, 3, 1, 1, 'yes', 'yes', 'yes', 'no', 'yes', 2, 'yes', 'semi-fu\u001b[0m\n",
       "\u001b[1;38;2;212;183;2m..._This content has been truncated to stay below 20000 characters_...\u001b[0m\n",
       "\u001b[1;38;2;212;183;2m')\u001b[0m\n",
       "\u001b[1;38;2;212;183;2m(429, 3325000, 4040, 2, 1, 1, 'yes', 'no', 'no', 'no', 'no', 1, 'no', 'unfurnished')\u001b[0m\n",
       "\u001b[1;38;2;212;183;2m(430, 3325000, 4775, 4, 1, 2, 'yes', 'no', 'no', 'no', 'no', 0, 'no', 'unfurnished')\u001b[0m\n",
       "\u001b[1;38;2;212;183;2m(431, 3290000, 2500, 2, 1, 1, 'no', 'no', 'no', 'no', 'yes', 0, 'no', 'unfurnished')\u001b[0m\n",
       "\u001b[1;38;2;212;183;2m(432, 3290000, 3180, 4, 1, 2, 'yes', 'no', 'yes', 'no', 'yes', 0, 'no', 'unfurnished')\u001b[0m\n",
       "\u001b[1;38;2;212;183;2m(433, 3290000, 6060, 3, 1, 1, 'yes', 'yes', 'yes', 'no', 'no', 0, 'no', 'furnished')\u001b[0m\n",
       "\u001b[1;38;2;212;183;2m(434, 3290000, 3480, 4, 1, 2, 'no', 'no', 'no', 'no', 'no', 1, 'no', 'semi-furnished')\u001b[0m\n",
       "\u001b[1;38;2;212;183;2m(435, 3290000, 3792, 4, 1, 2, 'yes', 'no', 'no', 'no', 'no', 0, 'no', 'semi-furnished')\u001b[0m\n",
       "\u001b[1;38;2;212;183;2m(436, 3290000, 4040, 2, 1, 1, 'yes', 'no', 'no', 'no', 'no', 0, 'no', 'unfurnished')\u001b[0m\n",
       "\u001b[1;38;2;212;183;2m(437, 3290000, 2145, 3, 1, 2, 'yes', 'no', 'yes', 'no', 'no', 0, 'yes', 'furnished')\u001b[0m\n",
       "\u001b[1;38;2;212;183;2m(438, 3290000, 5880, 3, 1, 1, 'yes', 'no', 'no', 'no', 'no', 1, 'no', 'unfurnished')\u001b[0m\n",
       "\u001b[1;38;2;212;183;2m(439, 3255000, 4500, 2, 1, 1, 'no', 'no', 'no', 'no', 'no', 0, 'no', 'semi-furnished')\u001b[0m\n",
       "\u001b[1;38;2;212;183;2m(440, 3255000, 3930, 2, 1, 1, 'no', 'no', 'no', 'no', 'no', 0, 'no', 'unfurnished')\u001b[0m\n",
       "\u001b[1;38;2;212;183;2m(441, 3234000, 3640, 4, 1, 2, 'yes', 'no', 'yes', 'no', 'no', 0, 'no', 'unfurnished')\u001b[0m\n",
       "\u001b[1;38;2;212;183;2m(442, 3220000, 4370, 3, 1, 2, 'yes', 'no', 'no', 'no', 'no', 0, 'no', 'unfurnished')\u001b[0m\n",
       "\u001b[1;38;2;212;183;2m(443, 3220000, 2684, 2, 1, 1, 'yes', 'no', 'no', 'no', 'yes', 1, 'no', 'unfurnished')\u001b[0m\n",
       "\u001b[1;38;2;212;183;2m(444, 3220000, 4320, 3, 1, 1, 'no', 'no', 'no', 'no', 'no', 1, 'no', 'unfurnished')\u001b[0m\n",
       "\u001b[1;38;2;212;183;2m(445, 3220000, 3120, 3, 1, 2, 'no', 'no', 'no', 'no', 'no', 0, 'no', 'furnished')\u001b[0m\n",
       "\u001b[1;38;2;212;183;2m(446, 3150000, 3450, 1, 1, 1, 'yes', 'no', 'no', 'no', 'no', 0, 'no', 'furnished')\u001b[0m\n",
       "\u001b[1;38;2;212;183;2m(447, 3150000, 3986, 2, 2, 1, 'no', 'yes', 'yes', 'no', 'no', 1, 'no', 'unfurnished')\u001b[0m\n",
       "\u001b[1;38;2;212;183;2m(448, 3150000, 3500, 2, 1, 1, 'no', 'no', 'yes', 'no', 'no', 0, 'no', 'semi-furnished')\u001b[0m\n",
       "\u001b[1;38;2;212;183;2m(449, 3150000, 4095, 2, 1, 1, 'yes', 'no', 'no', 'no', 'no', 2, 'no', 'semi-furnished')\u001b[0m\n",
       "\u001b[1;38;2;212;183;2m(450, 3150000, 1650, 3, 1, 2, 'no', 'no', 'yes', 'no', 'no', 0, 'no', 'unfurnished')\u001b[0m\n",
       "\u001b[1;38;2;212;183;2m(451, 3150000, 3450, 3, 1, 2, 'yes', 'no', 'yes', 'no', 'no', 0, 'no', 'semi-furnished')\u001b[0m\n",
       "\u001b[1;38;2;212;183;2m(452, 3150000, 6750, 2, 1, 1, 'yes', 'no', 'no', 'no', 'no', 0, 'no', 'semi-furnished')\u001b[0m\n",
       "\u001b[1;38;2;212;183;2m(453, 3150000, 9000, 3, 1, 2, 'yes', 'no', 'no', 'no', 'no', 2, 'no', 'semi-furnished')\u001b[0m\n",
       "\u001b[1;38;2;212;183;2m(454, 3150000, 3069, 2, 1, 1, 'yes', 'no', 'no', 'no', 'no', 1, 'no', 'unfurnished')\u001b[0m\n",
       "\u001b[1;38;2;212;183;2m(455, 3143000, 4500, 3, 1, 2, 'yes', 'no', 'no', 'no', 'yes', 0, 'no', 'unfurnished')\u001b[0m\n",
       "\u001b[1;38;2;212;183;2m(456, 3129000, 5495, 3, 1, 1, 'yes', 'no', 'yes', 'no', 'no', 0, 'no', 'unfurnished')\u001b[0m\n",
       "\u001b[1;38;2;212;183;2m(457, 3118850, 2398, 3, 1, 1, 'yes', 'no', 'no', 'no', 'no', 0, 'yes', 'semi-furnished')\u001b[0m\n",
       "\u001b[1;38;2;212;183;2m(458, 3115000, 3000, 3, 1, 1, 'no', 'no', 'no', 'no', 'yes', 0, 'no', 'unfurnished')\u001b[0m\n",
       "\u001b[1;38;2;212;183;2m(459, 3115000, 3850, 3, 1, 2, 'yes', 'no', 'no', 'no', 'no', 0, 'no', 'unfurnished')\u001b[0m\n",
       "\u001b[1;38;2;212;183;2m(460, 3115000, 3500, 2, 1, 1, 'yes', 'no', 'no', 'no', 'no', 0, 'no', 'unfurnished')\u001b[0m\n",
       "\u001b[1;38;2;212;183;2m(461, 3087000, 8100, 2, 1, 1, 'yes', 'no', 'no', 'no', 'no', 1, 'no', 'unfurnished')\u001b[0m\n",
       "\u001b[1;38;2;212;183;2m(462, 3080000, 4960, 2, 1, 1, 'yes', 'no', 'yes', 'no', 'yes', 0, 'no', 'unfurnished')\u001b[0m\n",
       "\u001b[1;38;2;212;183;2m(463, 3080000, 2160, 3, 1, 2, 'no', 'no', 'yes', 'no', 'no', 0, 'no', 'semi-furnished')\u001b[0m\n",
       "\u001b[1;38;2;212;183;2m(464, 3080000, 3090, 2, 1, 1, 'yes', 'yes', 'yes', 'no', 'no', 0, 'no', 'unfurnished')\u001b[0m\n",
       "\u001b[1;38;2;212;183;2m(465, 3080000, 4500, 2, 1, 2, 'yes', 'no', 'no', 'yes', 'no', 1, 'no', 'semi-furnished')\u001b[0m\n",
       "\u001b[1;38;2;212;183;2m(466, 3045000, 3800, 2, 1, 1, 'yes', 'no', 'no', 'no', 'no', 0, 'no', 'unfurnished')\u001b[0m\n",
       "\u001b[1;38;2;212;183;2m(467, 3010000, 3090, 3, 1, 2, 'no', 'no', 'no', 'no', 'no', 0, 'no', 'semi-furnished')\u001b[0m\n",
       "\u001b[1;38;2;212;183;2m(468, 3010000, 3240, 3, 1, 2, 'yes', 'no', 'no', 'no', 'no', 2, 'no', 'semi-furnished')\u001b[0m\n",
       "\u001b[1;38;2;212;183;2m(469, 3010000, 2835, 2, 1, 1, 'yes', 'no', 'no', 'no', 'no', 0, 'no', 'semi-furnished')\u001b[0m\n",
       "\u001b[1;38;2;212;183;2m(470, 3010000, 4600, 2, 1, 1, 'yes', 'no', 'no', 'no', 'no', 0, 'no', 'furnished')\u001b[0m\n",
       "\u001b[1;38;2;212;183;2m(471, 3010000, 5076, 3, 1, 1, 'no', 'no', 'no', 'no', 'no', 0, 'no', 'unfurnished')\u001b[0m\n",
       "\u001b[1;38;2;212;183;2m(472, 3010000, 3750, 3, 1, 2, 'yes', 'no', 'no', 'no', 'no', 0, 'no', 'unfurnished')\u001b[0m\n",
       "\u001b[1;38;2;212;183;2m(473, 3010000, 3630, 4, 1, 2, 'yes', 'no', 'no', 'no', 'no', 3, 'no', 'semi-furnished')\u001b[0m\n",
       "\u001b[1;38;2;212;183;2m(474, 3003000, 8050, 2, 1, 1, 'yes', 'no', 'no', 'no', 'no', 0, 'no', 'unfurnished')\u001b[0m\n",
       "\u001b[1;38;2;212;183;2m(475, 2975000, 4352, 4, 1, 2, 'no', 'no', 'no', 'no', 'no', 1, 'no', 'unfurnished')\u001b[0m\n",
       "\u001b[1;38;2;212;183;2m(476, 2961000, 3000, 2, 1, 2, 'yes', 'no', 'no', 'no', 'no', 0, 'no', 'semi-furnished')\u001b[0m\n",
       "\u001b[1;38;2;212;183;2m(477, 2940000, 5850, 3, 1, 2, 'yes', 'no', 'yes', 'no', 'no', 1, 'no', 'unfurnished')\u001b[0m\n",
       "\u001b[1;38;2;212;183;2m(478, 2940000, 4960, 2, 1, 1, 'yes', 'no', 'no', 'no', 'no', 0, 'no', 'unfurnished')\u001b[0m\n",
       "\u001b[1;38;2;212;183;2m(479, 2940000, 3600, 3, 1, 2, 'no', 'no', 'no', 'no', 'no', 1, 'no', 'unfurnished')\u001b[0m\n",
       "\u001b[1;38;2;212;183;2m(480, 2940000, 3660, 4, 1, 2, 'no', 'no', 'no', 'no', 'no', 0, 'no', 'unfurnished')\u001b[0m\n",
       "\u001b[1;38;2;212;183;2m(481, 2940000, 3480, 3, 1, 2, 'no', 'no', 'no', 'no', 'no', 1, 'no', 'semi-furnished')\u001b[0m\n",
       "\u001b[1;38;2;212;183;2m(482, 2940000, 2700, 2, 1, 1, 'no', 'no', 'no', 'no', 'no', 0, 'no', 'furnished')\u001b[0m\n",
       "\u001b[1;38;2;212;183;2m(483, 2940000, 3150, 3, 1, 2, 'no', 'no', 'no', 'no', 'no', 0, 'no', 'unfurnished')\u001b[0m\n",
       "\u001b[1;38;2;212;183;2m(484, 2940000, 6615, 3, 1, 2, 'yes', 'no', 'no', 'no', 'no', 0, 'no', 'semi-furnished')\u001b[0m\n",
       "\u001b[1;38;2;212;183;2m(485, 2870000, 3040, 2, 1, 1, 'no', 'no', 'no', 'no', 'no', 0, 'no', 'unfurnished')\u001b[0m\n",
       "\u001b[1;38;2;212;183;2m(486, 2870000, 3630, 2, 1, 1, 'yes', 'no', 'no', 'no', 'no', 0, 'no', 'unfurnished')\u001b[0m\n",
       "\u001b[1;38;2;212;183;2m(487, 2870000, 6000, 2, 1, 1, 'yes', 'no', 'no', 'no', 'no', 0, 'no', 'semi-furnished')\u001b[0m\n",
       "\u001b[1;38;2;212;183;2m(488, 2870000, 5400, 4, 1, 2, 'yes', 'no', 'no', 'no', 'no', 0, 'no', 'unfurnished')\u001b[0m\n",
       "\u001b[1;38;2;212;183;2m(489, 2852500, 5200, 4, 1, 3, 'yes', 'no', 'no', 'no', 'no', 0, 'no', 'unfurnished')\u001b[0m\n",
       "\u001b[1;38;2;212;183;2m(490, 2835000, 3300, 3, 1, 2, 'no', 'no', 'no', 'no', 'no', 1, 'no', 'semi-furnished')\u001b[0m\n",
       "\u001b[1;38;2;212;183;2m(491, 2835000, 4350, 3, 1, 2, 'no', 'no', 'no', 'yes', 'no', 1, 'no', 'unfurnished')\u001b[0m\n",
       "\u001b[1;38;2;212;183;2m(492, 2835000, 2640, 2, 1, 1, 'no', 'no', 'no', 'no', 'no', 1, 'no', 'furnished')\u001b[0m\n",
       "\u001b[1;38;2;212;183;2m(493, 2800000, 2650, 3, 1, 2, 'yes', 'no', 'yes', 'no', 'no', 1, 'no', 'unfurnished')\u001b[0m\n",
       "\u001b[1;38;2;212;183;2m(494, 2800000, 3960, 3, 1, 1, 'yes', 'no', 'no', 'no', 'no', 0, 'no', 'furnished')\u001b[0m\n",
       "\u001b[1;38;2;212;183;2m(495, 2730000, 6800, 2, 1, 1, 'yes', 'no', 'no', 'no', 'no', 0, 'no', 'unfurnished')\u001b[0m\n",
       "\u001b[1;38;2;212;183;2m(496, 2730000, 4000, 3, 1, 2, 'yes', 'no', 'no', 'no', 'no', 1, 'no', 'unfurnished')\u001b[0m\n",
       "\u001b[1;38;2;212;183;2m(497, 2695000, 4000, 2, 1, 1, 'yes', 'no', 'no', 'no', 'no', 0, 'no', 'unfurnished')\u001b[0m\n",
       "\u001b[1;38;2;212;183;2m(498, 2660000, 3934, 2, 1, 1, 'yes', 'no', 'no', 'no', 'no', 0, 'no', 'unfurnished')\u001b[0m\n",
       "\u001b[1;38;2;212;183;2m(499, 2660000, 2000, 2, 1, 2, 'yes', 'no', 'no', 'no', 'no', 0, 'no', 'semi-furnished')\u001b[0m\n",
       "\u001b[1;38;2;212;183;2m(500, 2660000, 3630, 3, 3, 2, 'no', 'yes', 'no', 'no', 'no', 0, 'no', 'unfurnished')\u001b[0m\n",
       "\u001b[1;38;2;212;183;2m(501, 2660000, 2800, 3, 1, 1, 'yes', 'no', 'no', 'no', 'no', 0, 'no', 'unfurnished')\u001b[0m\n",
       "\u001b[1;38;2;212;183;2m(502, 2660000, 2430, 3, 1, 1, 'no', 'no', 'no', 'no', 'no', 0, 'no', 'unfurnished')\u001b[0m\n",
       "\u001b[1;38;2;212;183;2m(503, 2660000, 3480, 2, 1, 1, 'yes', 'no', 'no', 'no', 'no', 1, 'no', 'semi-furnished')\u001b[0m\n",
       "\u001b[1;38;2;212;183;2m(504, 2660000, 4000, 3, 1, 1, 'yes', 'no', 'no', 'no', 'no', 0, 'no', 'semi-furnished')\u001b[0m\n",
       "\u001b[1;38;2;212;183;2m(505, 2653000, 3185, 2, 1, 1, 'yes', 'no', 'no', 'no', 'yes', 0, 'no', 'unfurnished')\u001b[0m\n",
       "\u001b[1;38;2;212;183;2m(506, 2653000, 4000, 3, 1, 2, 'yes', 'no', 'no', 'no', 'yes', 0, 'no', 'unfurnished')\u001b[0m\n",
       "\u001b[1;38;2;212;183;2m(507, 2604000, 2910, 2, 1, 1, 'no', 'no', 'no', 'no', 'no', 0, 'no', 'unfurnished')\u001b[0m\n",
       "\u001b[1;38;2;212;183;2m(508, 2590000, 3600, 2, 1, 1, 'yes', 'no', 'no', 'no', 'no', 0, 'no', 'unfurnished')\u001b[0m\n",
       "\u001b[1;38;2;212;183;2m(509, 2590000, 4400, 2, 1, 1, 'yes', 'no', 'no', 'no', 'no', 0, 'no', 'unfurnished')\u001b[0m\n",
       "\u001b[1;38;2;212;183;2m(510, 2590000, 3600, 2, 2, 2, 'yes', 'no', 'yes', 'no', 'no', 1, 'no', 'furnished')\u001b[0m\n",
       "\u001b[1;38;2;212;183;2m(511, 2520000, 2880, 3, 1, 1, 'no', 'no', 'no', 'no', 'no', 0, 'no', 'unfurnished')\u001b[0m\n",
       "\u001b[1;38;2;212;183;2m(512, 2520000, 3180, 3, 1, 1, 'no', 'no', 'no', 'no', 'no', 0, 'no', 'unfurnished')\u001b[0m\n",
       "\u001b[1;38;2;212;183;2m(513, 2520000, 3000, 2, 1, 2, 'yes', 'no', 'no', 'no', 'no', 0, 'no', 'furnished')\u001b[0m\n",
       "\u001b[1;38;2;212;183;2m(514, 2485000, 4400, 3, 1, 2, 'yes', 'no', 'no', 'no', 'no', 0, 'no', 'unfurnished')\u001b[0m\n",
       "\u001b[1;38;2;212;183;2m(515, 2485000, 3000, 3, 1, 2, 'no', 'no', 'no', 'no', 'no', 0, 'no', 'semi-furnished')\u001b[0m\n",
       "\u001b[1;38;2;212;183;2m(516, 2450000, 3210, 3, 1, 2, 'yes', 'no', 'yes', 'no', 'no', 0, 'no', 'unfurnished')\u001b[0m\n",
       "\u001b[1;38;2;212;183;2m(517, 2450000, 3240, 2, 1, 1, 'no', 'yes', 'no', 'no', 'no', 1, 'no', 'unfurnished')\u001b[0m\n",
       "\u001b[1;38;2;212;183;2m(518, 2450000, 3000, 2, 1, 1, 'yes', 'no', 'no', 'no', 'no', 1, 'no', 'unfurnished')\u001b[0m\n",
       "\u001b[1;38;2;212;183;2m(519, 2450000, 3500, 2, 1, 1, 'yes', 'yes', 'no', 'no', 'no', 0, 'no', 'unfurnished')\u001b[0m\n",
       "\u001b[1;38;2;212;183;2m(520, 2450000, 4840, 2, 1, 2, 'yes', 'no', 'no', 'no', 'no', 0, 'no', 'unfurnished')\u001b[0m\n",
       "\u001b[1;38;2;212;183;2m(521, 2450000, 7700, 2, 1, 1, 'yes', 'no', 'no', 'no', 'no', 0, 'no', 'unfurnished')\u001b[0m\n",
       "\u001b[1;38;2;212;183;2m(522, 2408000, 3635, 2, 1, 1, 'no', 'no', 'no', 'no', 'no', 0, 'no', 'unfurnished')\u001b[0m\n",
       "\u001b[1;38;2;212;183;2m(523, 2380000, 2475, 3, 1, 2, 'yes', 'no', 'no', 'no', 'no', 0, 'no', 'furnished')\u001b[0m\n",
       "\u001b[1;38;2;212;183;2m(524, 2380000, 2787, 4, 2, 2, 'yes', 'no', 'no', 'no', 'no', 0, 'no', 'furnished')\u001b[0m\n",
       "\u001b[1;38;2;212;183;2m(525, 2380000, 3264, 2, 1, 1, 'yes', 'no', 'no', 'no', 'no', 0, 'no', 'unfurnished')\u001b[0m\n",
       "\u001b[1;38;2;212;183;2m(526, 2345000, 3640, 2, 1, 1, 'yes', 'no', 'no', 'no', 'no', 0, 'no', 'unfurnished')\u001b[0m\n",
       "\u001b[1;38;2;212;183;2m(527, 2310000, 3180, 2, 1, 1, 'yes', 'no', 'no', 'no', 'no', 0, 'no', 'unfurnished')\u001b[0m\n",
       "\u001b[1;38;2;212;183;2m(528, 2275000, 1836, 2, 1, 1, 'no', 'no', 'yes', 'no', 'no', 0, 'no', 'semi-furnished')\u001b[0m\n",
       "\u001b[1;38;2;212;183;2m(529, 2275000, 3970, 1, 1, 1, 'no', 'no', 'no', 'no', 'no', 0, 'no', 'unfurnished')\u001b[0m\n",
       "\u001b[1;38;2;212;183;2m(530, 2275000, 3970, 3, 1, 2, 'yes', 'no', 'yes', 'no', 'no', 0, 'no', 'unfurnished')\u001b[0m\n",
       "\u001b[1;38;2;212;183;2m(531, 2240000, 1950, 3, 1, 1, 'no', 'no', 'no', 'yes', 'no', 0, 'no', 'unfurnished')\u001b[0m\n",
       "\u001b[1;38;2;212;183;2m(532, 2233000, 5300, 3, 1, 1, 'no', 'no', 'no', 'no', 'yes', 0, 'yes', 'unfurnished')\u001b[0m\n",
       "\u001b[1;38;2;212;183;2m(533, 2135000, 3000, 2, 1, 1, 'no', 'no', 'no', 'no', 'no', 0, 'no', 'unfurnished')\u001b[0m\n",
       "\u001b[1;38;2;212;183;2m(534, 2100000, 2400, 3, 1, 2, 'yes', 'no', 'no', 'no', 'no', 0, 'no', 'unfurnished')\u001b[0m\n",
       "\u001b[1;38;2;212;183;2m(535, 2100000, 3000, 4, 1, 2, 'yes', 'no', 'no', 'no', 'no', 0, 'no', 'unfurnished')\u001b[0m\n",
       "\u001b[1;38;2;212;183;2m(536, 2100000, 3360, 2, 1, 1, 'yes', 'no', 'no', 'no', 'no', 1, 'no', 'unfurnished')\u001b[0m\n",
       "\u001b[1;38;2;212;183;2m(537, 1960000, 3420, 5, 1, 2, 'no', 'no', 'no', 'no', 'no', 0, 'no', 'unfurnished')\u001b[0m\n",
       "\u001b[1;38;2;212;183;2m(538, 1890000, 1700, 3, 1, 2, 'yes', 'no', 'no', 'no', 'no', 0, 'no', 'unfurnished')\u001b[0m\n",
       "\u001b[1;38;2;212;183;2m(539, 1890000, 3649, 2, 1, 1, 'yes', 'no', 'no', 'no', 'no', 0, 'no', 'unfurnished')\u001b[0m\n",
       "\u001b[1;38;2;212;183;2m(540, 1855000, 2990, 2, 1, 1, 'no', 'no', 'no', 'no', 'no', 1, 'no', 'unfurnished')\u001b[0m\n",
       "\u001b[1;38;2;212;183;2m(541, 1820000, 3000, 2, 1, 1, 'yes', 'no', 'yes', 'no', 'no', 2, 'no', 'unfurnished')\u001b[0m\n",
       "\u001b[1;38;2;212;183;2m(542, 1767150, 2400, 3, 1, 1, 'no', 'no', 'no', 'no', 'no', 0, 'no', 'semi-furnished')\u001b[0m\n",
       "\u001b[1;38;2;212;183;2m(543, 1750000, 3620, 2, 1, 1, 'yes', 'no', 'no', 'no', 'no', 0, 'no', 'unfurnished')\u001b[0m\n",
       "\u001b[1;38;2;212;183;2m(544, 1750000, 2910, 3, 1, 1, 'no', 'no', 'no', 'no', 'no', 0, 'no', 'furnished')\u001b[0m\n",
       "\u001b[1;38;2;212;183;2m(545, 1750000, 3850, 3, 1, 2, 'yes', 'no', 'no', 'no', 'no', 0, 'no', 'unfurnished')\u001b[0m\n",
       "\n"
      ]
     },
     "metadata": {},
     "output_type": "display_data"
    },
    {
     "data": {
      "text/html": [
       "<pre style=\"white-space:pre;overflow-x:auto;line-height:normal;font-family:Menlo,'DejaVu Sans Mono',consolas,'Courier New',monospace\"><span style=\"color: #7f7f7f; text-decoration-color: #7f7f7f\">[Step 1: Duration 36.05 seconds| Input tokens: 2,153 | Output tokens: 653]</span>\n",
       "</pre>\n"
      ],
      "text/plain": [
       "\u001b[2m[Step 1: Duration 36.05 seconds| Input tokens: 2,153 | Output tokens: 653]\u001b[0m\n"
      ]
     },
     "metadata": {},
     "output_type": "display_data"
    },
    {
     "data": {
      "text/html": [
       "<pre style=\"white-space:pre;overflow-x:auto;line-height:normal;font-family:Menlo,'DejaVu Sans Mono',consolas,'Courier New',monospace\"> ─ <span style=\"font-weight: bold\">Executing parsed code:</span> ──────────────────────────────────────────────────────────────────────────────────────── \n",
       "  <span style=\"color: #f8f8f2; text-decoration-color: #f8f8f2; background-color: #272822\">first_row </span><span style=\"color: #ff4689; text-decoration-color: #ff4689; background-color: #272822\">=</span><span style=\"color: #f8f8f2; text-decoration-color: #f8f8f2; background-color: #272822\"> sql_engine(</span><span style=\"color: #e6db74; text-decoration-color: #e6db74; background-color: #272822\">\"SELECT * FROM agent_table LIMIT 1;\"</span><span style=\"color: #f8f8f2; text-decoration-color: #f8f8f2; background-color: #272822\">)</span><span style=\"background-color: #272822\">                                                   </span>  \n",
       "  <span style=\"color: #f8f8f2; text-decoration-color: #f8f8f2; background-color: #272822\">print(first_row)</span><span style=\"background-color: #272822\">                                                                                               </span>  \n",
       " ───────────────────────────────────────────────────────────────────────────────────────────────────────────────── \n",
       "</pre>\n"
      ],
      "text/plain": [
       " ─ \u001b[1mExecuting parsed code:\u001b[0m ──────────────────────────────────────────────────────────────────────────────────────── \n",
       "  \u001b[38;2;248;248;242;48;2;39;40;34mfirst_row\u001b[0m\u001b[38;2;248;248;242;48;2;39;40;34m \u001b[0m\u001b[38;2;255;70;137;48;2;39;40;34m=\u001b[0m\u001b[38;2;248;248;242;48;2;39;40;34m \u001b[0m\u001b[38;2;248;248;242;48;2;39;40;34msql_engine\u001b[0m\u001b[38;2;248;248;242;48;2;39;40;34m(\u001b[0m\u001b[38;2;230;219;116;48;2;39;40;34m\"\u001b[0m\u001b[38;2;230;219;116;48;2;39;40;34mSELECT * FROM agent_table LIMIT 1;\u001b[0m\u001b[38;2;230;219;116;48;2;39;40;34m\"\u001b[0m\u001b[38;2;248;248;242;48;2;39;40;34m)\u001b[0m\u001b[48;2;39;40;34m                                                   \u001b[0m  \n",
       "  \u001b[38;2;248;248;242;48;2;39;40;34mprint\u001b[0m\u001b[38;2;248;248;242;48;2;39;40;34m(\u001b[0m\u001b[38;2;248;248;242;48;2;39;40;34mfirst_row\u001b[0m\u001b[38;2;248;248;242;48;2;39;40;34m)\u001b[0m\u001b[48;2;39;40;34m                                                                                               \u001b[0m  \n",
       " ───────────────────────────────────────────────────────────────────────────────────────────────────────────────── \n"
      ]
     },
     "metadata": {},
     "output_type": "display_data"
    },
    {
     "data": {
      "text/html": [
       "<pre style=\"white-space:pre;overflow-x:auto;line-height:normal;font-family:Menlo,'DejaVu Sans Mono',consolas,'Courier New',monospace\"><span style=\"font-weight: bold\">Execution logs:</span>\n",
       "(1, 13300000, 7420, 4, 2, 3, 'yes', 'no', 'no', 'no', 'yes', 2, 'yes', 'furnished')\n",
       "\n",
       "\n",
       "Out: None\n",
       "</pre>\n"
      ],
      "text/plain": [
       "\u001b[1mExecution logs:\u001b[0m\n",
       "(1, 13300000, 7420, 4, 2, 3, 'yes', 'no', 'no', 'no', 'yes', 2, 'yes', 'furnished')\n",
       "\n",
       "\n",
       "Out: None\n"
      ]
     },
     "metadata": {},
     "output_type": "display_data"
    },
    {
     "data": {
      "text/html": [
       "<pre style=\"white-space:pre;overflow-x:auto;line-height:normal;font-family:Menlo,'DejaVu Sans Mono',consolas,'Courier New',monospace\"><span style=\"color: #7f7f7f; text-decoration-color: #7f7f7f\">[Step 1: Duration 26.42 seconds| Input tokens: 2,157 | Output tokens: 677]</span>\n",
       "</pre>\n"
      ],
      "text/plain": [
       "\u001b[2m[Step 1: Duration 26.42 seconds| Input tokens: 2,157 | Output tokens: 677]\u001b[0m\n"
      ]
     },
     "metadata": {},
     "output_type": "display_data"
    },
    {
     "data": {
      "text/html": [
       "<pre style=\"white-space:pre;overflow-x:auto;line-height:normal;font-family:Menlo,'DejaVu Sans Mono',consolas,'Courier New',monospace\"><span style=\"color: #d4b702; text-decoration-color: #d4b702\">━━━━━━━━━━━━━━━━━━━━━━━━━━━━━━━━━━━━━━━━━━━━━━━━━━━━━ </span><span style=\"font-weight: bold\">Step </span><span style=\"color: #008080; text-decoration-color: #008080; font-weight: bold\">2</span><span style=\"color: #d4b702; text-decoration-color: #d4b702\"> ━━━━━━━━━━━━━━━━━━━━━━━━━━━━━━━━━━━━━━━━━━━━━━━━━━━━━━</span>\n",
       "</pre>\n"
      ],
      "text/plain": [
       "\u001b[38;2;212;183;2m━━━━━━━━━━━━━━━━━━━━━━━━━━━━━━━━━━━━━━━━━━━━━━━━━━━━━ \u001b[0m\u001b[1mStep \u001b[0m\u001b[1;36m2\u001b[0m\u001b[38;2;212;183;2m ━━━━━━━━━━━━━━━━━━━━━━━━━━━━━━━━━━━━━━━━━━━━━━━━━━━━━━\u001b[0m\n"
      ]
     },
     "metadata": {},
     "output_type": "display_data"
    },
    {
     "data": {
      "text/html": [
       "<pre style=\"white-space:pre;overflow-x:auto;line-height:normal;font-family:Menlo,'DejaVu Sans Mono',consolas,'Courier New',monospace\"> ─ <span style=\"font-weight: bold\">Executing parsed code:</span> ──────────────────────────────────────────────────────────────────────────────────────── \n",
       "  <span style=\"color: #959077; text-decoration-color: #959077; background-color: #272822\"># Map values to column names</span><span style=\"background-color: #272822\">                                                                                   </span>  \n",
       "  <span style=\"color: #f8f8f2; text-decoration-color: #f8f8f2; background-color: #272822\">columns </span><span style=\"color: #ff4689; text-decoration-color: #ff4689; background-color: #272822\">=</span><span style=\"color: #f8f8f2; text-decoration-color: #f8f8f2; background-color: #272822\"> [</span><span style=\"color: #e6db74; text-decoration-color: #e6db74; background-color: #272822\">\"id\"</span><span style=\"color: #f8f8f2; text-decoration-color: #f8f8f2; background-color: #272822\">, </span><span style=\"color: #e6db74; text-decoration-color: #e6db74; background-color: #272822\">\"price\"</span><span style=\"color: #f8f8f2; text-decoration-color: #f8f8f2; background-color: #272822\">, </span><span style=\"color: #e6db74; text-decoration-color: #e6db74; background-color: #272822\">\"area\"</span><span style=\"color: #f8f8f2; text-decoration-color: #f8f8f2; background-color: #272822\">, </span><span style=\"color: #e6db74; text-decoration-color: #e6db74; background-color: #272822\">\"bedrooms\"</span><span style=\"color: #f8f8f2; text-decoration-color: #f8f8f2; background-color: #272822\">, </span><span style=\"color: #e6db74; text-decoration-color: #e6db74; background-color: #272822\">\"bathrooms\"</span><span style=\"color: #f8f8f2; text-decoration-color: #f8f8f2; background-color: #272822\">, </span><span style=\"color: #e6db74; text-decoration-color: #e6db74; background-color: #272822\">\"stories\"</span><span style=\"color: #f8f8f2; text-decoration-color: #f8f8f2; background-color: #272822\">, </span><span style=\"color: #e6db74; text-decoration-color: #e6db74; background-color: #272822\">\"mainroad\"</span><span style=\"color: #f8f8f2; text-decoration-color: #f8f8f2; background-color: #272822\">, </span><span style=\"background-color: #272822\">                             </span>  \n",
       "  <span style=\"color: #f8f8f2; text-decoration-color: #f8f8f2; background-color: #272822\">           </span><span style=\"color: #e6db74; text-decoration-color: #e6db74; background-color: #272822\">\"guestroom\"</span><span style=\"color: #f8f8f2; text-decoration-color: #f8f8f2; background-color: #272822\">, </span><span style=\"color: #e6db74; text-decoration-color: #e6db74; background-color: #272822\">\"basement\"</span><span style=\"color: #f8f8f2; text-decoration-color: #f8f8f2; background-color: #272822\">, </span><span style=\"color: #e6db74; text-decoration-color: #e6db74; background-color: #272822\">\"hotwaterheating\"</span><span style=\"color: #f8f8f2; text-decoration-color: #f8f8f2; background-color: #272822\">, </span><span style=\"color: #e6db74; text-decoration-color: #e6db74; background-color: #272822\">\"airconditioning\"</span><span style=\"color: #f8f8f2; text-decoration-color: #f8f8f2; background-color: #272822\">, </span><span style=\"color: #e6db74; text-decoration-color: #e6db74; background-color: #272822\">\"parking\"</span><span style=\"color: #f8f8f2; text-decoration-color: #f8f8f2; background-color: #272822\">, </span><span style=\"background-color: #272822\">                          </span>  \n",
       "  <span style=\"color: #f8f8f2; text-decoration-color: #f8f8f2; background-color: #272822\">           </span><span style=\"color: #e6db74; text-decoration-color: #e6db74; background-color: #272822\">\"prefarea\"</span><span style=\"color: #f8f8f2; text-decoration-color: #f8f8f2; background-color: #272822\">, </span><span style=\"color: #e6db74; text-decoration-color: #e6db74; background-color: #272822\">\"furnishingstatus\"</span><span style=\"color: #f8f8f2; text-decoration-color: #f8f8f2; background-color: #272822\">]</span><span style=\"background-color: #272822\">                                                                     </span>  \n",
       "  <span style=\"color: #f8f8f2; text-decoration-color: #f8f8f2; background-color: #272822\">values </span><span style=\"color: #ff4689; text-decoration-color: #ff4689; background-color: #272822\">=</span><span style=\"color: #f8f8f2; text-decoration-color: #f8f8f2; background-color: #272822\"> (</span><span style=\"color: #ae81ff; text-decoration-color: #ae81ff; background-color: #272822\">1</span><span style=\"color: #f8f8f2; text-decoration-color: #f8f8f2; background-color: #272822\">, </span><span style=\"color: #ae81ff; text-decoration-color: #ae81ff; background-color: #272822\">13300000</span><span style=\"color: #f8f8f2; text-decoration-color: #f8f8f2; background-color: #272822\">, </span><span style=\"color: #ae81ff; text-decoration-color: #ae81ff; background-color: #272822\">7420</span><span style=\"color: #f8f8f2; text-decoration-color: #f8f8f2; background-color: #272822\">, </span><span style=\"color: #ae81ff; text-decoration-color: #ae81ff; background-color: #272822\">4</span><span style=\"color: #f8f8f2; text-decoration-color: #f8f8f2; background-color: #272822\">, </span><span style=\"color: #ae81ff; text-decoration-color: #ae81ff; background-color: #272822\">2</span><span style=\"color: #f8f8f2; text-decoration-color: #f8f8f2; background-color: #272822\">, </span><span style=\"color: #ae81ff; text-decoration-color: #ae81ff; background-color: #272822\">3</span><span style=\"color: #f8f8f2; text-decoration-color: #f8f8f2; background-color: #272822\">, </span><span style=\"color: #e6db74; text-decoration-color: #e6db74; background-color: #272822\">'yes'</span><span style=\"color: #f8f8f2; text-decoration-color: #f8f8f2; background-color: #272822\">, </span><span style=\"color: #e6db74; text-decoration-color: #e6db74; background-color: #272822\">'no'</span><span style=\"color: #f8f8f2; text-decoration-color: #f8f8f2; background-color: #272822\">, </span><span style=\"color: #e6db74; text-decoration-color: #e6db74; background-color: #272822\">'no'</span><span style=\"color: #f8f8f2; text-decoration-color: #f8f8f2; background-color: #272822\">, </span><span style=\"color: #e6db74; text-decoration-color: #e6db74; background-color: #272822\">'no'</span><span style=\"color: #f8f8f2; text-decoration-color: #f8f8f2; background-color: #272822\">, </span><span style=\"color: #e6db74; text-decoration-color: #e6db74; background-color: #272822\">'yes'</span><span style=\"color: #f8f8f2; text-decoration-color: #f8f8f2; background-color: #272822\">, </span><span style=\"color: #ae81ff; text-decoration-color: #ae81ff; background-color: #272822\">2</span><span style=\"color: #f8f8f2; text-decoration-color: #f8f8f2; background-color: #272822\">, </span><span style=\"color: #e6db74; text-decoration-color: #e6db74; background-color: #272822\">'yes'</span><span style=\"color: #f8f8f2; text-decoration-color: #f8f8f2; background-color: #272822\">, </span><span style=\"color: #e6db74; text-decoration-color: #e6db74; background-color: #272822\">'furnished'</span><span style=\"color: #f8f8f2; text-decoration-color: #f8f8f2; background-color: #272822\">)</span><span style=\"background-color: #272822\">                   </span>  \n",
       "  <span style=\"background-color: #272822\">                                                                                                               </span>  \n",
       "  <span style=\"color: #f8f8f2; text-decoration-color: #f8f8f2; background-color: #272822\">row_dict </span><span style=\"color: #ff4689; text-decoration-color: #ff4689; background-color: #272822\">=</span><span style=\"color: #f8f8f2; text-decoration-color: #f8f8f2; background-color: #272822\"> {col: val </span><span style=\"color: #66d9ef; text-decoration-color: #66d9ef; background-color: #272822\">for</span><span style=\"color: #f8f8f2; text-decoration-color: #f8f8f2; background-color: #272822\"> col, val </span><span style=\"color: #ff4689; text-decoration-color: #ff4689; background-color: #272822\">in</span><span style=\"color: #f8f8f2; text-decoration-color: #f8f8f2; background-color: #272822\"> zip(columns, values)}</span><span style=\"background-color: #272822\">                                                     </span>  \n",
       "  <span style=\"color: #f8f8f2; text-decoration-color: #f8f8f2; background-color: #272822\">final_answer(</span><span style=\"color: #e6db74; text-decoration-color: #e6db74; background-color: #272822\">f\"First row details: {</span><span style=\"color: #f8f8f2; text-decoration-color: #f8f8f2; background-color: #272822\">row_dict</span><span style=\"color: #e6db74; text-decoration-color: #e6db74; background-color: #272822\">}\"</span><span style=\"color: #f8f8f2; text-decoration-color: #f8f8f2; background-color: #272822\">)</span><span style=\"background-color: #272822\">                                                                 </span>  \n",
       " ───────────────────────────────────────────────────────────────────────────────────────────────────────────────── \n",
       "</pre>\n"
      ],
      "text/plain": [
       " ─ \u001b[1mExecuting parsed code:\u001b[0m ──────────────────────────────────────────────────────────────────────────────────────── \n",
       "  \u001b[38;2;149;144;119;48;2;39;40;34m# Map values to column names\u001b[0m\u001b[48;2;39;40;34m                                                                                   \u001b[0m  \n",
       "  \u001b[38;2;248;248;242;48;2;39;40;34mcolumns\u001b[0m\u001b[38;2;248;248;242;48;2;39;40;34m \u001b[0m\u001b[38;2;255;70;137;48;2;39;40;34m=\u001b[0m\u001b[38;2;248;248;242;48;2;39;40;34m \u001b[0m\u001b[38;2;248;248;242;48;2;39;40;34m[\u001b[0m\u001b[38;2;230;219;116;48;2;39;40;34m\"\u001b[0m\u001b[38;2;230;219;116;48;2;39;40;34mid\u001b[0m\u001b[38;2;230;219;116;48;2;39;40;34m\"\u001b[0m\u001b[38;2;248;248;242;48;2;39;40;34m,\u001b[0m\u001b[38;2;248;248;242;48;2;39;40;34m \u001b[0m\u001b[38;2;230;219;116;48;2;39;40;34m\"\u001b[0m\u001b[38;2;230;219;116;48;2;39;40;34mprice\u001b[0m\u001b[38;2;230;219;116;48;2;39;40;34m\"\u001b[0m\u001b[38;2;248;248;242;48;2;39;40;34m,\u001b[0m\u001b[38;2;248;248;242;48;2;39;40;34m \u001b[0m\u001b[38;2;230;219;116;48;2;39;40;34m\"\u001b[0m\u001b[38;2;230;219;116;48;2;39;40;34marea\u001b[0m\u001b[38;2;230;219;116;48;2;39;40;34m\"\u001b[0m\u001b[38;2;248;248;242;48;2;39;40;34m,\u001b[0m\u001b[38;2;248;248;242;48;2;39;40;34m \u001b[0m\u001b[38;2;230;219;116;48;2;39;40;34m\"\u001b[0m\u001b[38;2;230;219;116;48;2;39;40;34mbedrooms\u001b[0m\u001b[38;2;230;219;116;48;2;39;40;34m\"\u001b[0m\u001b[38;2;248;248;242;48;2;39;40;34m,\u001b[0m\u001b[38;2;248;248;242;48;2;39;40;34m \u001b[0m\u001b[38;2;230;219;116;48;2;39;40;34m\"\u001b[0m\u001b[38;2;230;219;116;48;2;39;40;34mbathrooms\u001b[0m\u001b[38;2;230;219;116;48;2;39;40;34m\"\u001b[0m\u001b[38;2;248;248;242;48;2;39;40;34m,\u001b[0m\u001b[38;2;248;248;242;48;2;39;40;34m \u001b[0m\u001b[38;2;230;219;116;48;2;39;40;34m\"\u001b[0m\u001b[38;2;230;219;116;48;2;39;40;34mstories\u001b[0m\u001b[38;2;230;219;116;48;2;39;40;34m\"\u001b[0m\u001b[38;2;248;248;242;48;2;39;40;34m,\u001b[0m\u001b[38;2;248;248;242;48;2;39;40;34m \u001b[0m\u001b[38;2;230;219;116;48;2;39;40;34m\"\u001b[0m\u001b[38;2;230;219;116;48;2;39;40;34mmainroad\u001b[0m\u001b[38;2;230;219;116;48;2;39;40;34m\"\u001b[0m\u001b[38;2;248;248;242;48;2;39;40;34m,\u001b[0m\u001b[38;2;248;248;242;48;2;39;40;34m \u001b[0m\u001b[48;2;39;40;34m                             \u001b[0m  \n",
       "  \u001b[38;2;248;248;242;48;2;39;40;34m           \u001b[0m\u001b[38;2;230;219;116;48;2;39;40;34m\"\u001b[0m\u001b[38;2;230;219;116;48;2;39;40;34mguestroom\u001b[0m\u001b[38;2;230;219;116;48;2;39;40;34m\"\u001b[0m\u001b[38;2;248;248;242;48;2;39;40;34m,\u001b[0m\u001b[38;2;248;248;242;48;2;39;40;34m \u001b[0m\u001b[38;2;230;219;116;48;2;39;40;34m\"\u001b[0m\u001b[38;2;230;219;116;48;2;39;40;34mbasement\u001b[0m\u001b[38;2;230;219;116;48;2;39;40;34m\"\u001b[0m\u001b[38;2;248;248;242;48;2;39;40;34m,\u001b[0m\u001b[38;2;248;248;242;48;2;39;40;34m \u001b[0m\u001b[38;2;230;219;116;48;2;39;40;34m\"\u001b[0m\u001b[38;2;230;219;116;48;2;39;40;34mhotwaterheating\u001b[0m\u001b[38;2;230;219;116;48;2;39;40;34m\"\u001b[0m\u001b[38;2;248;248;242;48;2;39;40;34m,\u001b[0m\u001b[38;2;248;248;242;48;2;39;40;34m \u001b[0m\u001b[38;2;230;219;116;48;2;39;40;34m\"\u001b[0m\u001b[38;2;230;219;116;48;2;39;40;34mairconditioning\u001b[0m\u001b[38;2;230;219;116;48;2;39;40;34m\"\u001b[0m\u001b[38;2;248;248;242;48;2;39;40;34m,\u001b[0m\u001b[38;2;248;248;242;48;2;39;40;34m \u001b[0m\u001b[38;2;230;219;116;48;2;39;40;34m\"\u001b[0m\u001b[38;2;230;219;116;48;2;39;40;34mparking\u001b[0m\u001b[38;2;230;219;116;48;2;39;40;34m\"\u001b[0m\u001b[38;2;248;248;242;48;2;39;40;34m,\u001b[0m\u001b[38;2;248;248;242;48;2;39;40;34m \u001b[0m\u001b[48;2;39;40;34m                          \u001b[0m  \n",
       "  \u001b[38;2;248;248;242;48;2;39;40;34m           \u001b[0m\u001b[38;2;230;219;116;48;2;39;40;34m\"\u001b[0m\u001b[38;2;230;219;116;48;2;39;40;34mprefarea\u001b[0m\u001b[38;2;230;219;116;48;2;39;40;34m\"\u001b[0m\u001b[38;2;248;248;242;48;2;39;40;34m,\u001b[0m\u001b[38;2;248;248;242;48;2;39;40;34m \u001b[0m\u001b[38;2;230;219;116;48;2;39;40;34m\"\u001b[0m\u001b[38;2;230;219;116;48;2;39;40;34mfurnishingstatus\u001b[0m\u001b[38;2;230;219;116;48;2;39;40;34m\"\u001b[0m\u001b[38;2;248;248;242;48;2;39;40;34m]\u001b[0m\u001b[48;2;39;40;34m                                                                     \u001b[0m  \n",
       "  \u001b[38;2;248;248;242;48;2;39;40;34mvalues\u001b[0m\u001b[38;2;248;248;242;48;2;39;40;34m \u001b[0m\u001b[38;2;255;70;137;48;2;39;40;34m=\u001b[0m\u001b[38;2;248;248;242;48;2;39;40;34m \u001b[0m\u001b[38;2;248;248;242;48;2;39;40;34m(\u001b[0m\u001b[38;2;174;129;255;48;2;39;40;34m1\u001b[0m\u001b[38;2;248;248;242;48;2;39;40;34m,\u001b[0m\u001b[38;2;248;248;242;48;2;39;40;34m \u001b[0m\u001b[38;2;174;129;255;48;2;39;40;34m13300000\u001b[0m\u001b[38;2;248;248;242;48;2;39;40;34m,\u001b[0m\u001b[38;2;248;248;242;48;2;39;40;34m \u001b[0m\u001b[38;2;174;129;255;48;2;39;40;34m7420\u001b[0m\u001b[38;2;248;248;242;48;2;39;40;34m,\u001b[0m\u001b[38;2;248;248;242;48;2;39;40;34m \u001b[0m\u001b[38;2;174;129;255;48;2;39;40;34m4\u001b[0m\u001b[38;2;248;248;242;48;2;39;40;34m,\u001b[0m\u001b[38;2;248;248;242;48;2;39;40;34m \u001b[0m\u001b[38;2;174;129;255;48;2;39;40;34m2\u001b[0m\u001b[38;2;248;248;242;48;2;39;40;34m,\u001b[0m\u001b[38;2;248;248;242;48;2;39;40;34m \u001b[0m\u001b[38;2;174;129;255;48;2;39;40;34m3\u001b[0m\u001b[38;2;248;248;242;48;2;39;40;34m,\u001b[0m\u001b[38;2;248;248;242;48;2;39;40;34m \u001b[0m\u001b[38;2;230;219;116;48;2;39;40;34m'\u001b[0m\u001b[38;2;230;219;116;48;2;39;40;34myes\u001b[0m\u001b[38;2;230;219;116;48;2;39;40;34m'\u001b[0m\u001b[38;2;248;248;242;48;2;39;40;34m,\u001b[0m\u001b[38;2;248;248;242;48;2;39;40;34m \u001b[0m\u001b[38;2;230;219;116;48;2;39;40;34m'\u001b[0m\u001b[38;2;230;219;116;48;2;39;40;34mno\u001b[0m\u001b[38;2;230;219;116;48;2;39;40;34m'\u001b[0m\u001b[38;2;248;248;242;48;2;39;40;34m,\u001b[0m\u001b[38;2;248;248;242;48;2;39;40;34m \u001b[0m\u001b[38;2;230;219;116;48;2;39;40;34m'\u001b[0m\u001b[38;2;230;219;116;48;2;39;40;34mno\u001b[0m\u001b[38;2;230;219;116;48;2;39;40;34m'\u001b[0m\u001b[38;2;248;248;242;48;2;39;40;34m,\u001b[0m\u001b[38;2;248;248;242;48;2;39;40;34m \u001b[0m\u001b[38;2;230;219;116;48;2;39;40;34m'\u001b[0m\u001b[38;2;230;219;116;48;2;39;40;34mno\u001b[0m\u001b[38;2;230;219;116;48;2;39;40;34m'\u001b[0m\u001b[38;2;248;248;242;48;2;39;40;34m,\u001b[0m\u001b[38;2;248;248;242;48;2;39;40;34m \u001b[0m\u001b[38;2;230;219;116;48;2;39;40;34m'\u001b[0m\u001b[38;2;230;219;116;48;2;39;40;34myes\u001b[0m\u001b[38;2;230;219;116;48;2;39;40;34m'\u001b[0m\u001b[38;2;248;248;242;48;2;39;40;34m,\u001b[0m\u001b[38;2;248;248;242;48;2;39;40;34m \u001b[0m\u001b[38;2;174;129;255;48;2;39;40;34m2\u001b[0m\u001b[38;2;248;248;242;48;2;39;40;34m,\u001b[0m\u001b[38;2;248;248;242;48;2;39;40;34m \u001b[0m\u001b[38;2;230;219;116;48;2;39;40;34m'\u001b[0m\u001b[38;2;230;219;116;48;2;39;40;34myes\u001b[0m\u001b[38;2;230;219;116;48;2;39;40;34m'\u001b[0m\u001b[38;2;248;248;242;48;2;39;40;34m,\u001b[0m\u001b[38;2;248;248;242;48;2;39;40;34m \u001b[0m\u001b[38;2;230;219;116;48;2;39;40;34m'\u001b[0m\u001b[38;2;230;219;116;48;2;39;40;34mfurnished\u001b[0m\u001b[38;2;230;219;116;48;2;39;40;34m'\u001b[0m\u001b[38;2;248;248;242;48;2;39;40;34m)\u001b[0m\u001b[48;2;39;40;34m                   \u001b[0m  \n",
       "  \u001b[48;2;39;40;34m                                                                                                               \u001b[0m  \n",
       "  \u001b[38;2;248;248;242;48;2;39;40;34mrow_dict\u001b[0m\u001b[38;2;248;248;242;48;2;39;40;34m \u001b[0m\u001b[38;2;255;70;137;48;2;39;40;34m=\u001b[0m\u001b[38;2;248;248;242;48;2;39;40;34m \u001b[0m\u001b[38;2;248;248;242;48;2;39;40;34m{\u001b[0m\u001b[38;2;248;248;242;48;2;39;40;34mcol\u001b[0m\u001b[38;2;248;248;242;48;2;39;40;34m:\u001b[0m\u001b[38;2;248;248;242;48;2;39;40;34m \u001b[0m\u001b[38;2;248;248;242;48;2;39;40;34mval\u001b[0m\u001b[38;2;248;248;242;48;2;39;40;34m \u001b[0m\u001b[38;2;102;217;239;48;2;39;40;34mfor\u001b[0m\u001b[38;2;248;248;242;48;2;39;40;34m \u001b[0m\u001b[38;2;248;248;242;48;2;39;40;34mcol\u001b[0m\u001b[38;2;248;248;242;48;2;39;40;34m,\u001b[0m\u001b[38;2;248;248;242;48;2;39;40;34m \u001b[0m\u001b[38;2;248;248;242;48;2;39;40;34mval\u001b[0m\u001b[38;2;248;248;242;48;2;39;40;34m \u001b[0m\u001b[38;2;255;70;137;48;2;39;40;34min\u001b[0m\u001b[38;2;248;248;242;48;2;39;40;34m \u001b[0m\u001b[38;2;248;248;242;48;2;39;40;34mzip\u001b[0m\u001b[38;2;248;248;242;48;2;39;40;34m(\u001b[0m\u001b[38;2;248;248;242;48;2;39;40;34mcolumns\u001b[0m\u001b[38;2;248;248;242;48;2;39;40;34m,\u001b[0m\u001b[38;2;248;248;242;48;2;39;40;34m \u001b[0m\u001b[38;2;248;248;242;48;2;39;40;34mvalues\u001b[0m\u001b[38;2;248;248;242;48;2;39;40;34m)\u001b[0m\u001b[38;2;248;248;242;48;2;39;40;34m}\u001b[0m\u001b[48;2;39;40;34m                                                     \u001b[0m  \n",
       "  \u001b[38;2;248;248;242;48;2;39;40;34mfinal_answer\u001b[0m\u001b[38;2;248;248;242;48;2;39;40;34m(\u001b[0m\u001b[38;2;230;219;116;48;2;39;40;34mf\u001b[0m\u001b[38;2;230;219;116;48;2;39;40;34m\"\u001b[0m\u001b[38;2;230;219;116;48;2;39;40;34mFirst row details: \u001b[0m\u001b[38;2;230;219;116;48;2;39;40;34m{\u001b[0m\u001b[38;2;248;248;242;48;2;39;40;34mrow_dict\u001b[0m\u001b[38;2;230;219;116;48;2;39;40;34m}\u001b[0m\u001b[38;2;230;219;116;48;2;39;40;34m\"\u001b[0m\u001b[38;2;248;248;242;48;2;39;40;34m)\u001b[0m\u001b[48;2;39;40;34m                                                                 \u001b[0m  \n",
       " ───────────────────────────────────────────────────────────────────────────────────────────────────────────────── \n"
      ]
     },
     "metadata": {},
     "output_type": "display_data"
    },
    {
     "data": {
      "text/html": [
       "<pre style=\"white-space:pre;overflow-x:auto;line-height:normal;font-family:Menlo,'DejaVu Sans Mono',consolas,'Courier New',monospace\"><span style=\"color: #d4b702; text-decoration-color: #d4b702; font-weight: bold\">Out - Final answer: First row details: {'id': 1, 'price': 13300000, 'area': 7420, 'bedrooms': 4, 'bathrooms': 2, </span>\n",
       "<span style=\"color: #d4b702; text-decoration-color: #d4b702; font-weight: bold\">'stories': 3, 'mainroad': 'yes', 'guestroom': 'no', 'basement': 'no', 'hotwaterheating': 'no', 'airconditioning': </span>\n",
       "<span style=\"color: #d4b702; text-decoration-color: #d4b702; font-weight: bold\">'yes', 'parking': 2, 'prefarea': 'yes', 'furnishingstatus': 'furnished'}</span>\n",
       "</pre>\n"
      ],
      "text/plain": [
       "\u001b[1;38;2;212;183;2mOut - Final answer: First row details: {'id': 1, 'price': 13300000, 'area': 7420, 'bedrooms': 4, 'bathrooms': 2, \u001b[0m\n",
       "\u001b[1;38;2;212;183;2m'stories': 3, 'mainroad': 'yes', 'guestroom': 'no', 'basement': 'no', 'hotwaterheating': 'no', 'airconditioning': \u001b[0m\n",
       "\u001b[1;38;2;212;183;2m'yes', 'parking': 2, 'prefarea': 'yes', 'furnishingstatus': 'furnished'}\u001b[0m\n"
      ]
     },
     "metadata": {},
     "output_type": "display_data"
    },
    {
     "data": {
      "text/html": [
       "<pre style=\"white-space:pre;overflow-x:auto;line-height:normal;font-family:Menlo,'DejaVu Sans Mono',consolas,'Courier New',monospace\"><span style=\"color: #7f7f7f; text-decoration-color: #7f7f7f\">[Step 2: Duration 28.31 seconds| Input tokens: 4,523 | Output tokens: 1,340]</span>\n",
       "</pre>\n"
      ],
      "text/plain": [
       "\u001b[2m[Step 2: Duration 28.31 seconds| Input tokens: 4,523 | Output tokens: 1,340]\u001b[0m\n"
      ]
     },
     "metadata": {},
     "output_type": "display_data"
    },
    {
     "data": {
      "text/html": [
       "<pre style=\"white-space:pre;overflow-x:auto;line-height:normal;font-family:Menlo,'DejaVu Sans Mono',consolas,'Courier New',monospace\"><span style=\"color: #d4b702; text-decoration-color: #d4b702\">╭──────────────────────────────────────────────────── </span><span style=\"color: #d4b702; text-decoration-color: #d4b702; font-weight: bold\">New run</span><span style=\"color: #d4b702; text-decoration-color: #d4b702\"> ────────────────────────────────────────────────────╮</span>\n",
       "<span style=\"color: #d4b702; text-decoration-color: #d4b702\">│</span>                                                                                                                 <span style=\"color: #d4b702; text-decoration-color: #d4b702\">│</span>\n",
       "<span style=\"color: #d4b702; text-decoration-color: #d4b702\">│</span> <span style=\"font-weight: bold\">show 3 lowest prices for a house with at least 3 bedrooms 4 bathrooms and yes in airconditioning. Always wrap </span>  <span style=\"color: #d4b702; text-decoration-color: #d4b702\">│</span>\n",
       "<span style=\"color: #d4b702; text-decoration-color: #d4b702\">│</span> <span style=\"font-weight: bold\">the result in relevant context and enforce the results object returning rows. Table description is as </span>          <span style=\"color: #d4b702; text-decoration-color: #d4b702\">│</span>\n",
       "<span style=\"color: #d4b702; text-decoration-color: #d4b702\">│</span> <span style=\"font-weight: bold\">follows:Columns:</span>                                                                                                <span style=\"color: #d4b702; text-decoration-color: #d4b702\">│</span>\n",
       "<span style=\"color: #d4b702; text-decoration-color: #d4b702\">│</span> <span style=\"font-weight: bold\"> - id: INTEGER</span>                                                                                                  <span style=\"color: #d4b702; text-decoration-color: #d4b702\">│</span>\n",
       "<span style=\"color: #d4b702; text-decoration-color: #d4b702\">│</span> <span style=\"font-weight: bold\"> - price: INTEGER</span>                                                                                               <span style=\"color: #d4b702; text-decoration-color: #d4b702\">│</span>\n",
       "<span style=\"color: #d4b702; text-decoration-color: #d4b702\">│</span> <span style=\"font-weight: bold\"> - area: INTEGER</span>                                                                                                <span style=\"color: #d4b702; text-decoration-color: #d4b702\">│</span>\n",
       "<span style=\"color: #d4b702; text-decoration-color: #d4b702\">│</span> <span style=\"font-weight: bold\"> - bedrooms: INTEGER</span>                                                                                            <span style=\"color: #d4b702; text-decoration-color: #d4b702\">│</span>\n",
       "<span style=\"color: #d4b702; text-decoration-color: #d4b702\">│</span> <span style=\"font-weight: bold\"> - bathrooms: INTEGER</span>                                                                                           <span style=\"color: #d4b702; text-decoration-color: #d4b702\">│</span>\n",
       "<span style=\"color: #d4b702; text-decoration-color: #d4b702\">│</span> <span style=\"font-weight: bold\"> - stories: INTEGER</span>                                                                                             <span style=\"color: #d4b702; text-decoration-color: #d4b702\">│</span>\n",
       "<span style=\"color: #d4b702; text-decoration-color: #d4b702\">│</span> <span style=\"font-weight: bold\"> - mainroad: VARCHAR</span>                                                                                            <span style=\"color: #d4b702; text-decoration-color: #d4b702\">│</span>\n",
       "<span style=\"color: #d4b702; text-decoration-color: #d4b702\">│</span> <span style=\"font-weight: bold\"> - guestroom: VARCHAR</span>                                                                                           <span style=\"color: #d4b702; text-decoration-color: #d4b702\">│</span>\n",
       "<span style=\"color: #d4b702; text-decoration-color: #d4b702\">│</span> <span style=\"font-weight: bold\"> - basement: VARCHAR</span>                                                                                            <span style=\"color: #d4b702; text-decoration-color: #d4b702\">│</span>\n",
       "<span style=\"color: #d4b702; text-decoration-color: #d4b702\">│</span> <span style=\"font-weight: bold\"> - hotwaterheating: VARCHAR</span>                                                                                     <span style=\"color: #d4b702; text-decoration-color: #d4b702\">│</span>\n",
       "<span style=\"color: #d4b702; text-decoration-color: #d4b702\">│</span> <span style=\"font-weight: bold\"> - airconditioning: VARCHAR</span>                                                                                     <span style=\"color: #d4b702; text-decoration-color: #d4b702\">│</span>\n",
       "<span style=\"color: #d4b702; text-decoration-color: #d4b702\">│</span> <span style=\"font-weight: bold\"> - parking: INTEGER</span>                                                                                             <span style=\"color: #d4b702; text-decoration-color: #d4b702\">│</span>\n",
       "<span style=\"color: #d4b702; text-decoration-color: #d4b702\">│</span> <span style=\"font-weight: bold\"> - prefarea: VARCHAR</span>                                                                                            <span style=\"color: #d4b702; text-decoration-color: #d4b702\">│</span>\n",
       "<span style=\"color: #d4b702; text-decoration-color: #d4b702\">│</span> <span style=\"font-weight: bold\"> - furnishingstatus: VARCHAR</span>                                                                                    <span style=\"color: #d4b702; text-decoration-color: #d4b702\">│</span>\n",
       "<span style=\"color: #d4b702; text-decoration-color: #d4b702\">│</span>                                                                                                                 <span style=\"color: #d4b702; text-decoration-color: #d4b702\">│</span>\n",
       "<span style=\"color: #d4b702; text-decoration-color: #d4b702\">╰─ InferenceClientModel - Qwen/Qwen3-235B-A22B ───────────────────────────────────────────────────────────────────╯</span>\n",
       "</pre>\n"
      ],
      "text/plain": [
       "\u001b[38;2;212;183;2m╭─\u001b[0m\u001b[38;2;212;183;2m───────────────────────────────────────────────────\u001b[0m\u001b[38;2;212;183;2m \u001b[0m\u001b[1;38;2;212;183;2mNew run\u001b[0m\u001b[38;2;212;183;2m \u001b[0m\u001b[38;2;212;183;2m───────────────────────────────────────────────────\u001b[0m\u001b[38;2;212;183;2m─╮\u001b[0m\n",
       "\u001b[38;2;212;183;2m│\u001b[0m                                                                                                                 \u001b[38;2;212;183;2m│\u001b[0m\n",
       "\u001b[38;2;212;183;2m│\u001b[0m \u001b[1mshow 3 lowest prices for a house with at least 3 bedrooms 4 bathrooms and yes in airconditioning. Always wrap \u001b[0m  \u001b[38;2;212;183;2m│\u001b[0m\n",
       "\u001b[38;2;212;183;2m│\u001b[0m \u001b[1mthe result in relevant context and enforce the results object returning rows. Table description is as \u001b[0m          \u001b[38;2;212;183;2m│\u001b[0m\n",
       "\u001b[38;2;212;183;2m│\u001b[0m \u001b[1mfollows:Columns:\u001b[0m                                                                                                \u001b[38;2;212;183;2m│\u001b[0m\n",
       "\u001b[38;2;212;183;2m│\u001b[0m \u001b[1m - id: INTEGER\u001b[0m                                                                                                  \u001b[38;2;212;183;2m│\u001b[0m\n",
       "\u001b[38;2;212;183;2m│\u001b[0m \u001b[1m - price: INTEGER\u001b[0m                                                                                               \u001b[38;2;212;183;2m│\u001b[0m\n",
       "\u001b[38;2;212;183;2m│\u001b[0m \u001b[1m - area: INTEGER\u001b[0m                                                                                                \u001b[38;2;212;183;2m│\u001b[0m\n",
       "\u001b[38;2;212;183;2m│\u001b[0m \u001b[1m - bedrooms: INTEGER\u001b[0m                                                                                            \u001b[38;2;212;183;2m│\u001b[0m\n",
       "\u001b[38;2;212;183;2m│\u001b[0m \u001b[1m - bathrooms: INTEGER\u001b[0m                                                                                           \u001b[38;2;212;183;2m│\u001b[0m\n",
       "\u001b[38;2;212;183;2m│\u001b[0m \u001b[1m - stories: INTEGER\u001b[0m                                                                                             \u001b[38;2;212;183;2m│\u001b[0m\n",
       "\u001b[38;2;212;183;2m│\u001b[0m \u001b[1m - mainroad: VARCHAR\u001b[0m                                                                                            \u001b[38;2;212;183;2m│\u001b[0m\n",
       "\u001b[38;2;212;183;2m│\u001b[0m \u001b[1m - guestroom: VARCHAR\u001b[0m                                                                                           \u001b[38;2;212;183;2m│\u001b[0m\n",
       "\u001b[38;2;212;183;2m│\u001b[0m \u001b[1m - basement: VARCHAR\u001b[0m                                                                                            \u001b[38;2;212;183;2m│\u001b[0m\n",
       "\u001b[38;2;212;183;2m│\u001b[0m \u001b[1m - hotwaterheating: VARCHAR\u001b[0m                                                                                     \u001b[38;2;212;183;2m│\u001b[0m\n",
       "\u001b[38;2;212;183;2m│\u001b[0m \u001b[1m - airconditioning: VARCHAR\u001b[0m                                                                                     \u001b[38;2;212;183;2m│\u001b[0m\n",
       "\u001b[38;2;212;183;2m│\u001b[0m \u001b[1m - parking: INTEGER\u001b[0m                                                                                             \u001b[38;2;212;183;2m│\u001b[0m\n",
       "\u001b[38;2;212;183;2m│\u001b[0m \u001b[1m - prefarea: VARCHAR\u001b[0m                                                                                            \u001b[38;2;212;183;2m│\u001b[0m\n",
       "\u001b[38;2;212;183;2m│\u001b[0m \u001b[1m - furnishingstatus: VARCHAR\u001b[0m                                                                                    \u001b[38;2;212;183;2m│\u001b[0m\n",
       "\u001b[38;2;212;183;2m│\u001b[0m                                                                                                                 \u001b[38;2;212;183;2m│\u001b[0m\n",
       "\u001b[38;2;212;183;2m╰─\u001b[0m\u001b[38;2;212;183;2m InferenceClientModel - Qwen/Qwen3-235B-A22B \u001b[0m\u001b[38;2;212;183;2m──────────────────────────────────────────────────────────────────\u001b[0m\u001b[38;2;212;183;2m─╯\u001b[0m\n"
      ]
     },
     "metadata": {},
     "output_type": "display_data"
    },
    {
     "data": {
      "text/html": [
       "<pre style=\"white-space:pre;overflow-x:auto;line-height:normal;font-family:Menlo,'DejaVu Sans Mono',consolas,'Courier New',monospace\"><span style=\"color: #d4b702; text-decoration-color: #d4b702\">━━━━━━━━━━━━━━━━━━━━━━━━━━━━━━━━━━━━━━━━━━━━━━━━━━━━━ </span><span style=\"font-weight: bold\">Step </span><span style=\"color: #008080; text-decoration-color: #008080; font-weight: bold\">1</span><span style=\"color: #d4b702; text-decoration-color: #d4b702\"> ━━━━━━━━━━━━━━━━━━━━━━━━━━━━━━━━━━━━━━━━━━━━━━━━━━━━━━</span>\n",
       "</pre>\n"
      ],
      "text/plain": [
       "\u001b[38;2;212;183;2m━━━━━━━━━━━━━━━━━━━━━━━━━━━━━━━━━━━━━━━━━━━━━━━━━━━━━ \u001b[0m\u001b[1mStep \u001b[0m\u001b[1;36m1\u001b[0m\u001b[38;2;212;183;2m ━━━━━━━━━━━━━━━━━━━━━━━━━━━━━━━━━━━━━━━━━━━━━━━━━━━━━━\u001b[0m\n"
      ]
     },
     "metadata": {},
     "output_type": "display_data"
    },
    {
     "data": {
      "text/html": [
       "<pre style=\"white-space:pre;overflow-x:auto;line-height:normal;font-family:Menlo,'DejaVu Sans Mono',consolas,'Courier New',monospace\"> ─ <span style=\"font-weight: bold\">Executing parsed code:</span> ──────────────────────────────────────────────────────────────────────────────────────── \n",
       "  <span style=\"color: #f8f8f2; text-decoration-color: #f8f8f2; background-color: #272822\">sql_query </span><span style=\"color: #ff4689; text-decoration-color: #ff4689; background-color: #272822\">=</span><span style=\"color: #f8f8f2; text-decoration-color: #f8f8f2; background-color: #272822\"> </span><span style=\"color: #e6db74; text-decoration-color: #e6db74; background-color: #272822\">\"\"\"</span><span style=\"background-color: #272822\">                                                                                                </span>  \n",
       "  <span style=\"color: #e6db74; text-decoration-color: #e6db74; background-color: #272822\">SELECT * </span><span style=\"background-color: #272822\">                                                                                                      </span>  \n",
       "  <span style=\"color: #e6db74; text-decoration-color: #e6db74; background-color: #272822\">FROM agent_table </span><span style=\"background-color: #272822\">                                                                                              </span>  \n",
       "  <span style=\"color: #e6db74; text-decoration-color: #e6db74; background-color: #272822\">WHERE bedrooms &gt;= 3 </span><span style=\"background-color: #272822\">                                                                                           </span>  \n",
       "  <span style=\"color: #e6db74; text-decoration-color: #e6db74; background-color: #272822\">  AND bathrooms &gt;= 4 </span><span style=\"background-color: #272822\">                                                                                          </span>  \n",
       "  <span style=\"color: #e6db74; text-decoration-color: #e6db74; background-color: #272822\">  AND airconditioning = 'yes' </span><span style=\"background-color: #272822\">                                                                                 </span>  \n",
       "  <span style=\"color: #e6db74; text-decoration-color: #e6db74; background-color: #272822\">ORDER BY price ASC </span><span style=\"background-color: #272822\">                                                                                            </span>  \n",
       "  <span style=\"color: #e6db74; text-decoration-color: #e6db74; background-color: #272822\">LIMIT 3;</span><span style=\"background-color: #272822\">                                                                                                       </span>  \n",
       "  <span style=\"color: #e6db74; text-decoration-color: #e6db74; background-color: #272822\">\"\"\"</span><span style=\"background-color: #272822\">                                                                                                            </span>  \n",
       "  <span style=\"color: #f8f8f2; text-decoration-color: #f8f8f2; background-color: #272822\">result </span><span style=\"color: #ff4689; text-decoration-color: #ff4689; background-color: #272822\">=</span><span style=\"color: #f8f8f2; text-decoration-color: #f8f8f2; background-color: #272822\"> sql_engine(query</span><span style=\"color: #ff4689; text-decoration-color: #ff4689; background-color: #272822\">=</span><span style=\"color: #f8f8f2; text-decoration-color: #f8f8f2; background-color: #272822\">sql_query)</span><span style=\"background-color: #272822\">                                                                           </span>  \n",
       "  <span style=\"color: #f8f8f2; text-decoration-color: #f8f8f2; background-color: #272822\">final_answer(result)</span><span style=\"background-color: #272822\">                                                                                           </span>  \n",
       " ───────────────────────────────────────────────────────────────────────────────────────────────────────────────── \n",
       "</pre>\n"
      ],
      "text/plain": [
       " ─ \u001b[1mExecuting parsed code:\u001b[0m ──────────────────────────────────────────────────────────────────────────────────────── \n",
       "  \u001b[38;2;248;248;242;48;2;39;40;34msql_query\u001b[0m\u001b[38;2;248;248;242;48;2;39;40;34m \u001b[0m\u001b[38;2;255;70;137;48;2;39;40;34m=\u001b[0m\u001b[38;2;248;248;242;48;2;39;40;34m \u001b[0m\u001b[38;2;230;219;116;48;2;39;40;34m\"\"\"\u001b[0m\u001b[48;2;39;40;34m                                                                                                \u001b[0m  \n",
       "  \u001b[38;2;230;219;116;48;2;39;40;34mSELECT * \u001b[0m\u001b[48;2;39;40;34m                                                                                                      \u001b[0m  \n",
       "  \u001b[38;2;230;219;116;48;2;39;40;34mFROM agent_table \u001b[0m\u001b[48;2;39;40;34m                                                                                              \u001b[0m  \n",
       "  \u001b[38;2;230;219;116;48;2;39;40;34mWHERE bedrooms >= 3 \u001b[0m\u001b[48;2;39;40;34m                                                                                           \u001b[0m  \n",
       "  \u001b[38;2;230;219;116;48;2;39;40;34m  AND bathrooms >= 4 \u001b[0m\u001b[48;2;39;40;34m                                                                                          \u001b[0m  \n",
       "  \u001b[38;2;230;219;116;48;2;39;40;34m  AND airconditioning = \u001b[0m\u001b[38;2;230;219;116;48;2;39;40;34m'\u001b[0m\u001b[38;2;230;219;116;48;2;39;40;34myes\u001b[0m\u001b[38;2;230;219;116;48;2;39;40;34m'\u001b[0m\u001b[38;2;230;219;116;48;2;39;40;34m \u001b[0m\u001b[48;2;39;40;34m                                                                                 \u001b[0m  \n",
       "  \u001b[38;2;230;219;116;48;2;39;40;34mORDER BY price ASC \u001b[0m\u001b[48;2;39;40;34m                                                                                            \u001b[0m  \n",
       "  \u001b[38;2;230;219;116;48;2;39;40;34mLIMIT 3;\u001b[0m\u001b[48;2;39;40;34m                                                                                                       \u001b[0m  \n",
       "  \u001b[38;2;230;219;116;48;2;39;40;34m\"\"\"\u001b[0m\u001b[48;2;39;40;34m                                                                                                            \u001b[0m  \n",
       "  \u001b[38;2;248;248;242;48;2;39;40;34mresult\u001b[0m\u001b[38;2;248;248;242;48;2;39;40;34m \u001b[0m\u001b[38;2;255;70;137;48;2;39;40;34m=\u001b[0m\u001b[38;2;248;248;242;48;2;39;40;34m \u001b[0m\u001b[38;2;248;248;242;48;2;39;40;34msql_engine\u001b[0m\u001b[38;2;248;248;242;48;2;39;40;34m(\u001b[0m\u001b[38;2;248;248;242;48;2;39;40;34mquery\u001b[0m\u001b[38;2;255;70;137;48;2;39;40;34m=\u001b[0m\u001b[38;2;248;248;242;48;2;39;40;34msql_query\u001b[0m\u001b[38;2;248;248;242;48;2;39;40;34m)\u001b[0m\u001b[48;2;39;40;34m                                                                           \u001b[0m  \n",
       "  \u001b[38;2;248;248;242;48;2;39;40;34mfinal_answer\u001b[0m\u001b[38;2;248;248;242;48;2;39;40;34m(\u001b[0m\u001b[38;2;248;248;242;48;2;39;40;34mresult\u001b[0m\u001b[38;2;248;248;242;48;2;39;40;34m)\u001b[0m\u001b[48;2;39;40;34m                                                                                           \u001b[0m  \n",
       " ───────────────────────────────────────────────────────────────────────────────────────────────────────────────── \n"
      ]
     },
     "metadata": {},
     "output_type": "display_data"
    },
    {
     "data": {
      "text/html": [
       "<pre style=\"white-space:pre;overflow-x:auto;line-height:normal;font-family:Menlo,'DejaVu Sans Mono',consolas,'Courier New',monospace\"><span style=\"color: #d4b702; text-decoration-color: #d4b702; font-weight: bold\">Out - Final answer: (2, 12250000, 8960, 4, 4, 4, 'yes', 'no', 'no', 'no', 'yes', 3, 'no', 'furnished')</span>\n",
       "\n",
       "</pre>\n"
      ],
      "text/plain": [
       "\u001b[1;38;2;212;183;2mOut - Final answer: (2, 12250000, 8960, 4, 4, 4, 'yes', 'no', 'no', 'no', 'yes', 3, 'no', 'furnished')\u001b[0m\n",
       "\n"
      ]
     },
     "metadata": {},
     "output_type": "display_data"
    },
    {
     "data": {
      "text/html": [
       "<pre style=\"white-space:pre;overflow-x:auto;line-height:normal;font-family:Menlo,'DejaVu Sans Mono',consolas,'Courier New',monospace\"><span style=\"color: #7f7f7f; text-decoration-color: #7f7f7f\">[Step 1: Duration 48.59 seconds| Input tokens: 2,174 | Output tokens: 1,510]</span>\n",
       "</pre>\n"
      ],
      "text/plain": [
       "\u001b[2m[Step 1: Duration 48.59 seconds| Input tokens: 2,174 | Output tokens: 1,510]\u001b[0m\n"
      ]
     },
     "metadata": {},
     "output_type": "display_data"
    },
    {
     "name": "stdout",
     "output_type": "stream",
     "text": [
      "{'contact_email': <class 'sqlalchemy.sql.sqltypes.String'>, 'name': <class 'sqlalchemy.sql.sqltypes.String'>, 'camps': <class 'sqlalchemy.sql.sqltypes.Integer'>, 'Owed': <class 'sqlalchemy.sql.sqltypes.Float'>, 'Paid': <class 'sqlalchemy.sql.sqltypes.Float'>, 'Balance': <class 'sqlalchemy.sql.sqltypes.Float'>, 'Month': <class 'sqlalchemy.sql.sqltypes.String'>, 'number': <class 'sqlalchemy.sql.sqltypes.Integer'>}\n"
     ]
    },
    {
     "data": {
      "text/html": [
       "<pre style=\"white-space:pre;overflow-x:auto;line-height:normal;font-family:Menlo,'DejaVu Sans Mono',consolas,'Courier New',monospace\"><span style=\"color: #d4b702; text-decoration-color: #d4b702\">╭──────────────────────────────────────────────────── </span><span style=\"color: #d4b702; text-decoration-color: #d4b702; font-weight: bold\">New run</span><span style=\"color: #d4b702; text-decoration-color: #d4b702\"> ────────────────────────────────────────────────────╮</span>\n",
       "<span style=\"color: #d4b702; text-decoration-color: #d4b702\">│</span>                                                                                                                 <span style=\"color: #d4b702; text-decoration-color: #d4b702\">│</span>\n",
       "<span style=\"color: #d4b702; text-decoration-color: #d4b702\">│</span> <span style=\"font-weight: bold\">show table. Always wrap the result in relevant context and enforce the results object returning rows. Table </span>    <span style=\"color: #d4b702; text-decoration-color: #d4b702\">│</span>\n",
       "<span style=\"color: #d4b702; text-decoration-color: #d4b702\">│</span> <span style=\"font-weight: bold\">description is as follows:Columns:</span>                                                                              <span style=\"color: #d4b702; text-decoration-color: #d4b702\">│</span>\n",
       "<span style=\"color: #d4b702; text-decoration-color: #d4b702\">│</span> <span style=\"font-weight: bold\"> - id: INTEGER</span>                                                                                                  <span style=\"color: #d4b702; text-decoration-color: #d4b702\">│</span>\n",
       "<span style=\"color: #d4b702; text-decoration-color: #d4b702\">│</span> <span style=\"font-weight: bold\"> - price: INTEGER</span>                                                                                               <span style=\"color: #d4b702; text-decoration-color: #d4b702\">│</span>\n",
       "<span style=\"color: #d4b702; text-decoration-color: #d4b702\">│</span> <span style=\"font-weight: bold\"> - area: INTEGER</span>                                                                                                <span style=\"color: #d4b702; text-decoration-color: #d4b702\">│</span>\n",
       "<span style=\"color: #d4b702; text-decoration-color: #d4b702\">│</span> <span style=\"font-weight: bold\"> - bedrooms: INTEGER</span>                                                                                            <span style=\"color: #d4b702; text-decoration-color: #d4b702\">│</span>\n",
       "<span style=\"color: #d4b702; text-decoration-color: #d4b702\">│</span> <span style=\"font-weight: bold\"> - bathrooms: INTEGER</span>                                                                                           <span style=\"color: #d4b702; text-decoration-color: #d4b702\">│</span>\n",
       "<span style=\"color: #d4b702; text-decoration-color: #d4b702\">│</span> <span style=\"font-weight: bold\"> - stories: INTEGER</span>                                                                                             <span style=\"color: #d4b702; text-decoration-color: #d4b702\">│</span>\n",
       "<span style=\"color: #d4b702; text-decoration-color: #d4b702\">│</span> <span style=\"font-weight: bold\"> - mainroad: VARCHAR</span>                                                                                            <span style=\"color: #d4b702; text-decoration-color: #d4b702\">│</span>\n",
       "<span style=\"color: #d4b702; text-decoration-color: #d4b702\">│</span> <span style=\"font-weight: bold\"> - guestroom: VARCHAR</span>                                                                                           <span style=\"color: #d4b702; text-decoration-color: #d4b702\">│</span>\n",
       "<span style=\"color: #d4b702; text-decoration-color: #d4b702\">│</span> <span style=\"font-weight: bold\"> - basement: VARCHAR</span>                                                                                            <span style=\"color: #d4b702; text-decoration-color: #d4b702\">│</span>\n",
       "<span style=\"color: #d4b702; text-decoration-color: #d4b702\">│</span> <span style=\"font-weight: bold\"> - hotwaterheating: VARCHAR</span>                                                                                     <span style=\"color: #d4b702; text-decoration-color: #d4b702\">│</span>\n",
       "<span style=\"color: #d4b702; text-decoration-color: #d4b702\">│</span> <span style=\"font-weight: bold\"> - airconditioning: VARCHAR</span>                                                                                     <span style=\"color: #d4b702; text-decoration-color: #d4b702\">│</span>\n",
       "<span style=\"color: #d4b702; text-decoration-color: #d4b702\">│</span> <span style=\"font-weight: bold\"> - parking: INTEGER</span>                                                                                             <span style=\"color: #d4b702; text-decoration-color: #d4b702\">│</span>\n",
       "<span style=\"color: #d4b702; text-decoration-color: #d4b702\">│</span> <span style=\"font-weight: bold\"> - prefarea: VARCHAR</span>                                                                                            <span style=\"color: #d4b702; text-decoration-color: #d4b702\">│</span>\n",
       "<span style=\"color: #d4b702; text-decoration-color: #d4b702\">│</span> <span style=\"font-weight: bold\"> - furnishingstatus: VARCHAR</span>                                                                                    <span style=\"color: #d4b702; text-decoration-color: #d4b702\">│</span>\n",
       "<span style=\"color: #d4b702; text-decoration-color: #d4b702\">│</span> <span style=\"font-weight: bold\"> - contact_email: VARCHAR</span>                                                                                       <span style=\"color: #d4b702; text-decoration-color: #d4b702\">│</span>\n",
       "<span style=\"color: #d4b702; text-decoration-color: #d4b702\">│</span> <span style=\"font-weight: bold\"> - name: VARCHAR</span>                                                                                                <span style=\"color: #d4b702; text-decoration-color: #d4b702\">│</span>\n",
       "<span style=\"color: #d4b702; text-decoration-color: #d4b702\">│</span> <span style=\"font-weight: bold\"> - camps: INTEGER</span>                                                                                               <span style=\"color: #d4b702; text-decoration-color: #d4b702\">│</span>\n",
       "<span style=\"color: #d4b702; text-decoration-color: #d4b702\">│</span> <span style=\"font-weight: bold\"> - Owed: FLOAT</span>                                                                                                  <span style=\"color: #d4b702; text-decoration-color: #d4b702\">│</span>\n",
       "<span style=\"color: #d4b702; text-decoration-color: #d4b702\">│</span> <span style=\"font-weight: bold\"> - Paid: FLOAT</span>                                                                                                  <span style=\"color: #d4b702; text-decoration-color: #d4b702\">│</span>\n",
       "<span style=\"color: #d4b702; text-decoration-color: #d4b702\">│</span> <span style=\"font-weight: bold\"> - Balance: FLOAT</span>                                                                                               <span style=\"color: #d4b702; text-decoration-color: #d4b702\">│</span>\n",
       "<span style=\"color: #d4b702; text-decoration-color: #d4b702\">│</span> <span style=\"font-weight: bold\"> - Month: VARCHAR</span>                                                                                               <span style=\"color: #d4b702; text-decoration-color: #d4b702\">│</span>\n",
       "<span style=\"color: #d4b702; text-decoration-color: #d4b702\">│</span> <span style=\"font-weight: bold\"> - number: INTEGER</span>                                                                                              <span style=\"color: #d4b702; text-decoration-color: #d4b702\">│</span>\n",
       "<span style=\"color: #d4b702; text-decoration-color: #d4b702\">│</span>                                                                                                                 <span style=\"color: #d4b702; text-decoration-color: #d4b702\">│</span>\n",
       "<span style=\"color: #d4b702; text-decoration-color: #d4b702\">╰─ InferenceClientModel - Qwen/Qwen3-235B-A22B ───────────────────────────────────────────────────────────────────╯</span>\n",
       "</pre>\n"
      ],
      "text/plain": [
       "\u001b[38;2;212;183;2m╭─\u001b[0m\u001b[38;2;212;183;2m───────────────────────────────────────────────────\u001b[0m\u001b[38;2;212;183;2m \u001b[0m\u001b[1;38;2;212;183;2mNew run\u001b[0m\u001b[38;2;212;183;2m \u001b[0m\u001b[38;2;212;183;2m───────────────────────────────────────────────────\u001b[0m\u001b[38;2;212;183;2m─╮\u001b[0m\n",
       "\u001b[38;2;212;183;2m│\u001b[0m                                                                                                                 \u001b[38;2;212;183;2m│\u001b[0m\n",
       "\u001b[38;2;212;183;2m│\u001b[0m \u001b[1mshow table. Always wrap the result in relevant context and enforce the results object returning rows. Table \u001b[0m    \u001b[38;2;212;183;2m│\u001b[0m\n",
       "\u001b[38;2;212;183;2m│\u001b[0m \u001b[1mdescription is as follows:Columns:\u001b[0m                                                                              \u001b[38;2;212;183;2m│\u001b[0m\n",
       "\u001b[38;2;212;183;2m│\u001b[0m \u001b[1m - id: INTEGER\u001b[0m                                                                                                  \u001b[38;2;212;183;2m│\u001b[0m\n",
       "\u001b[38;2;212;183;2m│\u001b[0m \u001b[1m - price: INTEGER\u001b[0m                                                                                               \u001b[38;2;212;183;2m│\u001b[0m\n",
       "\u001b[38;2;212;183;2m│\u001b[0m \u001b[1m - area: INTEGER\u001b[0m                                                                                                \u001b[38;2;212;183;2m│\u001b[0m\n",
       "\u001b[38;2;212;183;2m│\u001b[0m \u001b[1m - bedrooms: INTEGER\u001b[0m                                                                                            \u001b[38;2;212;183;2m│\u001b[0m\n",
       "\u001b[38;2;212;183;2m│\u001b[0m \u001b[1m - bathrooms: INTEGER\u001b[0m                                                                                           \u001b[38;2;212;183;2m│\u001b[0m\n",
       "\u001b[38;2;212;183;2m│\u001b[0m \u001b[1m - stories: INTEGER\u001b[0m                                                                                             \u001b[38;2;212;183;2m│\u001b[0m\n",
       "\u001b[38;2;212;183;2m│\u001b[0m \u001b[1m - mainroad: VARCHAR\u001b[0m                                                                                            \u001b[38;2;212;183;2m│\u001b[0m\n",
       "\u001b[38;2;212;183;2m│\u001b[0m \u001b[1m - guestroom: VARCHAR\u001b[0m                                                                                           \u001b[38;2;212;183;2m│\u001b[0m\n",
       "\u001b[38;2;212;183;2m│\u001b[0m \u001b[1m - basement: VARCHAR\u001b[0m                                                                                            \u001b[38;2;212;183;2m│\u001b[0m\n",
       "\u001b[38;2;212;183;2m│\u001b[0m \u001b[1m - hotwaterheating: VARCHAR\u001b[0m                                                                                     \u001b[38;2;212;183;2m│\u001b[0m\n",
       "\u001b[38;2;212;183;2m│\u001b[0m \u001b[1m - airconditioning: VARCHAR\u001b[0m                                                                                     \u001b[38;2;212;183;2m│\u001b[0m\n",
       "\u001b[38;2;212;183;2m│\u001b[0m \u001b[1m - parking: INTEGER\u001b[0m                                                                                             \u001b[38;2;212;183;2m│\u001b[0m\n",
       "\u001b[38;2;212;183;2m│\u001b[0m \u001b[1m - prefarea: VARCHAR\u001b[0m                                                                                            \u001b[38;2;212;183;2m│\u001b[0m\n",
       "\u001b[38;2;212;183;2m│\u001b[0m \u001b[1m - furnishingstatus: VARCHAR\u001b[0m                                                                                    \u001b[38;2;212;183;2m│\u001b[0m\n",
       "\u001b[38;2;212;183;2m│\u001b[0m \u001b[1m - contact_email: VARCHAR\u001b[0m                                                                                       \u001b[38;2;212;183;2m│\u001b[0m\n",
       "\u001b[38;2;212;183;2m│\u001b[0m \u001b[1m - name: VARCHAR\u001b[0m                                                                                                \u001b[38;2;212;183;2m│\u001b[0m\n",
       "\u001b[38;2;212;183;2m│\u001b[0m \u001b[1m - camps: INTEGER\u001b[0m                                                                                               \u001b[38;2;212;183;2m│\u001b[0m\n",
       "\u001b[38;2;212;183;2m│\u001b[0m \u001b[1m - Owed: FLOAT\u001b[0m                                                                                                  \u001b[38;2;212;183;2m│\u001b[0m\n",
       "\u001b[38;2;212;183;2m│\u001b[0m \u001b[1m - Paid: FLOAT\u001b[0m                                                                                                  \u001b[38;2;212;183;2m│\u001b[0m\n",
       "\u001b[38;2;212;183;2m│\u001b[0m \u001b[1m - Balance: FLOAT\u001b[0m                                                                                               \u001b[38;2;212;183;2m│\u001b[0m\n",
       "\u001b[38;2;212;183;2m│\u001b[0m \u001b[1m - Month: VARCHAR\u001b[0m                                                                                               \u001b[38;2;212;183;2m│\u001b[0m\n",
       "\u001b[38;2;212;183;2m│\u001b[0m \u001b[1m - number: INTEGER\u001b[0m                                                                                              \u001b[38;2;212;183;2m│\u001b[0m\n",
       "\u001b[38;2;212;183;2m│\u001b[0m                                                                                                                 \u001b[38;2;212;183;2m│\u001b[0m\n",
       "\u001b[38;2;212;183;2m╰─\u001b[0m\u001b[38;2;212;183;2m InferenceClientModel - Qwen/Qwen3-235B-A22B \u001b[0m\u001b[38;2;212;183;2m──────────────────────────────────────────────────────────────────\u001b[0m\u001b[38;2;212;183;2m─╯\u001b[0m\n"
      ]
     },
     "metadata": {},
     "output_type": "display_data"
    },
    {
     "data": {
      "text/html": [
       "<pre style=\"white-space:pre;overflow-x:auto;line-height:normal;font-family:Menlo,'DejaVu Sans Mono',consolas,'Courier New',monospace\"><span style=\"color: #d4b702; text-decoration-color: #d4b702\">━━━━━━━━━━━━━━━━━━━━━━━━━━━━━━━━━━━━━━━━━━━━━━━━━━━━━ </span><span style=\"font-weight: bold\">Step </span><span style=\"color: #008080; text-decoration-color: #008080; font-weight: bold\">1</span><span style=\"color: #d4b702; text-decoration-color: #d4b702\"> ━━━━━━━━━━━━━━━━━━━━━━━━━━━━━━━━━━━━━━━━━━━━━━━━━━━━━━</span>\n",
       "</pre>\n"
      ],
      "text/plain": [
       "\u001b[38;2;212;183;2m━━━━━━━━━━━━━━━━━━━━━━━━━━━━━━━━━━━━━━━━━━━━━━━━━━━━━ \u001b[0m\u001b[1mStep \u001b[0m\u001b[1;36m1\u001b[0m\u001b[38;2;212;183;2m ━━━━━━━━━━━━━━━━━━━━━━━━━━━━━━━━━━━━━━━━━━━━━━━━━━━━━━\u001b[0m\n"
      ]
     },
     "metadata": {},
     "output_type": "display_data"
    },
    {
     "data": {
      "text/html": [
       "<pre style=\"white-space:pre;overflow-x:auto;line-height:normal;font-family:Menlo,'DejaVu Sans Mono',consolas,'Courier New',monospace\"> ─ <span style=\"font-weight: bold\">Executing parsed code:</span> ──────────────────────────────────────────────────────────────────────────────────────── \n",
       "  <span style=\"color: #f8f8f2; text-decoration-color: #f8f8f2; background-color: #272822\">result </span><span style=\"color: #ff4689; text-decoration-color: #ff4689; background-color: #272822\">=</span><span style=\"color: #f8f8f2; text-decoration-color: #f8f8f2; background-color: #272822\"> sql_engine(query</span><span style=\"color: #ff4689; text-decoration-color: #ff4689; background-color: #272822\">=</span><span style=\"color: #e6db74; text-decoration-color: #e6db74; background-color: #272822\">\"SELECT * FROM agent_table\"</span><span style=\"color: #f8f8f2; text-decoration-color: #f8f8f2; background-color: #272822\">)</span><span style=\"background-color: #272822\">                                                         </span>  \n",
       "  <span style=\"color: #f8f8f2; text-decoration-color: #f8f8f2; background-color: #272822\">print(</span><span style=\"color: #e6db74; text-decoration-color: #e6db74; background-color: #272822\">\"Table contents:\"</span><span style=\"color: #f8f8f2; text-decoration-color: #f8f8f2; background-color: #272822\">)</span><span style=\"background-color: #272822\">                                                                                       </span>  \n",
       "  <span style=\"color: #f8f8f2; text-decoration-color: #f8f8f2; background-color: #272822\">print(result)</span><span style=\"background-color: #272822\">                                                                                                  </span>  \n",
       " ───────────────────────────────────────────────────────────────────────────────────────────────────────────────── \n",
       "</pre>\n"
      ],
      "text/plain": [
       " ─ \u001b[1mExecuting parsed code:\u001b[0m ──────────────────────────────────────────────────────────────────────────────────────── \n",
       "  \u001b[38;2;248;248;242;48;2;39;40;34mresult\u001b[0m\u001b[38;2;248;248;242;48;2;39;40;34m \u001b[0m\u001b[38;2;255;70;137;48;2;39;40;34m=\u001b[0m\u001b[38;2;248;248;242;48;2;39;40;34m \u001b[0m\u001b[38;2;248;248;242;48;2;39;40;34msql_engine\u001b[0m\u001b[38;2;248;248;242;48;2;39;40;34m(\u001b[0m\u001b[38;2;248;248;242;48;2;39;40;34mquery\u001b[0m\u001b[38;2;255;70;137;48;2;39;40;34m=\u001b[0m\u001b[38;2;230;219;116;48;2;39;40;34m\"\u001b[0m\u001b[38;2;230;219;116;48;2;39;40;34mSELECT * FROM agent_table\u001b[0m\u001b[38;2;230;219;116;48;2;39;40;34m\"\u001b[0m\u001b[38;2;248;248;242;48;2;39;40;34m)\u001b[0m\u001b[48;2;39;40;34m                                                         \u001b[0m  \n",
       "  \u001b[38;2;248;248;242;48;2;39;40;34mprint\u001b[0m\u001b[38;2;248;248;242;48;2;39;40;34m(\u001b[0m\u001b[38;2;230;219;116;48;2;39;40;34m\"\u001b[0m\u001b[38;2;230;219;116;48;2;39;40;34mTable contents:\u001b[0m\u001b[38;2;230;219;116;48;2;39;40;34m\"\u001b[0m\u001b[38;2;248;248;242;48;2;39;40;34m)\u001b[0m\u001b[48;2;39;40;34m                                                                                       \u001b[0m  \n",
       "  \u001b[38;2;248;248;242;48;2;39;40;34mprint\u001b[0m\u001b[38;2;248;248;242;48;2;39;40;34m(\u001b[0m\u001b[38;2;248;248;242;48;2;39;40;34mresult\u001b[0m\u001b[38;2;248;248;242;48;2;39;40;34m)\u001b[0m\u001b[48;2;39;40;34m                                                                                                  \u001b[0m  \n",
       " ───────────────────────────────────────────────────────────────────────────────────────────────────────────────── \n"
      ]
     },
     "metadata": {},
     "output_type": "display_data"
    },
    {
     "data": {
      "text/html": [
       "<pre style=\"white-space:pre;overflow-x:auto;line-height:normal;font-family:Menlo,'DejaVu Sans Mono',consolas,'Courier New',monospace\"><span style=\"font-weight: bold\">Execution logs:</span>\n",
       "Table contents:\n",
       "(1, None, None, None, None, None, None, None, None, None, None, None, None, None, 'fake1@fake.com', 'Johnny Smith',\n",
       "7, 150.0, 155.0, 5.0, 'january', 90)\n",
       "(2, None, None, None, None, None, None, None, None, None, None, None, None, None, 'fake2@fake.com', 'Lucki Tiller',\n",
       "4, 100.0, 75.0, -25.0, 'february', 45)\n",
       "(3, None, None, None, None, None, None, None, None, None, None, None, None, None, 'fake3@fake.com', 'Carter Anne', \n",
       "6, 100.0, 103.0, 3.0, 'march', 0)\n",
       "(4, None, None, None, None, None, None, None, None, None, None, None, None, None, 'fake4@fake.com', 'Martin James',\n",
       "1, 50.0, 60.0, 10.0, 'april', -45)\n",
       "(5, None, None, None, None, None, None, None, None, None, None, None, None, None, 'fake5@fake.com', 'Kole Adams', \n",
       "5, 50.0, 55.0, 5.0, 'may', -90)\n",
       "(6, None, None, None, None, None, None, None, None, None, None, None, None, None, 'fake6@fake.com', 'Marco King', \n",
       "2, 50.0, 65.0, 15.0, 'june', -135)\n",
       "(7, None, None, None, None, None, None, None, None, None, None, None, None, None, 'fake7@fake.com', 'Manny holmes',\n",
       "7, 150.0, 100.0, -50.0, 'july', -180)\n",
       "(8, None, None, None, None, None, None, None, None, None, None, None, None, None, 'fake8@fake.com', 'Steven Yeun', \n",
       "1, 50.0, 50.0, 0.0, 'august', -225)\n",
       "(9, None, None, None, None, None, None, None, None, None, None, None, None, None, 'fake9@fake.com', 'Chance Lutz', \n",
       "4, 100.0, 0.0, -100.0, 'september', -270)\n",
       "\n",
       "\n",
       "Out: None\n",
       "</pre>\n"
      ],
      "text/plain": [
       "\u001b[1mExecution logs:\u001b[0m\n",
       "Table contents:\n",
       "(1, None, None, None, None, None, None, None, None, None, None, None, None, None, 'fake1@fake.com', 'Johnny Smith',\n",
       "7, 150.0, 155.0, 5.0, 'january', 90)\n",
       "(2, None, None, None, None, None, None, None, None, None, None, None, None, None, 'fake2@fake.com', 'Lucki Tiller',\n",
       "4, 100.0, 75.0, -25.0, 'february', 45)\n",
       "(3, None, None, None, None, None, None, None, None, None, None, None, None, None, 'fake3@fake.com', 'Carter Anne', \n",
       "6, 100.0, 103.0, 3.0, 'march', 0)\n",
       "(4, None, None, None, None, None, None, None, None, None, None, None, None, None, 'fake4@fake.com', 'Martin James',\n",
       "1, 50.0, 60.0, 10.0, 'april', -45)\n",
       "(5, None, None, None, None, None, None, None, None, None, None, None, None, None, 'fake5@fake.com', 'Kole Adams', \n",
       "5, 50.0, 55.0, 5.0, 'may', -90)\n",
       "(6, None, None, None, None, None, None, None, None, None, None, None, None, None, 'fake6@fake.com', 'Marco King', \n",
       "2, 50.0, 65.0, 15.0, 'june', -135)\n",
       "(7, None, None, None, None, None, None, None, None, None, None, None, None, None, 'fake7@fake.com', 'Manny holmes',\n",
       "7, 150.0, 100.0, -50.0, 'july', -180)\n",
       "(8, None, None, None, None, None, None, None, None, None, None, None, None, None, 'fake8@fake.com', 'Steven Yeun', \n",
       "1, 50.0, 50.0, 0.0, 'august', -225)\n",
       "(9, None, None, None, None, None, None, None, None, None, None, None, None, None, 'fake9@fake.com', 'Chance Lutz', \n",
       "4, 100.0, 0.0, -100.0, 'september', -270)\n",
       "\n",
       "\n",
       "Out: None\n"
      ]
     },
     "metadata": {},
     "output_type": "display_data"
    },
    {
     "data": {
      "text/html": [
       "<pre style=\"white-space:pre;overflow-x:auto;line-height:normal;font-family:Menlo,'DejaVu Sans Mono',consolas,'Courier New',monospace\"><span style=\"color: #7f7f7f; text-decoration-color: #7f7f7f\">[Step 1: Duration 6.44 seconds| Input tokens: 2,195 | Output tokens: 195]</span>\n",
       "</pre>\n"
      ],
      "text/plain": [
       "\u001b[2m[Step 1: Duration 6.44 seconds| Input tokens: 2,195 | Output tokens: 195]\u001b[0m\n"
      ]
     },
     "metadata": {},
     "output_type": "display_data"
    },
    {
     "data": {
      "text/html": [
       "<pre style=\"white-space:pre;overflow-x:auto;line-height:normal;font-family:Menlo,'DejaVu Sans Mono',consolas,'Courier New',monospace\"><span style=\"color: #d4b702; text-decoration-color: #d4b702\">━━━━━━━━━━━━━━━━━━━━━━━━━━━━━━━━━━━━━━━━━━━━━━━━━━━━━ </span><span style=\"font-weight: bold\">Step </span><span style=\"color: #008080; text-decoration-color: #008080; font-weight: bold\">2</span><span style=\"color: #d4b702; text-decoration-color: #d4b702\"> ━━━━━━━━━━━━━━━━━━━━━━━━━━━━━━━━━━━━━━━━━━━━━━━━━━━━━━</span>\n",
       "</pre>\n"
      ],
      "text/plain": [
       "\u001b[38;2;212;183;2m━━━━━━━━━━━━━━━━━━━━━━━━━━━━━━━━━━━━━━━━━━━━━━━━━━━━━ \u001b[0m\u001b[1mStep \u001b[0m\u001b[1;36m2\u001b[0m\u001b[38;2;212;183;2m ━━━━━━━━━━━━━━━━━━━━━━━━━━━━━━━━━━━━━━━━━━━━━━━━━━━━━━\u001b[0m\n"
      ]
     },
     "metadata": {},
     "output_type": "display_data"
    },
    {
     "data": {
      "text/html": [
       "<pre style=\"white-space:pre;overflow-x:auto;line-height:normal;font-family:Menlo,'DejaVu Sans Mono',consolas,'Courier New',monospace\"> ─ <span style=\"font-weight: bold\">Executing parsed code:</span> ──────────────────────────────────────────────────────────────────────────────────────── \n",
       "  <span style=\"color: #f8f8f2; text-decoration-color: #f8f8f2; background-color: #272822\">result </span><span style=\"color: #ff4689; text-decoration-color: #ff4689; background-color: #272822\">=</span><span style=\"color: #f8f8f2; text-decoration-color: #f8f8f2; background-color: #272822\"> sql_engine(query</span><span style=\"color: #ff4689; text-decoration-color: #ff4689; background-color: #272822\">=</span><span style=\"color: #e6db74; text-decoration-color: #e6db74; background-color: #272822\">\"SELECT * FROM agent_table\"</span><span style=\"color: #f8f8f2; text-decoration-color: #f8f8f2; background-color: #272822\">)</span><span style=\"background-color: #272822\">                                                         </span>  \n",
       "  <span style=\"color: #f8f8f2; text-decoration-color: #f8f8f2; background-color: #272822\">print(</span><span style=\"color: #e6db74; text-decoration-color: #e6db74; background-color: #272822\">\"Table contents:\"</span><span style=\"color: #f8f8f2; text-decoration-color: #f8f8f2; background-color: #272822\">)</span><span style=\"background-color: #272822\">                                                                                       </span>  \n",
       "  <span style=\"color: #f8f8f2; text-decoration-color: #f8f8f2; background-color: #272822\">print(result)</span><span style=\"background-color: #272822\">                                                                                                  </span>  \n",
       " ───────────────────────────────────────────────────────────────────────────────────────────────────────────────── \n",
       "</pre>\n"
      ],
      "text/plain": [
       " ─ \u001b[1mExecuting parsed code:\u001b[0m ──────────────────────────────────────────────────────────────────────────────────────── \n",
       "  \u001b[38;2;248;248;242;48;2;39;40;34mresult\u001b[0m\u001b[38;2;248;248;242;48;2;39;40;34m \u001b[0m\u001b[38;2;255;70;137;48;2;39;40;34m=\u001b[0m\u001b[38;2;248;248;242;48;2;39;40;34m \u001b[0m\u001b[38;2;248;248;242;48;2;39;40;34msql_engine\u001b[0m\u001b[38;2;248;248;242;48;2;39;40;34m(\u001b[0m\u001b[38;2;248;248;242;48;2;39;40;34mquery\u001b[0m\u001b[38;2;255;70;137;48;2;39;40;34m=\u001b[0m\u001b[38;2;230;219;116;48;2;39;40;34m\"\u001b[0m\u001b[38;2;230;219;116;48;2;39;40;34mSELECT * FROM agent_table\u001b[0m\u001b[38;2;230;219;116;48;2;39;40;34m\"\u001b[0m\u001b[38;2;248;248;242;48;2;39;40;34m)\u001b[0m\u001b[48;2;39;40;34m                                                         \u001b[0m  \n",
       "  \u001b[38;2;248;248;242;48;2;39;40;34mprint\u001b[0m\u001b[38;2;248;248;242;48;2;39;40;34m(\u001b[0m\u001b[38;2;230;219;116;48;2;39;40;34m\"\u001b[0m\u001b[38;2;230;219;116;48;2;39;40;34mTable contents:\u001b[0m\u001b[38;2;230;219;116;48;2;39;40;34m\"\u001b[0m\u001b[38;2;248;248;242;48;2;39;40;34m)\u001b[0m\u001b[48;2;39;40;34m                                                                                       \u001b[0m  \n",
       "  \u001b[38;2;248;248;242;48;2;39;40;34mprint\u001b[0m\u001b[38;2;248;248;242;48;2;39;40;34m(\u001b[0m\u001b[38;2;248;248;242;48;2;39;40;34mresult\u001b[0m\u001b[38;2;248;248;242;48;2;39;40;34m)\u001b[0m\u001b[48;2;39;40;34m                                                                                                  \u001b[0m  \n",
       " ───────────────────────────────────────────────────────────────────────────────────────────────────────────────── \n"
      ]
     },
     "metadata": {},
     "output_type": "display_data"
    },
    {
     "data": {
      "text/html": [
       "<pre style=\"white-space:pre;overflow-x:auto;line-height:normal;font-family:Menlo,'DejaVu Sans Mono',consolas,'Courier New',monospace\"><span style=\"font-weight: bold\">Execution logs:</span>\n",
       "Table contents:\n",
       "(1, None, None, None, None, None, None, None, None, None, None, None, None, None, 'fake1@fake.com', 'Johnny Smith',\n",
       "7, 150.0, 155.0, 5.0, 'january', 90)\n",
       "(2, None, None, None, None, None, None, None, None, None, None, None, None, None, 'fake2@fake.com', 'Lucki Tiller',\n",
       "4, 100.0, 75.0, -25.0, 'february', 45)\n",
       "(3, None, None, None, None, None, None, None, None, None, None, None, None, None, 'fake3@fake.com', 'Carter Anne', \n",
       "6, 100.0, 103.0, 3.0, 'march', 0)\n",
       "(4, None, None, None, None, None, None, None, None, None, None, None, None, None, 'fake4@fake.com', 'Martin James',\n",
       "1, 50.0, 60.0, 10.0, 'april', -45)\n",
       "(5, None, None, None, None, None, None, None, None, None, None, None, None, None, 'fake5@fake.com', 'Kole Adams', \n",
       "5, 50.0, 55.0, 5.0, 'may', -90)\n",
       "(6, None, None, None, None, None, None, None, None, None, None, None, None, None, 'fake6@fake.com', 'Marco King', \n",
       "2, 50.0, 65.0, 15.0, 'june', -135)\n",
       "(7, None, None, None, None, None, None, None, None, None, None, None, None, None, 'fake7@fake.com', 'Manny holmes',\n",
       "7, 150.0, 100.0, -50.0, 'july', -180)\n",
       "(8, None, None, None, None, None, None, None, None, None, None, None, None, None, 'fake8@fake.com', 'Steven Yeun', \n",
       "1, 50.0, 50.0, 0.0, 'august', -225)\n",
       "(9, None, None, None, None, None, None, None, None, None, None, None, None, None, 'fake9@fake.com', 'Chance Lutz', \n",
       "4, 100.0, 0.0, -100.0, 'september', -270)\n",
       "\n",
       "\n",
       "Out: None\n",
       "</pre>\n"
      ],
      "text/plain": [
       "\u001b[1mExecution logs:\u001b[0m\n",
       "Table contents:\n",
       "(1, None, None, None, None, None, None, None, None, None, None, None, None, None, 'fake1@fake.com', 'Johnny Smith',\n",
       "7, 150.0, 155.0, 5.0, 'january', 90)\n",
       "(2, None, None, None, None, None, None, None, None, None, None, None, None, None, 'fake2@fake.com', 'Lucki Tiller',\n",
       "4, 100.0, 75.0, -25.0, 'february', 45)\n",
       "(3, None, None, None, None, None, None, None, None, None, None, None, None, None, 'fake3@fake.com', 'Carter Anne', \n",
       "6, 100.0, 103.0, 3.0, 'march', 0)\n",
       "(4, None, None, None, None, None, None, None, None, None, None, None, None, None, 'fake4@fake.com', 'Martin James',\n",
       "1, 50.0, 60.0, 10.0, 'april', -45)\n",
       "(5, None, None, None, None, None, None, None, None, None, None, None, None, None, 'fake5@fake.com', 'Kole Adams', \n",
       "5, 50.0, 55.0, 5.0, 'may', -90)\n",
       "(6, None, None, None, None, None, None, None, None, None, None, None, None, None, 'fake6@fake.com', 'Marco King', \n",
       "2, 50.0, 65.0, 15.0, 'june', -135)\n",
       "(7, None, None, None, None, None, None, None, None, None, None, None, None, None, 'fake7@fake.com', 'Manny holmes',\n",
       "7, 150.0, 100.0, -50.0, 'july', -180)\n",
       "(8, None, None, None, None, None, None, None, None, None, None, None, None, None, 'fake8@fake.com', 'Steven Yeun', \n",
       "1, 50.0, 50.0, 0.0, 'august', -225)\n",
       "(9, None, None, None, None, None, None, None, None, None, None, None, None, None, 'fake9@fake.com', 'Chance Lutz', \n",
       "4, 100.0, 0.0, -100.0, 'september', -270)\n",
       "\n",
       "\n",
       "Out: None\n"
      ]
     },
     "metadata": {},
     "output_type": "display_data"
    },
    {
     "data": {
      "text/html": [
       "<pre style=\"white-space:pre;overflow-x:auto;line-height:normal;font-family:Menlo,'DejaVu Sans Mono',consolas,'Courier New',monospace\"><span style=\"color: #7f7f7f; text-decoration-color: #7f7f7f\">[Step 2: Duration 51.68 seconds| Input tokens: 5,186 | Output tokens: 1,863]</span>\n",
       "</pre>\n"
      ],
      "text/plain": [
       "\u001b[2m[Step 2: Duration 51.68 seconds| Input tokens: 5,186 | Output tokens: 1,863]\u001b[0m\n"
      ]
     },
     "metadata": {},
     "output_type": "display_data"
    },
    {
     "data": {
      "text/html": [
       "<pre style=\"white-space:pre;overflow-x:auto;line-height:normal;font-family:Menlo,'DejaVu Sans Mono',consolas,'Courier New',monospace\"><span style=\"color: #d4b702; text-decoration-color: #d4b702\">━━━━━━━━━━━━━━━━━━━━━━━━━━━━━━━━━━━━━━━━━━━━━━━━━━━━━ </span><span style=\"font-weight: bold\">Step </span><span style=\"color: #008080; text-decoration-color: #008080; font-weight: bold\">3</span><span style=\"color: #d4b702; text-decoration-color: #d4b702\"> ━━━━━━━━━━━━━━━━━━━━━━━━━━━━━━━━━━━━━━━━━━━━━━━━━━━━━━</span>\n",
       "</pre>\n"
      ],
      "text/plain": [
       "\u001b[38;2;212;183;2m━━━━━━━━━━━━━━━━━━━━━━━━━━━━━━━━━━━━━━━━━━━━━━━━━━━━━ \u001b[0m\u001b[1mStep \u001b[0m\u001b[1;36m3\u001b[0m\u001b[38;2;212;183;2m ━━━━━━━━━━━━━━━━━━━━━━━━━━━━━━━━━━━━━━━━━━━━━━━━━━━━━━\u001b[0m\n"
      ]
     },
     "metadata": {},
     "output_type": "display_data"
    },
    {
     "data": {
      "text/html": [
       "<pre style=\"white-space:pre;overflow-x:auto;line-height:normal;font-family:Menlo,'DejaVu Sans Mono',consolas,'Courier New',monospace\"> ─ <span style=\"font-weight: bold\">Executing parsed code:</span> ──────────────────────────────────────────────────────────────────────────────────────── \n",
       "  <span style=\"color: #959077; text-decoration-color: #959077; background-color: #272822\"># Create the summary text explaining the table data and columns</span><span style=\"background-color: #272822\">                                                </span>  \n",
       "  <span style=\"color: #f8f8f2; text-decoration-color: #f8f8f2; background-color: #272822\">summary </span><span style=\"color: #ff4689; text-decoration-color: #ff4689; background-color: #272822\">=</span><span style=\"color: #f8f8f2; text-decoration-color: #f8f8f2; background-color: #272822\"> </span><span style=\"color: #e6db74; text-decoration-color: #e6db74; background-color: #272822\">\"The table contains the following columns: id, price, area, bedrooms, bathrooms, stories, mainroad, </span><span style=\"background-color: #272822\"> </span>  \n",
       "  <span style=\"color: #e6db74; text-decoration-color: #e6db74; background-color: #272822\">guestroom, basement, hotwaterheating, airconditioning, parking, prefarea, furnishingstatus, contact_email, </span><span style=\"background-color: #272822\">    </span>  \n",
       "  <span style=\"color: #e6db74; text-decoration-color: #e6db74; background-color: #272822\">name, camps, Owed, Paid, Balance, Month, number. Most of the early columns have NULL values, while the later </span><span style=\"background-color: #272822\">  </span>  \n",
       "  <span style=\"color: #e6db74; text-decoration-color: #e6db74; background-color: #272822\">columns (contact_email, name, camps, etc.) have data. The retrieved rows are as follows:</span><span style=\"color: #ae81ff; text-decoration-color: #ae81ff; background-color: #272822\">\\n\\n</span><span style=\"color: #e6db74; text-decoration-color: #e6db74; background-color: #272822\">\"</span><span style=\"background-color: #272822\">                  </span>  \n",
       "  <span style=\"background-color: #272822\">                                                                                                               </span>  \n",
       "  <span style=\"color: #959077; text-decoration-color: #959077; background-color: #272822\"># Append the rows retrieved from SQL engine </span><span style=\"background-color: #272822\">                                                                   </span>  \n",
       "  <span style=\"color: #f8f8f2; text-decoration-color: #f8f8f2; background-color: #272822\">final_result </span><span style=\"color: #ff4689; text-decoration-color: #ff4689; background-color: #272822\">=</span><span style=\"color: #f8f8f2; text-decoration-color: #f8f8f2; background-color: #272822\"> summary </span><span style=\"color: #ff4689; text-decoration-color: #ff4689; background-color: #272822\">+</span><span style=\"color: #f8f8f2; text-decoration-color: #f8f8f2; background-color: #272822\"> </span><span style=\"color: #e6db74; text-decoration-color: #e6db74; background-color: #272822\">\"Table Rows:</span><span style=\"color: #ae81ff; text-decoration-color: #ae81ff; background-color: #272822\">\\n</span><span style=\"color: #e6db74; text-decoration-color: #e6db74; background-color: #272822\">\"</span><span style=\"color: #f8f8f2; text-decoration-color: #f8f8f2; background-color: #272822\"> </span><span style=\"color: #ff4689; text-decoration-color: #ff4689; background-color: #272822\">+</span><span style=\"color: #f8f8f2; text-decoration-color: #f8f8f2; background-color: #272822\"> result</span><span style=\"background-color: #272822\">                                                              </span>  \n",
       "  <span style=\"color: #f8f8f2; text-decoration-color: #f8f8f2; background-color: #272822\">final_answer(final_result)</span><span style=\"background-color: #272822\">                                                                                     </span>  \n",
       " ───────────────────────────────────────────────────────────────────────────────────────────────────────────────── \n",
       "</pre>\n"
      ],
      "text/plain": [
       " ─ \u001b[1mExecuting parsed code:\u001b[0m ──────────────────────────────────────────────────────────────────────────────────────── \n",
       "  \u001b[38;2;149;144;119;48;2;39;40;34m# Create the summary text explaining the table data and columns\u001b[0m\u001b[48;2;39;40;34m                                                \u001b[0m  \n",
       "  \u001b[38;2;248;248;242;48;2;39;40;34msummary\u001b[0m\u001b[38;2;248;248;242;48;2;39;40;34m \u001b[0m\u001b[38;2;255;70;137;48;2;39;40;34m=\u001b[0m\u001b[38;2;248;248;242;48;2;39;40;34m \u001b[0m\u001b[38;2;230;219;116;48;2;39;40;34m\"\u001b[0m\u001b[38;2;230;219;116;48;2;39;40;34mThe table contains the following columns: id, price, area, bedrooms, bathrooms, stories, mainroad, \u001b[0m\u001b[48;2;39;40;34m \u001b[0m  \n",
       "  \u001b[38;2;230;219;116;48;2;39;40;34mguestroom, basement, hotwaterheating, airconditioning, parking, prefarea, furnishingstatus, contact_email, \u001b[0m\u001b[48;2;39;40;34m    \u001b[0m  \n",
       "  \u001b[38;2;230;219;116;48;2;39;40;34mname, camps, Owed, Paid, Balance, Month, number. Most of the early columns have NULL values, while the later \u001b[0m\u001b[48;2;39;40;34m  \u001b[0m  \n",
       "  \u001b[38;2;230;219;116;48;2;39;40;34mcolumns (contact_email, name, camps, etc.) have data. The retrieved rows are as follows:\u001b[0m\u001b[38;2;174;129;255;48;2;39;40;34m\\n\u001b[0m\u001b[38;2;174;129;255;48;2;39;40;34m\\n\u001b[0m\u001b[38;2;230;219;116;48;2;39;40;34m\"\u001b[0m\u001b[48;2;39;40;34m                  \u001b[0m  \n",
       "  \u001b[48;2;39;40;34m                                                                                                               \u001b[0m  \n",
       "  \u001b[38;2;149;144;119;48;2;39;40;34m# Append the rows retrieved from SQL engine \u001b[0m\u001b[48;2;39;40;34m                                                                   \u001b[0m  \n",
       "  \u001b[38;2;248;248;242;48;2;39;40;34mfinal_result\u001b[0m\u001b[38;2;248;248;242;48;2;39;40;34m \u001b[0m\u001b[38;2;255;70;137;48;2;39;40;34m=\u001b[0m\u001b[38;2;248;248;242;48;2;39;40;34m \u001b[0m\u001b[38;2;248;248;242;48;2;39;40;34msummary\u001b[0m\u001b[38;2;248;248;242;48;2;39;40;34m \u001b[0m\u001b[38;2;255;70;137;48;2;39;40;34m+\u001b[0m\u001b[38;2;248;248;242;48;2;39;40;34m \u001b[0m\u001b[38;2;230;219;116;48;2;39;40;34m\"\u001b[0m\u001b[38;2;230;219;116;48;2;39;40;34mTable Rows:\u001b[0m\u001b[38;2;174;129;255;48;2;39;40;34m\\n\u001b[0m\u001b[38;2;230;219;116;48;2;39;40;34m\"\u001b[0m\u001b[38;2;248;248;242;48;2;39;40;34m \u001b[0m\u001b[38;2;255;70;137;48;2;39;40;34m+\u001b[0m\u001b[38;2;248;248;242;48;2;39;40;34m \u001b[0m\u001b[38;2;248;248;242;48;2;39;40;34mresult\u001b[0m\u001b[48;2;39;40;34m                                                              \u001b[0m  \n",
       "  \u001b[38;2;248;248;242;48;2;39;40;34mfinal_answer\u001b[0m\u001b[38;2;248;248;242;48;2;39;40;34m(\u001b[0m\u001b[38;2;248;248;242;48;2;39;40;34mfinal_result\u001b[0m\u001b[38;2;248;248;242;48;2;39;40;34m)\u001b[0m\u001b[48;2;39;40;34m                                                                                     \u001b[0m  \n",
       " ───────────────────────────────────────────────────────────────────────────────────────────────────────────────── \n"
      ]
     },
     "metadata": {},
     "output_type": "display_data"
    },
    {
     "data": {
      "text/html": [
       "<pre style=\"white-space:pre;overflow-x:auto;line-height:normal;font-family:Menlo,'DejaVu Sans Mono',consolas,'Courier New',monospace\"><span style=\"color: #d4b702; text-decoration-color: #d4b702; font-weight: bold\">Out - Final answer: The table contains the following columns: id, price, area, bedrooms, bathrooms, stories, </span>\n",
       "<span style=\"color: #d4b702; text-decoration-color: #d4b702; font-weight: bold\">mainroad, guestroom, basement, hotwaterheating, airconditioning, parking, prefarea, furnishingstatus, </span>\n",
       "<span style=\"color: #d4b702; text-decoration-color: #d4b702; font-weight: bold\">contact_email, name, camps, Owed, Paid, Balance, Month, number. Most of the early columns have NULL values, while </span>\n",
       "<span style=\"color: #d4b702; text-decoration-color: #d4b702; font-weight: bold\">the later columns (contact_email, name, camps, etc.) have data. The retrieved rows are as follows:</span>\n",
       "\n",
       "<span style=\"color: #d4b702; text-decoration-color: #d4b702; font-weight: bold\">Table Rows:</span>\n",
       "<span style=\"color: #d4b702; text-decoration-color: #d4b702; font-weight: bold\">(1, None, None, None, None, None, None, None, None, None, None, None, None, None, 'fake1@fake.com', 'Johnny Smith',</span>\n",
       "<span style=\"color: #d4b702; text-decoration-color: #d4b702; font-weight: bold\">7, 150.0, 155.0, 5.0, 'january', 90)</span>\n",
       "<span style=\"color: #d4b702; text-decoration-color: #d4b702; font-weight: bold\">(2, None, None, None, None, None, None, None, None, None, None, None, None, None, 'fake2@fake.com', 'Lucki Tiller',</span>\n",
       "<span style=\"color: #d4b702; text-decoration-color: #d4b702; font-weight: bold\">4, 100.0, 75.0, -25.0, 'february', 45)</span>\n",
       "<span style=\"color: #d4b702; text-decoration-color: #d4b702; font-weight: bold\">(3, None, None, None, None, None, None, None, None, None, None, None, None, None, 'fake3@fake.com', 'Carter Anne', </span>\n",
       "<span style=\"color: #d4b702; text-decoration-color: #d4b702; font-weight: bold\">6, 100.0, 103.0, 3.0, 'march', 0)</span>\n",
       "<span style=\"color: #d4b702; text-decoration-color: #d4b702; font-weight: bold\">(4, None, None, None, None, None, None, None, None, None, None, None, None, None, 'fake4@fake.com', 'Martin James',</span>\n",
       "<span style=\"color: #d4b702; text-decoration-color: #d4b702; font-weight: bold\">1, 50.0, 60.0, 10.0, 'april', -45)</span>\n",
       "<span style=\"color: #d4b702; text-decoration-color: #d4b702; font-weight: bold\">(5, None, None, None, None, None, None, None, None, None, None, None, None, None, 'fake5@fake.com', 'Kole Adams', </span>\n",
       "<span style=\"color: #d4b702; text-decoration-color: #d4b702; font-weight: bold\">5, 50.0, 55.0, 5.0, 'may', -90)</span>\n",
       "<span style=\"color: #d4b702; text-decoration-color: #d4b702; font-weight: bold\">(6, None, None, None, None, None, None, None, None, None, None, None, None, None, 'fake6@fake.com', 'Marco King', </span>\n",
       "<span style=\"color: #d4b702; text-decoration-color: #d4b702; font-weight: bold\">2, 50.0, 65.0, 15.0, 'june', -135)</span>\n",
       "<span style=\"color: #d4b702; text-decoration-color: #d4b702; font-weight: bold\">(7, None, None, None, None, None, None, None, None, None, None, None, None, None, 'fake7@fake.com', 'Manny holmes',</span>\n",
       "<span style=\"color: #d4b702; text-decoration-color: #d4b702; font-weight: bold\">7, 150.0, 100.0, -50.0, 'july', -180)</span>\n",
       "<span style=\"color: #d4b702; text-decoration-color: #d4b702; font-weight: bold\">(8, None, None, None, None, None, None, None, None, None, None, None, None, None, 'fake8@fake.com', 'Steven Yeun', </span>\n",
       "<span style=\"color: #d4b702; text-decoration-color: #d4b702; font-weight: bold\">1, 50.0, 50.0, 0.0, 'august', -225)</span>\n",
       "<span style=\"color: #d4b702; text-decoration-color: #d4b702; font-weight: bold\">(9, None, None, None, None, None, None, None, None, None, None, None, None, None, 'fake9@fake.com', 'Chance Lutz', </span>\n",
       "<span style=\"color: #d4b702; text-decoration-color: #d4b702; font-weight: bold\">4, 100.0, 0.0, -100.0, 'september', -270)</span>\n",
       "\n",
       "</pre>\n"
      ],
      "text/plain": [
       "\u001b[1;38;2;212;183;2mOut - Final answer: The table contains the following columns: id, price, area, bedrooms, bathrooms, stories, \u001b[0m\n",
       "\u001b[1;38;2;212;183;2mmainroad, guestroom, basement, hotwaterheating, airconditioning, parking, prefarea, furnishingstatus, \u001b[0m\n",
       "\u001b[1;38;2;212;183;2mcontact_email, name, camps, Owed, Paid, Balance, Month, number. Most of the early columns have NULL values, while \u001b[0m\n",
       "\u001b[1;38;2;212;183;2mthe later columns (contact_email, name, camps, etc.) have data. The retrieved rows are as follows:\u001b[0m\n",
       "\n",
       "\u001b[1;38;2;212;183;2mTable Rows:\u001b[0m\n",
       "\u001b[1;38;2;212;183;2m(1, None, None, None, None, None, None, None, None, None, None, None, None, None, 'fake1@fake.com', 'Johnny Smith',\u001b[0m\n",
       "\u001b[1;38;2;212;183;2m7, 150.0, 155.0, 5.0, 'january', 90)\u001b[0m\n",
       "\u001b[1;38;2;212;183;2m(2, None, None, None, None, None, None, None, None, None, None, None, None, None, 'fake2@fake.com', 'Lucki Tiller',\u001b[0m\n",
       "\u001b[1;38;2;212;183;2m4, 100.0, 75.0, -25.0, 'february', 45)\u001b[0m\n",
       "\u001b[1;38;2;212;183;2m(3, None, None, None, None, None, None, None, None, None, None, None, None, None, 'fake3@fake.com', 'Carter Anne', \u001b[0m\n",
       "\u001b[1;38;2;212;183;2m6, 100.0, 103.0, 3.0, 'march', 0)\u001b[0m\n",
       "\u001b[1;38;2;212;183;2m(4, None, None, None, None, None, None, None, None, None, None, None, None, None, 'fake4@fake.com', 'Martin James',\u001b[0m\n",
       "\u001b[1;38;2;212;183;2m1, 50.0, 60.0, 10.0, 'april', -45)\u001b[0m\n",
       "\u001b[1;38;2;212;183;2m(5, None, None, None, None, None, None, None, None, None, None, None, None, None, 'fake5@fake.com', 'Kole Adams', \u001b[0m\n",
       "\u001b[1;38;2;212;183;2m5, 50.0, 55.0, 5.0, 'may', -90)\u001b[0m\n",
       "\u001b[1;38;2;212;183;2m(6, None, None, None, None, None, None, None, None, None, None, None, None, None, 'fake6@fake.com', 'Marco King', \u001b[0m\n",
       "\u001b[1;38;2;212;183;2m2, 50.0, 65.0, 15.0, 'june', -135)\u001b[0m\n",
       "\u001b[1;38;2;212;183;2m(7, None, None, None, None, None, None, None, None, None, None, None, None, None, 'fake7@fake.com', 'Manny holmes',\u001b[0m\n",
       "\u001b[1;38;2;212;183;2m7, 150.0, 100.0, -50.0, 'july', -180)\u001b[0m\n",
       "\u001b[1;38;2;212;183;2m(8, None, None, None, None, None, None, None, None, None, None, None, None, None, 'fake8@fake.com', 'Steven Yeun', \u001b[0m\n",
       "\u001b[1;38;2;212;183;2m1, 50.0, 50.0, 0.0, 'august', -225)\u001b[0m\n",
       "\u001b[1;38;2;212;183;2m(9, None, None, None, None, None, None, None, None, None, None, None, None, None, 'fake9@fake.com', 'Chance Lutz', \u001b[0m\n",
       "\u001b[1;38;2;212;183;2m4, 100.0, 0.0, -100.0, 'september', -270)\u001b[0m\n",
       "\n"
      ]
     },
     "metadata": {},
     "output_type": "display_data"
    },
    {
     "data": {
      "text/html": [
       "<pre style=\"white-space:pre;overflow-x:auto;line-height:normal;font-family:Menlo,'DejaVu Sans Mono',consolas,'Courier New',monospace\"><span style=\"color: #7f7f7f; text-decoration-color: #7f7f7f\">[Step 3: Duration 14.21 seconds| Input tokens: 10,566 | Output tokens: 2,385]</span>\n",
       "</pre>\n"
      ],
      "text/plain": [
       "\u001b[2m[Step 3: Duration 14.21 seconds| Input tokens: 10,566 | Output tokens: 2,385]\u001b[0m\n"
      ]
     },
     "metadata": {},
     "output_type": "display_data"
    }
   ],
   "source": [
    "def vote(data: gr.LikeData):\n",
    "    if data.liked:\n",
    "        print(\"You upvoted this response: \" + data.value[\"value\"])\n",
    "    else:\n",
    "        print(\"You downvoted this response: \" + data.value[\"value\"])\n",
    "\n",
    "def process_file(fileobj):\n",
    "    csv_path = PATHS.TEMP_PATH + os.path.basename(fileobj)\n",
    "    # copy file to path\n",
    "    shutil.copyfile(fileobj.name, csv_path)\n",
    "    return csv_2_dict(csv_path)\n",
    "\n",
    "def csv_2_dict(path):\n",
    "    # read csv as dataframe then drop empties\n",
    "    df = pd.read_csv(path)\n",
    "    df_cleaned = df.dropna()\n",
    "    # convert dataframe to a dictionary and save as pickle file\n",
    "    table_data = df_cleaned.to_dict(orient='list')\n",
    "    with open(PATHS.PKL_FILE_PATH, \"wb\") as f:\n",
    "        pickle.dump(table_data, f)\n",
    "\n",
    "def change_insert_mode(choice):\n",
    "    table_status = table_check()\n",
    "    if choice == \"Upload New\" and not \"NoSuchTableError\" in table_status:\n",
    "        sql_engine(f\"DROP TABLE {PATHS.TABLE_NAME};\")\n",
    "    else:\n",
    "        pass\n",
    "\n",
    "    \n",
    "with gr.Blocks() as demo:\n",
    "    with gr.Tab(\"Table Setup\"):\n",
    "        insert_mode = gr.Radio([\"Upload New\", \"Upload to Existing\"], label=\"Insertion Mode\", info=\"Warning selecting Upload New will immediately drop existing table, leaving unseleted will add to existing table.\")\n",
    "        insert_mode.input(fn=change_insert_mode, inputs=insert_mode, outputs=None)\n",
    "        gr.Markdown(\"Next upload the csv:\")\n",
    "        gr.Interface(\n",
    "            fn=process_file,\n",
    "            inputs=[\n",
    "                \"file\",\n",
    "            ],\n",
    "            outputs= None,\n",
    "            flagging_mode = \"never\"\n",
    "            )\n",
    "        column_type =  gr.Textbox(label=\"Enter column data types (String, Integer, Float) as a comma seperated list:\")\n",
    "        column_type_message = gr.Textbox(label=\"Feedback:\")\n",
    "        col_type_button = gr.Button(\"Submit\")\n",
    "        col_type_button.click(update_table, inputs=column_type, outputs=[column_type_message,])\n",
    "    with gr.Tab(\"Text2SQL Agent\"):\n",
    "        chatbot = gr.Chatbot(type=\"messages\" , placeholder=f\"<strong>Ask agent to perform a query.</strong>\" )\n",
    "        chatbot.like(vote, None, None)\n",
    "        gr.ChatInterface(fn=run_prompt, type=\"messages\", chatbot=chatbot)\n",
    "demo.launch(debug = True)"
   ]
  },
  {
   "cell_type": "code",
   "execution_count": null,
   "id": "e1b9f409-1e13-47d4-b432-9fd9ce11a232",
   "metadata": {},
   "outputs": [],
   "source": [
    "# String, String, Integer, Float, Float, Float, String, Integer\n",
    "# Integer, Integer, Integer, Integer, Integer, String, String, String, String, String, Integer, String, String"
   ]
  }
 ],
 "metadata": {
  "kernelspec": {
   "display_name": "Python 3 (ipykernel)",
   "language": "python",
   "name": "python3"
  },
  "language_info": {
   "codemirror_mode": {
    "name": "ipython",
    "version": 3
   },
   "file_extension": ".py",
   "mimetype": "text/x-python",
   "name": "python",
   "nbconvert_exporter": "python",
   "pygments_lexer": "ipython3",
   "version": "3.11.9"
  }
 },
 "nbformat": 4,
 "nbformat_minor": 5
}
